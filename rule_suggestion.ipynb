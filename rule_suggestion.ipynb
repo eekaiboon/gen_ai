{
  "nbformat": 4,
  "nbformat_minor": 0,
  "metadata": {
    "colab": {
      "provenance": [],
      "authorship_tag": "ABX9TyMo2PWi9+Bpz6vcbnqhJooy",
      "include_colab_link": true
    },
    "kernelspec": {
      "name": "python3",
      "display_name": "Python 3"
    },
    "language_info": {
      "name": "python"
    }
  },
  "cells": [
    {
      "cell_type": "markdown",
      "metadata": {
        "id": "view-in-github",
        "colab_type": "text"
      },
      "source": [
        "<a href=\"https://colab.research.google.com/github/eekaiboon/gen_ai/blob/main/rule_suggestion.ipynb\" target=\"_parent\"><img src=\"https://colab.research.google.com/assets/colab-badge.svg\" alt=\"Open In Colab\"/></a>"
      ]
    },
    {
      "cell_type": "markdown",
      "source": [
        "Install the OpenAI Python library"
      ],
      "metadata": {
        "id": "QURjQRa4ea55"
      }
    },
    {
      "cell_type": "code",
      "source": [
        "!pip install --upgrade openai"
      ],
      "metadata": {
        "colab": {
          "base_uri": "https://localhost:8080/"
        },
        "id": "caxpoK7LeYX6",
        "outputId": "0f74bf81-464a-480f-88ab-6806dae8eeff"
      },
      "execution_count": 7,
      "outputs": [
        {
          "output_type": "stream",
          "name": "stdout",
          "text": [
            "Defaulting to user installation because normal site-packages is not writeable\n",
            "Requirement already satisfied: openai in /Users/eekaiboon/Library/Python/3.9/lib/python/site-packages (1.2.3)\n",
            "Requirement already satisfied: anyio<4,>=3.5.0 in /Users/eekaiboon/Library/Python/3.9/lib/python/site-packages (from openai) (3.7.1)\n",
            "Requirement already satisfied: distro<2,>=1.7.0 in /Users/eekaiboon/Library/Python/3.9/lib/python/site-packages (from openai) (1.8.0)\n",
            "Requirement already satisfied: httpx<1,>=0.23.0 in /Users/eekaiboon/Library/Python/3.9/lib/python/site-packages (from openai) (0.25.1)\n",
            "Requirement already satisfied: pydantic<3,>=1.9.0 in /Users/eekaiboon/Library/Python/3.9/lib/python/site-packages (from openai) (2.4.2)\n",
            "Requirement already satisfied: tqdm>4 in /Users/eekaiboon/Library/Python/3.9/lib/python/site-packages (from openai) (4.66.1)\n",
            "Requirement already satisfied: typing-extensions<5,>=4.5 in /Users/eekaiboon/Library/Python/3.9/lib/python/site-packages (from openai) (4.8.0)\n",
            "Requirement already satisfied: idna>=2.8 in /Users/eekaiboon/Library/Python/3.9/lib/python/site-packages (from anyio<4,>=3.5.0->openai) (3.4)\n",
            "Requirement already satisfied: sniffio>=1.1 in /Users/eekaiboon/Library/Python/3.9/lib/python/site-packages (from anyio<4,>=3.5.0->openai) (1.3.0)\n",
            "Requirement already satisfied: exceptiongroup in /Users/eekaiboon/Library/Python/3.9/lib/python/site-packages (from anyio<4,>=3.5.0->openai) (1.1.3)\n",
            "Requirement already satisfied: certifi in /Users/eekaiboon/Library/Python/3.9/lib/python/site-packages (from httpx<1,>=0.23.0->openai) (2023.7.22)\n",
            "Requirement already satisfied: httpcore in /Users/eekaiboon/Library/Python/3.9/lib/python/site-packages (from httpx<1,>=0.23.0->openai) (1.0.1)\n",
            "Requirement already satisfied: annotated-types>=0.4.0 in /Users/eekaiboon/Library/Python/3.9/lib/python/site-packages (from pydantic<3,>=1.9.0->openai) (0.6.0)\n",
            "Requirement already satisfied: pydantic-core==2.10.1 in /Users/eekaiboon/Library/Python/3.9/lib/python/site-packages (from pydantic<3,>=1.9.0->openai) (2.10.1)\n",
            "Requirement already satisfied: h11<0.15,>=0.13 in /Users/eekaiboon/Library/Python/3.9/lib/python/site-packages (from httpcore->httpx<1,>=0.23.0->openai) (0.14.0)\n"
          ]
        }
      ]
    },
    {
      "cell_type": "code",
      "source": [
        "# @title Set up variables\n",
        "model = \"gpt-4-1106-preview\" # @param [\"gpt-3.5-turbo\", \"gpt-4\", \"gpt-4-1106-preview\"]\n",
        "system_content = \"You are an accountant. You are familiar with accounting tool that can be used to automate expense categorization.\" # @param {type:\"string\"}"
      ],
      "metadata": {
        "id": "LazHCcEWnv5u"
      },
      "execution_count": 9,
      "outputs": []
    },
    {
      "cell_type": "code",
      "source": [
        "user_content = \"\"\"\n",
        "`rule` can be used to automatically set the accounting fields of an expense.\n",
        "\n",
        "`accounting fields` are metadata that accountants add to an expense in order to provide more accounting context about the expense.\n",
        "Some examples of accounting fields are `general_ledger_account`, `department`, `class`, and `location`.\n",
        "\n",
        "Expense example:\n",
        "```\n",
        "{\n",
        "  \"expense_id\": \"exp_1\",\n",
        "  \"amount_usd_cents\": 1000,\n",
        "  \"accrued_at_epoch\": 1699750201,\n",
        "  \"memo\": \"Work laptop for a new hire\",\n",
        "  \"customer_account_id\": \"cuacc_1\",\n",
        "  \"employee\": {\n",
        "    \"department\": \"Engineering\"\n",
        "  }\n",
        "}\n",
        "```\n",
        "\n",
        "Rule example:\n",
        "```\n",
        "{\n",
        "  \"filter\": {\n",
        "    \"operator\": \"MATCH\",\n",
        "    \"target_field\": \"employee.department\",\n",
        "    \"target_value\": \"Engineering\"\n",
        "  },\n",
        "  \"action\": {\n",
        "    \"accounting_field\": \"department\",\n",
        "    \"accounting_field_value\": \"Engineering\"\n",
        "  }\n",
        "}\n",
        "```\n",
        "\n",
        "Expense after applying the above rule example:\n",
        "```\n",
        "{\n",
        "  \"expense_id\": \"exp_1\",\n",
        "  \"amount_usd_cents\": 1000,\n",
        "  \"accrued_at_epoch\": 1699750201,\n",
        "  \"memo\": \"Work laptop for a new hire\",\n",
        "  \"customer_account_id\": \"cuacc_1\",\n",
        "  \"employee\": {\n",
        "    \"department\": \"Engineering\"\n",
        "  }\n",
        "  \"accounting_fields\": {\n",
        "    \"department\": \"Engineering\"\n",
        "  }\n",
        "}\n",
        "```\n",
        "\n",
        "Here are a list of accounting fields that you can use to set the action part of\n",
        "a rule:\n",
        "[\n",
        "  {\n",
        "    \"accounting_field\": \"general_ledger\",\n",
        "    \"accounting_field_value\": \"Office Equipment\"\n",
        "  },\n",
        "  {\n",
        "    \"accounting_field\": \"general_ledger\",\n",
        "    \"accounting_field_value\": \"Accounts Payable\"\n",
        "  },\n",
        "  {\n",
        "    \"accounting_field\": \"general_ledger\",\n",
        "    \"accounting_field_value\": \"Accounts Receivable\"\n",
        "  },\n",
        "  {\n",
        "    \"accounting_field\": \"general_ledger\",\n",
        "    \"accounting_field_value\": \"Travel Expense\"\n",
        "  },\n",
        "  {\n",
        "    \"accounting_field\": \"department\",\n",
        "    \"accounting_field_value\": \"Engineering\"\n",
        "  },\n",
        "  {\n",
        "    \"accounting_field\": \"department\",\n",
        "    \"accounting_field_value\": \"Sales\"\n",
        "  }\n",
        "]\n",
        "\n",
        "Please create a rule for the following expense:\n",
        "```\n",
        "{\n",
        "  \"expense_id\": \"exp_1\",\n",
        "  \"amount_usd_cents\": 1000,\n",
        "  \"accrued_at_epoch\": 1699750201,\n",
        "  \"memo\": \"Travel to sales conference\",\n",
        "  \"customer_account_id\": \"cuacc_1\",\n",
        "  \"employee\": {\n",
        "    \"department\": \"Sales\"\n",
        "  }\n",
        "}\n",
        "```\n",
        "\"\"\""
      ],
      "metadata": {
        "id": "aYwThBZbp7zh"
      },
      "execution_count": 10,
      "outputs": []
    },
    {
      "cell_type": "code",
      "source": [
        "from openai import OpenAI\n",
        "\n",
        "# defaults to os.environ.get(\"OPENAI_API_KEY\")\n",
        "client = OpenAI()\n",
        "\n",
        "completion = client.chat.completions.create(\n",
        "  model = model,\n",
        "  messages = [\n",
        "    {\"role\": \"system\", \"content\": system_content},\n",
        "    {\"role\": \"user\", \"content\": user_content}\n",
        "  ]\n",
        ")\n",
        "\n",
        "print(completion.choices[0].message)"
      ],
      "metadata": {
        "id": "g5Wcr2WtjKYF",
        "outputId": "c30e3cbb-99c1-4dbd-b652-b46c448099c1",
        "colab": {
          "base_uri": "https://localhost:8080/"
        }
      },
      "execution_count": 11,
      "outputs": [
        {
          "output_type": "stream",
          "name": "stdout",
          "text": [
            "ChatCompletionMessage(content='Based on the expense example provided, we can create a rule to categorize this expense under the \"Travel Expense\" general ledger account and the \"Sales\" department. Here is how the rule can be defined:\\n\\n```json\\n{\\n  \"filter\": {\\n    \"operator\": \"MATCH\",\\n    \"target_field\": \"employee.department\",\\n    \"target_value\": \"Sales\"\\n  },\\n  \"action\": [\\n    {\\n      \"accounting_field\": \"general_ledger\",\\n      \"accounting_field_value\": \"Travel Expense\"\\n    },\\n    {\\n      \"accounting_field\": \"department\",\\n      \"accounting_field_value\": \"Sales\"\\n    }\\n  ]\\n}\\n```\\n\\nThis rule will categorize the expense under the \"Travel Expense\" general ledger due to the nature of the expense described in the memo, while also associating it with the \"Sales\" department based on the employee\\'s department information.\\n\\nApplying this rule to the provided expense would result in the following updated representation of the expense:\\n\\n```json\\n{\\n  \"expense_id\": \"exp_1\",\\n  \"amount_usd_cents\": 1000,\\n  \"accrued_at_epoch\": 1699750201,\\n  \"memo\": \"Travel to sales conference\",\\n  \"customer_account_id\": \"cuacc_1\",\\n  \"employee\": {\\n    \"department\": \"Sales\"\\n  },\\n  \"accounting_fields\": {\\n    \"general_ledger\": \"Travel Expense\",\\n    \"department\": \"Sales\"\\n  }\\n}\\n```', role='assistant', function_call=None, tool_calls=None)\n"
          ]
        }
      ]
    },
    {
      "cell_type": "code",
      "source": [
        "result = completion.choices[0].message.content\n",
        "print(result, end = \"\\n\")"
      ],
      "metadata": {
        "colab": {
          "base_uri": "https://localhost:8080/"
        },
        "id": "8AkpyYEB1-1t",
        "outputId": "5db8edc7-5ce7-4e01-cf29-b32182d3ad20"
      },
      "execution_count": 12,
      "outputs": [
        {
          "output_type": "stream",
          "name": "stdout",
          "text": [
            "Based on the expense example provided, we can create a rule to categorize this expense under the \"Travel Expense\" general ledger account and the \"Sales\" department. Here is how the rule can be defined:\n",
            "\n",
            "```json\n",
            "{\n",
            "  \"filter\": {\n",
            "    \"operator\": \"MATCH\",\n",
            "    \"target_field\": \"employee.department\",\n",
            "    \"target_value\": \"Sales\"\n",
            "  },\n",
            "  \"action\": [\n",
            "    {\n",
            "      \"accounting_field\": \"general_ledger\",\n",
            "      \"accounting_field_value\": \"Travel Expense\"\n",
            "    },\n",
            "    {\n",
            "      \"accounting_field\": \"department\",\n",
            "      \"accounting_field_value\": \"Sales\"\n",
            "    }\n",
            "  ]\n",
            "}\n",
            "```\n",
            "\n",
            "This rule will categorize the expense under the \"Travel Expense\" general ledger due to the nature of the expense described in the memo, while also associating it with the \"Sales\" department based on the employee's department information.\n",
            "\n",
            "Applying this rule to the provided expense would result in the following updated representation of the expense:\n",
            "\n",
            "```json\n",
            "{\n",
            "  \"expense_id\": \"exp_1\",\n",
            "  \"amount_usd_cents\": 1000,\n",
            "  \"accrued_at_epoch\": 1699750201,\n",
            "  \"memo\": \"Travel to sales conference\",\n",
            "  \"customer_account_id\": \"cuacc_1\",\n",
            "  \"employee\": {\n",
            "    \"department\": \"Sales\"\n",
            "  },\n",
            "  \"accounting_fields\": {\n",
            "    \"general_ledger\": \"Travel Expense\",\n",
            "    \"department\": \"Sales\"\n",
            "  }\n",
            "}\n",
            "```\n"
          ]
        }
      ]
    },
    {
      "cell_type": "markdown",
      "source": [
        "# Reference\n",
        "\n",
        "\n",
        "1.   [OpenAI Developer quickstart](https://platform.openai.com/docs/quickstart?context=python)\n",
        "2.   [Install Jupyter](https://jupyter.org/install)\n",
        "\n",
        "\n"
      ],
      "metadata": {
        "id": "KqhnW7IleLjN"
      }
    }
  ]
}