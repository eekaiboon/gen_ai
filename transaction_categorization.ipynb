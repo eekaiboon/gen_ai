{
  "nbformat": 4,
  "nbformat_minor": 0,
  "metadata": {
    "colab": {
      "provenance": [],
      "authorship_tag": "ABX9TyM3EA2jLzVW8/WsR2a1cnAE",
      "include_colab_link": true
    },
    "kernelspec": {
      "name": "python3",
      "display_name": "Python 3"
    },
    "language_info": {
      "name": "python"
    }
  },
  "cells": [
    {
      "cell_type": "markdown",
      "metadata": {
        "id": "view-in-github",
        "colab_type": "text"
      },
      "source": [
        "<a href=\"https://colab.research.google.com/github/eekaiboon/gen_ai/blob/main/transaction_categorization.ipynb\" target=\"_parent\"><img src=\"https://colab.research.google.com/assets/colab-badge.svg\" alt=\"Open In Colab\"/></a>"
      ]
    },
    {
      "cell_type": "markdown",
      "source": [
        "# Goal\n",
        "\n",
        "Automate expense categorization using LLM"
      ],
      "metadata": {
        "id": "3bdi2CRW6huh"
      }
    },
    {
      "cell_type": "markdown",
      "source": [
        "#Setup\n",
        "\n",
        "*   Use OpenAI Assistant API to build this AI agent\n",
        "*   Provide external tools such as access to database (e.g. table that stores accounting fields) for the OpenAI assistant"
      ],
      "metadata": {
        "id": "cSwXTE6o6qZr"
      }
    },
    {
      "cell_type": "code",
      "source": [
        "!pip install --upgrade llama-index"
      ],
      "metadata": {
        "colab": {
          "base_uri": "https://localhost:8080/"
        },
        "id": "qOU_60dH9dc7",
        "outputId": "c8915436-62fa-476e-df26-38f5e5c5f0fd"
      },
      "execution_count": 29,
      "outputs": [
        {
          "output_type": "stream",
          "name": "stdout",
          "text": [
            "Defaulting to user installation because normal site-packages is not writeable\n",
            "Requirement already satisfied: llama-index in /Users/eekaiboon/Library/Python/3.9/lib/python/site-packages (0.8.67)\n",
            "Collecting llama-index\n",
            "  Downloading llama_index-0.8.68-py3-none-any.whl.metadata (7.8 kB)\n",
            "Requirement already satisfied: SQLAlchemy>=1.4.49 in /Users/eekaiboon/Library/Python/3.9/lib/python/site-packages (from SQLAlchemy[asyncio]>=1.4.49->llama-index) (2.0.23)\n",
            "Requirement already satisfied: aiostream<0.6.0,>=0.5.2 in /Users/eekaiboon/Library/Python/3.9/lib/python/site-packages (from llama-index) (0.5.2)\n",
            "Requirement already satisfied: dataclasses-json<0.6.0,>=0.5.7 in /Users/eekaiboon/Library/Python/3.9/lib/python/site-packages (from llama-index) (0.5.14)\n",
            "Requirement already satisfied: deprecated>=1.2.9.3 in /Users/eekaiboon/Library/Python/3.9/lib/python/site-packages (from llama-index) (1.2.14)\n",
            "Requirement already satisfied: fsspec>=2023.5.0 in /Users/eekaiboon/Library/Python/3.9/lib/python/site-packages (from llama-index) (2023.10.0)\n",
            "Requirement already satisfied: langchain>=0.0.303 in /Users/eekaiboon/Library/Python/3.9/lib/python/site-packages (from llama-index) (0.0.334)\n",
            "Requirement already satisfied: nest-asyncio<2.0.0,>=1.5.8 in /Users/eekaiboon/Library/Python/3.9/lib/python/site-packages (from llama-index) (1.5.8)\n",
            "Requirement already satisfied: nltk<4.0.0,>=3.8.1 in /Users/eekaiboon/Library/Python/3.9/lib/python/site-packages (from llama-index) (3.8.1)\n",
            "Requirement already satisfied: numpy in /Users/eekaiboon/Library/Python/3.9/lib/python/site-packages (from llama-index) (1.26.1)\n",
            "Requirement already satisfied: openai>=1.1.0 in /Users/eekaiboon/Library/Python/3.9/lib/python/site-packages (from llama-index) (1.2.3)\n",
            "Requirement already satisfied: pandas in /Users/eekaiboon/Library/Python/3.9/lib/python/site-packages (from llama-index) (2.1.2)\n",
            "Requirement already satisfied: tenacity<9.0.0,>=8.2.0 in /Users/eekaiboon/Library/Python/3.9/lib/python/site-packages (from llama-index) (8.2.3)\n",
            "Requirement already satisfied: tiktoken>=0.3.3 in /Users/eekaiboon/Library/Python/3.9/lib/python/site-packages (from llama-index) (0.5.1)\n",
            "Requirement already satisfied: typing-extensions>=4.5.0 in /Users/eekaiboon/Library/Python/3.9/lib/python/site-packages (from llama-index) (4.8.0)\n",
            "Requirement already satisfied: typing-inspect>=0.8.0 in /Users/eekaiboon/Library/Python/3.9/lib/python/site-packages (from llama-index) (0.9.0)\n",
            "Requirement already satisfied: urllib3<2 in /Users/eekaiboon/Library/Python/3.9/lib/python/site-packages (from llama-index) (1.26.18)\n",
            "Requirement already satisfied: marshmallow<4.0.0,>=3.18.0 in /Users/eekaiboon/Library/Python/3.9/lib/python/site-packages (from dataclasses-json<0.6.0,>=0.5.7->llama-index) (3.20.1)\n",
            "Requirement already satisfied: wrapt<2,>=1.10 in /Users/eekaiboon/Library/Python/3.9/lib/python/site-packages (from deprecated>=1.2.9.3->llama-index) (1.15.0)\n",
            "Requirement already satisfied: PyYAML>=5.3 in /Users/eekaiboon/Library/Python/3.9/lib/python/site-packages (from langchain>=0.0.303->llama-index) (6.0.1)\n",
            "Requirement already satisfied: aiohttp<4.0.0,>=3.8.3 in /Users/eekaiboon/Library/Python/3.9/lib/python/site-packages (from langchain>=0.0.303->llama-index) (3.8.6)\n",
            "Requirement already satisfied: anyio<4.0 in /Users/eekaiboon/Library/Python/3.9/lib/python/site-packages (from langchain>=0.0.303->llama-index) (3.7.1)\n",
            "Requirement already satisfied: async-timeout<5.0.0,>=4.0.0 in /Users/eekaiboon/Library/Python/3.9/lib/python/site-packages (from langchain>=0.0.303->llama-index) (4.0.3)\n",
            "Requirement already satisfied: jsonpatch<2.0,>=1.33 in /Users/eekaiboon/Library/Python/3.9/lib/python/site-packages (from langchain>=0.0.303->llama-index) (1.33)\n",
            "Requirement already satisfied: langsmith<0.1.0,>=0.0.62 in /Users/eekaiboon/Library/Python/3.9/lib/python/site-packages (from langchain>=0.0.303->llama-index) (0.0.63)\n",
            "Requirement already satisfied: pydantic<3,>=1 in /Users/eekaiboon/Library/Python/3.9/lib/python/site-packages (from langchain>=0.0.303->llama-index) (2.4.2)\n",
            "Requirement already satisfied: requests<3,>=2 in /Users/eekaiboon/Library/Python/3.9/lib/python/site-packages (from langchain>=0.0.303->llama-index) (2.31.0)\n",
            "Requirement already satisfied: click in /Users/eekaiboon/Library/Python/3.9/lib/python/site-packages (from nltk<4.0.0,>=3.8.1->llama-index) (8.1.7)\n",
            "Requirement already satisfied: joblib in /Users/eekaiboon/Library/Python/3.9/lib/python/site-packages (from nltk<4.0.0,>=3.8.1->llama-index) (1.3.2)\n",
            "Requirement already satisfied: regex>=2021.8.3 in /Users/eekaiboon/Library/Python/3.9/lib/python/site-packages (from nltk<4.0.0,>=3.8.1->llama-index) (2023.10.3)\n",
            "Requirement already satisfied: tqdm in /Users/eekaiboon/Library/Python/3.9/lib/python/site-packages (from nltk<4.0.0,>=3.8.1->llama-index) (4.66.1)\n",
            "Requirement already satisfied: distro<2,>=1.7.0 in /Users/eekaiboon/Library/Python/3.9/lib/python/site-packages (from openai>=1.1.0->llama-index) (1.8.0)\n",
            "Requirement already satisfied: httpx<1,>=0.23.0 in /Users/eekaiboon/Library/Python/3.9/lib/python/site-packages (from openai>=1.1.0->llama-index) (0.25.1)\n",
            "Requirement already satisfied: greenlet!=0.4.17 in /Users/eekaiboon/Library/Python/3.9/lib/python/site-packages (from SQLAlchemy[asyncio]>=1.4.49->llama-index) (3.0.1)\n",
            "Requirement already satisfied: mypy-extensions>=0.3.0 in /Users/eekaiboon/Library/Python/3.9/lib/python/site-packages (from typing-inspect>=0.8.0->llama-index) (1.0.0)\n",
            "Requirement already satisfied: python-dateutil>=2.8.2 in /Users/eekaiboon/Library/Python/3.9/lib/python/site-packages (from pandas->llama-index) (2.8.2)\n",
            "Requirement already satisfied: pytz>=2020.1 in /Users/eekaiboon/Library/Python/3.9/lib/python/site-packages (from pandas->llama-index) (2023.3.post1)\n",
            "Requirement already satisfied: tzdata>=2022.1 in /Users/eekaiboon/Library/Python/3.9/lib/python/site-packages (from pandas->llama-index) (2023.3)\n",
            "Requirement already satisfied: attrs>=17.3.0 in /Users/eekaiboon/Library/Python/3.9/lib/python/site-packages (from aiohttp<4.0.0,>=3.8.3->langchain>=0.0.303->llama-index) (23.1.0)\n",
            "Requirement already satisfied: charset-normalizer<4.0,>=2.0 in /Users/eekaiboon/Library/Python/3.9/lib/python/site-packages (from aiohttp<4.0.0,>=3.8.3->langchain>=0.0.303->llama-index) (3.3.1)\n",
            "Requirement already satisfied: multidict<7.0,>=4.5 in /Users/eekaiboon/Library/Python/3.9/lib/python/site-packages (from aiohttp<4.0.0,>=3.8.3->langchain>=0.0.303->llama-index) (6.0.4)\n",
            "Requirement already satisfied: yarl<2.0,>=1.0 in /Users/eekaiboon/Library/Python/3.9/lib/python/site-packages (from aiohttp<4.0.0,>=3.8.3->langchain>=0.0.303->llama-index) (1.9.2)\n",
            "Requirement already satisfied: frozenlist>=1.1.1 in /Users/eekaiboon/Library/Python/3.9/lib/python/site-packages (from aiohttp<4.0.0,>=3.8.3->langchain>=0.0.303->llama-index) (1.4.0)\n",
            "Requirement already satisfied: aiosignal>=1.1.2 in /Users/eekaiboon/Library/Python/3.9/lib/python/site-packages (from aiohttp<4.0.0,>=3.8.3->langchain>=0.0.303->llama-index) (1.3.1)\n",
            "Requirement already satisfied: idna>=2.8 in /Users/eekaiboon/Library/Python/3.9/lib/python/site-packages (from anyio<4.0->langchain>=0.0.303->llama-index) (3.4)\n",
            "Requirement already satisfied: sniffio>=1.1 in /Users/eekaiboon/Library/Python/3.9/lib/python/site-packages (from anyio<4.0->langchain>=0.0.303->llama-index) (1.3.0)\n",
            "Requirement already satisfied: exceptiongroup in /Users/eekaiboon/Library/Python/3.9/lib/python/site-packages (from anyio<4.0->langchain>=0.0.303->llama-index) (1.1.3)\n",
            "Requirement already satisfied: certifi in /Users/eekaiboon/Library/Python/3.9/lib/python/site-packages (from httpx<1,>=0.23.0->openai>=1.1.0->llama-index) (2023.7.22)\n",
            "Requirement already satisfied: httpcore in /Users/eekaiboon/Library/Python/3.9/lib/python/site-packages (from httpx<1,>=0.23.0->openai>=1.1.0->llama-index) (1.0.1)\n",
            "Requirement already satisfied: jsonpointer>=1.9 in /Users/eekaiboon/Library/Python/3.9/lib/python/site-packages (from jsonpatch<2.0,>=1.33->langchain>=0.0.303->llama-index) (2.4)\n",
            "Requirement already satisfied: packaging>=17.0 in /Users/eekaiboon/Library/Python/3.9/lib/python/site-packages (from marshmallow<4.0.0,>=3.18.0->dataclasses-json<0.6.0,>=0.5.7->llama-index) (23.2)\n",
            "Requirement already satisfied: annotated-types>=0.4.0 in /Users/eekaiboon/Library/Python/3.9/lib/python/site-packages (from pydantic<3,>=1->langchain>=0.0.303->llama-index) (0.6.0)\n",
            "Requirement already satisfied: pydantic-core==2.10.1 in /Users/eekaiboon/Library/Python/3.9/lib/python/site-packages (from pydantic<3,>=1->langchain>=0.0.303->llama-index) (2.10.1)\n",
            "Requirement already satisfied: six>=1.5 in /Library/Developer/CommandLineTools/Library/Frameworks/Python3.framework/Versions/3.9/lib/python3.9/site-packages (from python-dateutil>=2.8.2->pandas->llama-index) (1.15.0)\n",
            "Requirement already satisfied: h11<0.15,>=0.13 in /Users/eekaiboon/Library/Python/3.9/lib/python/site-packages (from httpcore->httpx<1,>=0.23.0->openai>=1.1.0->llama-index) (0.14.0)\n",
            "Downloading llama_index-0.8.68-py3-none-any.whl (861 kB)\n",
            "\u001b[2K   \u001b[38;2;114;156;31m━━━━━━━━━━━━━━━━━━━━━━━━━━━━━━━━━━━━━━━━\u001b[0m \u001b[32m861.6/861.6 kB\u001b[0m \u001b[31m11.9 MB/s\u001b[0m eta \u001b[36m0:00:00\u001b[0m\n",
            "\u001b[?25hInstalling collected packages: llama-index\n",
            "  Attempting uninstall: llama-index\n",
            "    Found existing installation: llama-index 0.8.67\n",
            "    Uninstalling llama-index-0.8.67:\n",
            "      Successfully uninstalled llama-index-0.8.67\n",
            "Successfully installed llama-index-0.8.68\n"
          ]
        }
      ]
    },
    {
      "cell_type": "markdown",
      "source": [
        "# Create Database Schema"
      ],
      "metadata": {
        "id": "vMPeCuM4sksy"
      }
    },
    {
      "cell_type": "code",
      "source": [
        "import enum\n",
        "\n",
        "from sqlalchemy import (\n",
        "    create_engine,\n",
        "    MetaData,\n",
        "    Table,\n",
        "    Column,\n",
        "    String,\n",
        "    Integer,\n",
        "    select,\n",
        "    Enum,\n",
        ")\n",
        "\n",
        "engine = create_engine(\"sqlite:///:memory:\")\n",
        "metadata_obj = MetaData()\n",
        "\n",
        "# Create accounting fields table\n",
        "class FieldType(enum.Enum):\n",
        "    general_ledger_account = 1\n",
        "    location = 2\n",
        "\n",
        "table_name = \"accounting_fields\"\n",
        "accounting_fields_table = Table(\n",
        "    table_name,\n",
        "    metadata_obj,\n",
        "    Column(\"accounting_field_id\", String(128), primary_key=True),\n",
        "    Column(\"accounting_field_type\", Enum(FieldType)),\n",
        "    Column(\"accounting_field_value\", String(128)),\n",
        "    Column(\"customer_account_id\", String(128)),\n",
        ")\n",
        "metadata_obj.create_all(engine)"
      ],
      "metadata": {
        "id": "vjz8M_kR9scB"
      },
      "execution_count": 47,
      "outputs": []
    },
    {
      "cell_type": "markdown",
      "source": [
        "# Define SQL Database"
      ],
      "metadata": {
        "id": "NmVMWjhLu1Ox"
      }
    },
    {
      "cell_type": "code",
      "source": [
        "from llama_index import SQLDatabase, ServiceContext\n",
        "from llama_index.llms import OpenAI\n",
        "\n",
        "llm = OpenAI(model='gpt-4-1106-preview')\n",
        "service_context = ServiceContext.from_defaults(llm=llm)\n",
        "\n",
        "sql_database = SQLDatabase(engine, include_tables=[table_name])"
      ],
      "metadata": {
        "id": "An2z5qGju4Ya"
      },
      "execution_count": 48,
      "outputs": []
    },
    {
      "cell_type": "code",
      "source": [
        "from sqlalchemy import insert, delete\n",
        "\n",
        "# Clear the table first.\n",
        "stmt = delete(accounting_fields_table)\n",
        "with engine.begin() as connection:\n",
        "  cursor = connection.execute(stmt)\n",
        "\n",
        "# Insert rows.\n",
        "rows = [\n",
        "    {\"accounting_field_id\": \"f_1\", \"accounting_field_type\": FieldType.general_ledger_account, \"accounting_field_value\": \"Office Equipment\", \"customer_account_id\": \"cuacc_1\"},\n",
        "    {\"accounting_field_id\": \"f_2\", \"accounting_field_type\": FieldType.general_ledger_account, \"accounting_field_value\": \"Cost of Goods Sold\", \"customer_account_id\": \"cuacc_1\"},\n",
        "    {\"accounting_field_id\": \"f_3\", \"accounting_field_type\": FieldType.general_ledger_account, \"accounting_field_value\": \"Accounts Payable\", \"customer_account_id\": \"cuacc_1\"},\n",
        "    {\"accounting_field_id\": \"f_4\", \"accounting_field_type\": FieldType.general_ledger_account, \"accounting_field_value\": \"Accounts Receivable\", \"customer_account_id\": \"cuacc_1\"},\n",
        "    {\"accounting_field_id\": \"f_5\", \"accounting_field_type\": FieldType.location, \"accounting_field_value\": \"New York\", \"customer_account_id\": \"cuacc_1\"},\n",
        "    {\"accounting_field_id\": \"f_6\", \"accounting_field_type\": FieldType.location, \"accounting_field_value\": \"San Francisco\", \"customer_account_id\": \"cuacc_1\"},\n",
        "]\n",
        "for row in rows:\n",
        "    stmt = insert(accounting_fields_table).values(**row)\n",
        "    with engine.begin() as connection:\n",
        "        cursor = connection.execute(stmt)"
      ],
      "metadata": {
        "id": "p40d8GNBvd1n"
      },
      "execution_count": 69,
      "outputs": []
    },
    {
      "cell_type": "code",
      "source": [
        "# View current table.\n",
        "\n",
        "stmt = select(\n",
        "    accounting_fields_table.c.accounting_field_id,\n",
        "    accounting_fields_table.c.accounting_field_type,\n",
        "    accounting_fields_table.c.accounting_field_value,\n",
        "    accounting_fields_table.c.customer_account_id,\n",
        ").select_from(accounting_fields_table)\n",
        "\n",
        "with engine.connect() as connection:\n",
        "    results = connection.execute(stmt).fetchall()\n",
        "    print(results)"
      ],
      "metadata": {
        "colab": {
          "base_uri": "https://localhost:8080/"
        },
        "id": "xNtI3gae7P19",
        "outputId": "02f876af-01e1-4637-fe44-b8c5a067141d"
      },
      "execution_count": 70,
      "outputs": [
        {
          "output_type": "stream",
          "name": "stdout",
          "text": [
            "[('f_1', <FieldType.general_ledger_account: 1>, 'Office Equipment', 'cuacc_1'), ('f_2', <FieldType.general_ledger_account: 1>, 'Cost of Goods Sold', 'cuacc_1'), ('f_3', <FieldType.general_ledger_account: 1>, 'Accounts Payable', 'cuacc_1'), ('f_4', <FieldType.general_ledger_account: 1>, 'Accounts Receivable', 'cuacc_1'), ('f_5', <FieldType.location: 2>, 'New York', 'cuacc_1'), ('f_6', <FieldType.location: 2>, 'San Francisco', 'cuacc_1')]\n"
          ]
        }
      ]
    },
    {
      "cell_type": "markdown",
      "source": [
        "# Define Text-to-SQL Query Engine Tool"
      ],
      "metadata": {
        "id": "Ak1b7x8w71zq"
      }
    },
    {
      "cell_type": "code",
      "source": [
        "from llama_index.indices.struct_store.sql_query import NLSQLTableQueryEngine\n",
        "\n",
        "query_engine = NLSQLTableQueryEngine(\n",
        "    sql_database=sql_database,\n",
        "    tables=[\"accounting_fields\"],\n",
        ")\n",
        "query_str = \"What are the general ledger accounts of `cuacc_1`\"\n",
        "response = query_engine.query(query_str)"
      ],
      "metadata": {
        "id": "kDLebF4F71dz"
      },
      "execution_count": 71,
      "outputs": []
    },
    {
      "cell_type": "code",
      "source": [
        "from IPython.display import Markdown, display\n",
        "\n",
        "display(Markdown(f\"<b>{response}</b>\"))"
      ],
      "metadata": {
        "colab": {
          "base_uri": "https://localhost:8080/",
          "height": 46
        },
        "id": "WjT3tGfC8OJs",
        "outputId": "9af1d686-aad1-4d3a-f333-69c730dcf066"
      },
      "execution_count": 72,
      "outputs": [
        {
          "output_type": "display_data",
          "data": {
            "text/plain": [
              "<IPython.core.display.Markdown object>"
            ],
            "text/markdown": "<b>The general ledger accounts of `cuacc_1` are Office Equipment, Cost of Goods Sold, Accounts Payable, and Accounts Receivable.</b>"
          },
          "metadata": {}
        }
      ]
    },
    {
      "cell_type": "code",
      "source": [
        "from llama_index.tools.query_engine import QueryEngineTool\n",
        "\n",
        "sql_tool = QueryEngineTool.from_defaults(\n",
        "    query_engine=query_engine,\n",
        "    name=\"sql_tool\",\n",
        "    description=(\n",
        "        \"\"\"Useful for translating a natural language query into a SQL query over\n",
        "           a table named `accounting_fields`, which contains accounting_field_id,\n",
        "           accounting_field_type, accounting_field_value, and customer_accounting_id.\n",
        "        \"\"\"\n",
        "    ),\n",
        ")"
      ],
      "metadata": {
        "id": "hh6njm9v-YnY"
      },
      "execution_count": 73,
      "outputs": []
    },
    {
      "cell_type": "markdown",
      "source": [
        "# Initialize Agent"
      ],
      "metadata": {
        "id": "uH0o7VuU-5Fi"
      }
    },
    {
      "cell_type": "code",
      "source": [
        "from llama_index.agent import OpenAIAssistantAgent\n",
        "\n",
        "agent = OpenAIAssistantAgent.from_new(\n",
        "    name=\"Accountant bot\",\n",
        "    instructions=\"\"\"You are a bot designed to perform accounting related job,\n",
        "      just like an accountant. Specifically, you are capable of understanding\n",
        "      expenses by employees and assign accounting fields to them so that we can\n",
        "      import the expenses with correct categorization of accounting fields\n",
        "      before importing them to accounting software.\n",
        "    \"\"\",\n",
        "    tools=[sql_tool],\n",
        "    verbose=True,\n",
        ")"
      ],
      "metadata": {
        "id": "JtuwaLe2-7NG"
      },
      "execution_count": 74,
      "outputs": []
    },
    {
      "cell_type": "code",
      "source": [
        "expense = \"\"\"\n",
        "{\n",
        "  \"expense_id\": \"exp_1\",\n",
        "  \"amount_usd_cents\": 1000,\n",
        "  \"accrued_at_epoch\": 1699750201,\n",
        "  \"memo\": \"Work laptop for new engineer based in New York\",\n",
        "  \"customer_account_id\": \"cuacc_1\"\n",
        "}\n",
        "\"\"\"\n",
        "\n",
        "user_query = f\"\"\"\n",
        "You are given the following expense in json.\n",
        "\n",
        "Expense:\n",
        "```json\n",
        "{expense}\n",
        "```\n",
        "\n",
        "Please figure out how we should set the general ledger account accounting field\n",
        "for the expense.\n",
        "\"\"\".replace(\n",
        "    \"{\", \"{{\"\n",
        ").replace(\n",
        "    \"}\", \"}}\"\n",
        ")\n",
        "\n",
        "print(user_query)"
      ],
      "metadata": {
        "colab": {
          "base_uri": "https://localhost:8080/"
        },
        "id": "Rj6_ZWJN_z7f",
        "outputId": "da99eda7-4ae9-472f-c3e4-227a850832e1"
      },
      "execution_count": 75,
      "outputs": [
        {
          "output_type": "stream",
          "name": "stdout",
          "text": [
            "\n",
            "You are given the following expense in json.\n",
            "\n",
            "Expense:\n",
            "```json\n",
            "\n",
            "{{\n",
            "  \"expense_id\": \"exp_1\",\n",
            "  \"amount_usd_cents\": 1000,\n",
            "  \"accrued_at_epoch\": 1699750201,\n",
            "  \"memo\": \"Work laptop for new engineer based in New York\",\n",
            "  \"customer_account_id\": \"cuacc_1\"\n",
            "}}\n",
            "\n",
            "```\n",
            "\n",
            "Please figure out how we should set the general ledger account accounting field\n",
            "for the expense.\n",
            "\n"
          ]
        }
      ]
    },
    {
      "cell_type": "code",
      "source": [
        "response = agent.chat(user_query)\n",
        "print(str(response))"
      ],
      "metadata": {
        "colab": {
          "base_uri": "https://localhost:8080/"
        },
        "id": "U0sKmsRMB5ao",
        "outputId": "e9da8254-9c5f-4421-ffb8-c4430c8f7252"
      },
      "execution_count": 76,
      "outputs": [
        {
          "output_type": "stream",
          "name": "stdout",
          "text": [
            "=== Calling Function ===\n",
            "Calling function: sql_tool with args: {\n",
            "  \"input\": \"SELECT * FROM accounting_fields WHERE accounting_field_type = 'general_ledger_account' AND customer_accounting_id = 'cuacc_1'\"\n",
            "}\n",
            "Got output: The general ledger accounts for customer cuacc_1 are Office Equipment, Cost of Goods Sold, Accounts Payable, and Accounts Receivable.\n",
            "========================\n",
            "To set the general ledger account accounting field for the expense related to the \"Work laptop for new engineer based in New York,\" we should assign it to the \"Office Equipment\" general ledger account, as this expense is for an asset that the company will use over time. \n",
            "\n",
            "Thus, the general ledger account accounting field for expense_id \"exp_1\" will be \"Office Equipment.\"\n"
          ]
        }
      ]
    }
  ]
}