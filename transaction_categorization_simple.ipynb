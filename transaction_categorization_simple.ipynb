{
  "nbformat": 4,
  "nbformat_minor": 0,
  "metadata": {
    "colab": {
      "provenance": [],
      "authorship_tag": "ABX9TyPpM7SOuXAC9hA18XWgT4sZ",
      "include_colab_link": true
    },
    "kernelspec": {
      "name": "python3",
      "display_name": "Python 3"
    },
    "language_info": {
      "name": "python"
    }
  },
  "cells": [
    {
      "cell_type": "markdown",
      "metadata": {
        "id": "view-in-github",
        "colab_type": "text"
      },
      "source": [
        "<a href=\"https://colab.research.google.com/github/eekaiboon/gen_ai/blob/main/transaction_categorization_simple.ipynb\" target=\"_parent\"><img src=\"https://colab.research.google.com/assets/colab-badge.svg\" alt=\"Open In Colab\"/></a>"
      ]
    },
    {
      "cell_type": "markdown",
      "source": [
        "Install the OpenAI Python library"
      ],
      "metadata": {
        "id": "QURjQRa4ea55"
      }
    },
    {
      "cell_type": "code",
      "source": [
        "!pip install --upgrade openai"
      ],
      "metadata": {
        "colab": {
          "base_uri": "https://localhost:8080/"
        },
        "id": "caxpoK7LeYX6",
        "outputId": "7df3acc4-171b-4fc0-9a19-faaf987005cc"
      },
      "execution_count": null,
      "outputs": [
        {
          "output_type": "stream",
          "name": "stdout",
          "text": [
            "Defaulting to user installation because normal site-packages is not writeable\r\n",
            "Requirement already satisfied: openai in /Users/eekaiboon/Library/Python/3.9/lib/python/site-packages (1.2.3)\n",
            "Requirement already satisfied: anyio<4,>=3.5.0 in /Users/eekaiboon/Library/Python/3.9/lib/python/site-packages (from openai) (3.7.1)\n",
            "Requirement already satisfied: distro<2,>=1.7.0 in /Users/eekaiboon/Library/Python/3.9/lib/python/site-packages (from openai) (1.8.0)\n",
            "Requirement already satisfied: httpx<1,>=0.23.0 in /Users/eekaiboon/Library/Python/3.9/lib/python/site-packages (from openai) (0.25.1)\n",
            "Requirement already satisfied: pydantic<3,>=1.9.0 in /Users/eekaiboon/Library/Python/3.9/lib/python/site-packages (from openai) (2.4.2)\n",
            "Requirement already satisfied: tqdm>4 in /Users/eekaiboon/Library/Python/3.9/lib/python/site-packages (from openai) (4.66.1)\n",
            "Requirement already satisfied: typing-extensions<5,>=4.5 in /Users/eekaiboon/Library/Python/3.9/lib/python/site-packages (from openai) (4.8.0)\n",
            "Requirement already satisfied: idna>=2.8 in /Users/eekaiboon/Library/Python/3.9/lib/python/site-packages (from anyio<4,>=3.5.0->openai) (3.4)\n",
            "Requirement already satisfied: sniffio>=1.1 in /Users/eekaiboon/Library/Python/3.9/lib/python/site-packages (from anyio<4,>=3.5.0->openai) (1.3.0)\n",
            "Requirement already satisfied: exceptiongroup in /Users/eekaiboon/Library/Python/3.9/lib/python/site-packages (from anyio<4,>=3.5.0->openai) (1.1.3)\n",
            "Requirement already satisfied: certifi in /Users/eekaiboon/Library/Python/3.9/lib/python/site-packages (from httpx<1,>=0.23.0->openai) (2023.7.22)\n",
            "Requirement already satisfied: httpcore in /Users/eekaiboon/Library/Python/3.9/lib/python/site-packages (from httpx<1,>=0.23.0->openai) (1.0.1)\n",
            "Requirement already satisfied: annotated-types>=0.4.0 in /Users/eekaiboon/Library/Python/3.9/lib/python/site-packages (from pydantic<3,>=1.9.0->openai) (0.6.0)\n",
            "Requirement already satisfied: pydantic-core==2.10.1 in /Users/eekaiboon/Library/Python/3.9/lib/python/site-packages (from pydantic<3,>=1.9.0->openai) (2.10.1)\n",
            "Requirement already satisfied: h11<0.15,>=0.13 in /Users/eekaiboon/Library/Python/3.9/lib/python/site-packages (from httpcore->httpx<1,>=0.23.0->openai) (0.14.0)\n"
          ]
        }
      ]
    },
    {
      "cell_type": "code",
      "source": [
        "# @title Set up variables\n",
        "model = \"gpt-4-1106-preview\" # @param [\"gpt-3.5-turbo\", \"gpt-4\", \"gpt-4-1106-preview\"]\n",
        "system_content = \"You are an accountant. You are familiar with accounting tool that can be used to automate expense categorization.\" # @param {type:\"string\"}\n",
        "user_content = \"Compare the product offering of Brex vs. Ramp\"\n"
      ],
      "metadata": {
        "id": "LazHCcEWnv5u"
      },
      "execution_count": null,
      "outputs": []
    },
    {
      "cell_type": "code",
      "source": [
        "user_content = \"\"\"\n",
        "`rule` can be used to automatically set the accounting fields of an expense.\n",
        "\n",
        "`accounting fields` are metadata that accountants add to an expense in order to provide more accounting context about the expense.\n",
        "Some examples of accounting fields are `general_ledger_account`, `department`, `class`, and `location`.\n",
        "\n",
        "Expense example:\n",
        "```\n",
        "{\n",
        "  \"expense_id\": \"exp_1\",\n",
        "  \"amount_usd_cents\": 1000,\n",
        "  \"accrued_at_epoch\": 1699750201,\n",
        "  \"memo\": \"Work laptop for a new hire\",\n",
        "  \"customer_account_id\": \"cuacc_1\"\n",
        "}\n",
        "```\n",
        "\n",
        "Example of the same expense and with accounting fields:\n",
        "```\n",
        "{\n",
        "  \"expense_id\": \"exp_1\",\n",
        "  \"amount_usd_cents\": 1000,\n",
        "  \"accrued_at_epoch\": 1699750201,\n",
        "  \"memo\": \"Work laptop for a new hire software engineer\",\n",
        "  \"customer_account_id\": \"cuacc_1\",\n",
        "  \"accounting_fields\": {\n",
        "    \"debit_general_ledger_account\": \"Office Equipment\",\n",
        "    \"credit_general_ledger_account\": \"Accounts Payable\",\n",
        "    \"department\": \"Engineering\"\n",
        "  }\n",
        "}\n",
        "```\n",
        "\n",
        "Here are a list of accounting fields that you can use to categorize an expense\n",
        "(Note that the `general_ledger` accounting field type can be used to set both\n",
        "the `debit_general_ledger_account` and `credit_general_ledger_account`\n",
        "accounting fields of an expense):\n",
        "[\n",
        "  {\n",
        "    \"accounting_field_type\": \"general_ledger\",\n",
        "    \"accounting_field_value\": \"Office Equipment\"\n",
        "  },\n",
        "  {\n",
        "    \"accounting_field_type\": \"general_ledger\",\n",
        "    \"accounting_field_value\": \"Accounts Payable\"\n",
        "  },\n",
        "  {\n",
        "    \"accounting_field_type\": \"general_ledger\",\n",
        "    \"accounting_field_value\": \"Accounts Receivable\"\n",
        "  },\n",
        "  {\n",
        "    \"accounting_field_type\": \"general_ledger\",\n",
        "    \"accounting_field_value\": \"Travel Expense\"\n",
        "  },\n",
        "  {\n",
        "    \"accounting_field_type\": \"department\",\n",
        "    \"accounting_field_value\": \"Engineering\"\n",
        "  },\n",
        "  {\n",
        "    \"accounting_field_type\": \"department\",\n",
        "    \"accounting_field_value\": \"Sales\"\n",
        "  }\n",
        "]\n",
        "\n",
        "Please set accounting fields for the following expense and output the result in\n",
        "json format simlar to the example provided:\n",
        "```\n",
        "{\n",
        "  \"expense_id\": \"exp_2\",\n",
        "  \"amount_usd_cents\": 2500,\n",
        "  \"accrued_at_epoch\": 1699750400,\n",
        "  \"memo\": \"Lunch when travelling to company engineering offsite\",\n",
        "  \"customer_account_id\": \"cuacc_1\"\n",
        "}\n",
        "```\n",
        "\"\"\""
      ],
      "metadata": {
        "id": "aYwThBZbp7zh"
      },
      "execution_count": null,
      "outputs": []
    },
    {
      "cell_type": "code",
      "source": [
        "from openai import OpenAI\n",
        "\n",
        "# defaults to os.environ.get(\"OPENAI_API_KEY\")\n",
        "client = OpenAI()\n",
        "\n",
        "completion = client.chat.completions.create(\n",
        "  model = model,\n",
        "  messages = [\n",
        "    {\"role\": \"system\", \"content\": system_content},\n",
        "    {\"role\": \"user\", \"content\": user_content}\n",
        "  ]\n",
        ")\n",
        "\n",
        "print(completion.choices[0].message)"
      ],
      "metadata": {
        "id": "g5Wcr2WtjKYF",
        "outputId": "014b0647-640a-4a6a-aef3-a522b8ef1bed",
        "colab": {
          "base_uri": "https://localhost:8080/"
        }
      },
      "execution_count": null,
      "outputs": [
        {
          "output_type": "stream",
          "name": "stdout",
          "text": [
            "ChatCompletionMessage(content='Based on the expense information provided, it seems appropriate to categorize the expense under \"Travel Expense\" for the general ledger account, as it pertains to costs incurred while traveling. Additionally, since the event mentioned is an engineering offsite, the department can be categorized under \"Engineering.\"\\n\\nTherefore, the expense with the added accounting fields would look something like this in json format:\\n\\n```json\\n{\\n  \"expense_id\": \"exp_2\",\\n  \"amount_usd_cents\": 2500,\\n  \"accrued_at_epoch\": 1699750400,\\n  \"memo\": \"Lunch when travelling to company engineering offsite\",\\n  \"customer_account_id\": \"cuacc_1\",\\n  \"accounting_fields\": {\\n    \"debit_general_ledger_account\": \"Travel Expense\",\\n    \"credit_general_ledger_account\": \"Accounts Payable\",\\n    \"department\": \"Engineering\"\\n  }\\n}\\n```\\n\\nThe debit account \"Travel Expense\" is selected as it directly relates to the nature of the expense, i.e., a meal cost during travel. The credit account is typically \"Accounts Payable\" for external expenses waiting to be paid. The department is set as \"Engineering\" based on the mention of the company\\'s engineering offsite in the memo field.', role='assistant', function_call=None, tool_calls=None)\n"
          ]
        }
      ]
    },
    {
      "cell_type": "code",
      "source": [
        "result = completion.choices[0].message.content\n",
        "print(result, end = \"\\n\")"
      ],
      "metadata": {
        "colab": {
          "base_uri": "https://localhost:8080/"
        },
        "id": "8AkpyYEB1-1t",
        "outputId": "48c1c1b8-1ded-488f-c910-6da1d81b9399"
      },
      "execution_count": null,
      "outputs": [
        {
          "output_type": "stream",
          "name": "stdout",
          "text": [
            "Based on the expense information provided, it seems appropriate to categorize the expense under \"Travel Expense\" for the general ledger account, as it pertains to costs incurred while traveling. Additionally, since the event mentioned is an engineering offsite, the department can be categorized under \"Engineering.\"\n",
            "\n",
            "Therefore, the expense with the added accounting fields would look something like this in json format:\n",
            "\n",
            "```json\n",
            "{\n",
            "  \"expense_id\": \"exp_2\",\n",
            "  \"amount_usd_cents\": 2500,\n",
            "  \"accrued_at_epoch\": 1699750400,\n",
            "  \"memo\": \"Lunch when travelling to company engineering offsite\",\n",
            "  \"customer_account_id\": \"cuacc_1\",\n",
            "  \"accounting_fields\": {\n",
            "    \"debit_general_ledger_account\": \"Travel Expense\",\n",
            "    \"credit_general_ledger_account\": \"Accounts Payable\",\n",
            "    \"department\": \"Engineering\"\n",
            "  }\n",
            "}\n",
            "```\n",
            "\n",
            "The debit account \"Travel Expense\" is selected as it directly relates to the nature of the expense, i.e., a meal cost during travel. The credit account is typically \"Accounts Payable\" for external expenses waiting to be paid. The department is set as \"Engineering\" based on the mention of the company's engineering offsite in the memo field.\n"
          ]
        }
      ]
    },
    {
      "cell_type": "markdown",
      "source": [
        "# Reference\n",
        "\n",
        "\n",
        "1.   [OpenAI Developer quickstart](https://platform.openai.com/docs/quickstart?context=python)\n",
        "2.   [Install Jupyter](https://jupyter.org/install)\n",
        "\n",
        "\n"
      ],
      "metadata": {
        "id": "KqhnW7IleLjN"
      }
    }
  ]
}