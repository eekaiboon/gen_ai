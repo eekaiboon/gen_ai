{
 "cells": [
  {
   "cell_type": "code",
   "execution_count": 1,
   "id": "bfb1c4d4-215d-4f07-9c17-24241fa86fd6",
   "metadata": {},
   "outputs": [],
   "source": [
    "from fastai.text.all import *"
   ]
  },
  {
   "cell_type": "code",
   "execution_count": 2,
   "id": "61aeda50-a517-4e8d-a3eb-31289b5e830c",
   "metadata": {},
   "outputs": [
    {
     "data": {
      "text/html": [
       "<div>\n",
       "<style scoped>\n",
       "    .dataframe tbody tr th:only-of-type {\n",
       "        vertical-align: middle;\n",
       "    }\n",
       "\n",
       "    .dataframe tbody tr th {\n",
       "        vertical-align: top;\n",
       "    }\n",
       "\n",
       "    .dataframe thead th {\n",
       "        text-align: right;\n",
       "    }\n",
       "</style>\n",
       "<table border=\"1\" class=\"dataframe\">\n",
       "  <thead>\n",
       "    <tr style=\"text-align: right;\">\n",
       "      <th></th>\n",
       "      <th>description</th>\n",
       "      <th>category</th>\n",
       "    </tr>\n",
       "  </thead>\n",
       "  <tbody>\n",
       "    <tr>\n",
       "      <th>0</th>\n",
       "      <td>TRADER JOE S #068 Merchandise</td>\n",
       "      <td>Groceries &amp; Food</td>\n",
       "    </tr>\n",
       "    <tr>\n",
       "      <th>1</th>\n",
       "      <td>WHOLEFDS SVL#10707 Groceries</td>\n",
       "      <td>Groceries &amp; Food</td>\n",
       "    </tr>\n",
       "    <tr>\n",
       "      <th>2</th>\n",
       "      <td>Amazon.com Shopping</td>\n",
       "      <td>Amazon</td>\n",
       "    </tr>\n",
       "    <tr>\n",
       "      <th>3</th>\n",
       "      <td>OPENAI Shopping</td>\n",
       "      <td>Subscriptions &amp; Memberships</td>\n",
       "    </tr>\n",
       "    <tr>\n",
       "      <th>4</th>\n",
       "      <td>Amazon.com*NH99Y5J73 Shopping</td>\n",
       "      <td>Amazon</td>\n",
       "    </tr>\n",
       "  </tbody>\n",
       "</table>\n",
       "</div>"
      ],
      "text/plain": [
       "                     description                     category\n",
       "0  TRADER JOE S #068 Merchandise             Groceries & Food\n",
       "1   WHOLEFDS SVL#10707 Groceries             Groceries & Food\n",
       "2            Amazon.com Shopping                       Amazon\n",
       "3                OPENAI Shopping  Subscriptions & Memberships\n",
       "4  Amazon.com*NH99Y5J73 Shopping                       Amazon"
      ]
     },
     "execution_count": 2,
     "metadata": {},
     "output_type": "execute_result"
    }
   ],
   "source": [
    "df = pd.read_csv('./expenses.csv')\n",
    "df.head()"
   ]
  },
  {
   "cell_type": "code",
   "execution_count": 3,
   "id": "98b9f1c8-56e9-4454-8b97-0d0b5197bd3a",
   "metadata": {},
   "outputs": [
    {
     "data": {
      "text/html": [
       "\n",
       "<style>\n",
       "    /* Turns off some styling */\n",
       "    progress {\n",
       "        /* gets rid of default border in Firefox and Opera. */\n",
       "        border: none;\n",
       "        /* Needs to be in here for Safari polyfill so background images work as expected. */\n",
       "        background-size: auto;\n",
       "    }\n",
       "    progress:not([value]), progress:not([value])::-webkit-progress-bar {\n",
       "        background: repeating-linear-gradient(45deg, #7e7e7e, #7e7e7e 10px, #5c5c5c 10px, #5c5c5c 20px);\n",
       "    }\n",
       "    .progress-bar-interrupted, .progress-bar-interrupted::-webkit-progress-bar {\n",
       "        background: #F44336;\n",
       "    }\n",
       "</style>\n"
      ],
      "text/plain": [
       "<IPython.core.display.HTML object>"
      ]
     },
     "metadata": {},
     "output_type": "display_data"
    },
    {
     "data": {
      "text/html": [],
      "text/plain": [
       "<IPython.core.display.HTML object>"
      ]
     },
     "metadata": {},
     "output_type": "display_data"
    },
    {
     "data": {
      "text/html": [
       "<table border=\"1\" class=\"dataframe\">\n",
       "  <thead>\n",
       "    <tr style=\"text-align: right;\">\n",
       "      <th></th>\n",
       "      <th>text</th>\n",
       "      <th>category</th>\n",
       "    </tr>\n",
       "  </thead>\n",
       "  <tbody>\n",
       "    <tr>\n",
       "      <th>0</th>\n",
       "      <td>xxbos xxup target xxup debit xxup crd xxup ach xxup tran xxrep 3 0 716475562584 xxup pos xxup i d : 1410215170</td>\n",
       "      <td>Target</td>\n",
       "    </tr>\n",
       "    <tr>\n",
       "      <th>1</th>\n",
       "      <td>xxbos xxup target xxup debit xxup crd xxup ach xxup tran xxrep 3 0 xxunk xxup web xxup i d : 1410215170</td>\n",
       "      <td>Target</td>\n",
       "    </tr>\n",
       "    <tr>\n",
       "      <th>2</th>\n",
       "      <td>xxbos xxup target xxup debit xxup crd xxup ach xxup tran xxrep 3 0 716475562584 xxup pos xxup i d : 1410215170</td>\n",
       "      <td>Target</td>\n",
       "    </tr>\n",
       "  </tbody>\n",
       "</table>"
      ],
      "text/plain": [
       "<IPython.core.display.HTML object>"
      ]
     },
     "metadata": {},
     "output_type": "display_data"
    }
   ],
   "source": [
    "dls = TextDataLoaders.from_csv(\n",
    "    path='.',\n",
    "    csv_fname='expenses.csv',\n",
    "    text_col='description',\n",
    "    label_col='category')\n",
    "dls.show_batch(max_n=3)"
   ]
  },
  {
   "cell_type": "code",
   "execution_count": 4,
   "id": "7448858d-c887-47a4-b3df-d7728ee5a07a",
   "metadata": {},
   "outputs": [
    {
     "name": "stdout",
     "output_type": "stream",
     "text": [
      "Training size: 358\n",
      "Validation size: 89\n"
     ]
    }
   ],
   "source": [
    "train_size = len(dls.train_ds)\n",
    "valid_size = len(dls.valid_ds)\n",
    "\n",
    "print(f\"Training size: {train_size}\")\n",
    "print(f\"Validation size: {valid_size}\")"
   ]
  },
  {
   "cell_type": "markdown",
   "id": "ee55c7db-f484-4f93-bfeb-0faf11f58026",
   "metadata": {},
   "source": [
    "# Fine tuning"
   ]
  },
  {
   "cell_type": "code",
   "execution_count": 5,
   "id": "4fc5ec45-9405-4972-ad9e-c7c913eb011b",
   "metadata": {},
   "outputs": [],
   "source": [
    "learn_finetune = text_classifier_learner(dls, AWD_LSTM, drop_mult=0.5, metrics=accuracy)"
   ]
  },
  {
   "cell_type": "code",
   "execution_count": 6,
   "id": "07406dcb-ff09-43bc-8cce-9ba5ec68959f",
   "metadata": {},
   "outputs": [
    {
     "data": {
      "text/html": [
       "\n",
       "<style>\n",
       "    /* Turns off some styling */\n",
       "    progress {\n",
       "        /* gets rid of default border in Firefox and Opera. */\n",
       "        border: none;\n",
       "        /* Needs to be in here for Safari polyfill so background images work as expected. */\n",
       "        background-size: auto;\n",
       "    }\n",
       "    progress:not([value]), progress:not([value])::-webkit-progress-bar {\n",
       "        background: repeating-linear-gradient(45deg, #7e7e7e, #7e7e7e 10px, #5c5c5c 10px, #5c5c5c 20px);\n",
       "    }\n",
       "    .progress-bar-interrupted, .progress-bar-interrupted::-webkit-progress-bar {\n",
       "        background: #F44336;\n",
       "    }\n",
       "</style>\n"
      ],
      "text/plain": [
       "<IPython.core.display.HTML object>"
      ]
     },
     "metadata": {},
     "output_type": "display_data"
    },
    {
     "data": {
      "text/html": [
       "<table border=\"1\" class=\"dataframe\">\n",
       "  <thead>\n",
       "    <tr style=\"text-align: left;\">\n",
       "      <th>epoch</th>\n",
       "      <th>train_loss</th>\n",
       "      <th>valid_loss</th>\n",
       "      <th>accuracy</th>\n",
       "      <th>time</th>\n",
       "    </tr>\n",
       "  </thead>\n",
       "  <tbody>\n",
       "    <tr>\n",
       "      <td>0</td>\n",
       "      <td>2.679732</td>\n",
       "      <td>2.395353</td>\n",
       "      <td>0.426966</td>\n",
       "      <td>00:06</td>\n",
       "    </tr>\n",
       "  </tbody>\n",
       "</table>"
      ],
      "text/plain": [
       "<IPython.core.display.HTML object>"
      ]
     },
     "metadata": {},
     "output_type": "display_data"
    },
    {
     "data": {
      "text/html": [
       "\n",
       "<style>\n",
       "    /* Turns off some styling */\n",
       "    progress {\n",
       "        /* gets rid of default border in Firefox and Opera. */\n",
       "        border: none;\n",
       "        /* Needs to be in here for Safari polyfill so background images work as expected. */\n",
       "        background-size: auto;\n",
       "    }\n",
       "    progress:not([value]), progress:not([value])::-webkit-progress-bar {\n",
       "        background: repeating-linear-gradient(45deg, #7e7e7e, #7e7e7e 10px, #5c5c5c 10px, #5c5c5c 20px);\n",
       "    }\n",
       "    .progress-bar-interrupted, .progress-bar-interrupted::-webkit-progress-bar {\n",
       "        background: #F44336;\n",
       "    }\n",
       "</style>\n"
      ],
      "text/plain": [
       "<IPython.core.display.HTML object>"
      ]
     },
     "metadata": {},
     "output_type": "display_data"
    },
    {
     "data": {
      "text/html": [
       "<table border=\"1\" class=\"dataframe\">\n",
       "  <thead>\n",
       "    <tr style=\"text-align: left;\">\n",
       "      <th>epoch</th>\n",
       "      <th>train_loss</th>\n",
       "      <th>valid_loss</th>\n",
       "      <th>accuracy</th>\n",
       "      <th>time</th>\n",
       "    </tr>\n",
       "  </thead>\n",
       "  <tbody>\n",
       "    <tr>\n",
       "      <td>0</td>\n",
       "      <td>1.853211</td>\n",
       "      <td>2.191134</td>\n",
       "      <td>0.494382</td>\n",
       "      <td>00:01</td>\n",
       "    </tr>\n",
       "    <tr>\n",
       "      <td>1</td>\n",
       "      <td>1.718374</td>\n",
       "      <td>1.739009</td>\n",
       "      <td>0.617977</td>\n",
       "      <td>00:00</td>\n",
       "    </tr>\n",
       "    <tr>\n",
       "      <td>2</td>\n",
       "      <td>1.543114</td>\n",
       "      <td>1.338402</td>\n",
       "      <td>0.662921</td>\n",
       "      <td>00:00</td>\n",
       "    </tr>\n",
       "    <tr>\n",
       "      <td>3</td>\n",
       "      <td>1.395460</td>\n",
       "      <td>1.184066</td>\n",
       "      <td>0.707865</td>\n",
       "      <td>00:00</td>\n",
       "    </tr>\n",
       "    <tr>\n",
       "      <td>4</td>\n",
       "      <td>1.282518</td>\n",
       "      <td>1.130067</td>\n",
       "      <td>0.730337</td>\n",
       "      <td>00:00</td>\n",
       "    </tr>\n",
       "    <tr>\n",
       "      <td>5</td>\n",
       "      <td>1.168134</td>\n",
       "      <td>1.080931</td>\n",
       "      <td>0.730337</td>\n",
       "      <td>00:00</td>\n",
       "    </tr>\n",
       "    <tr>\n",
       "      <td>6</td>\n",
       "      <td>1.066791</td>\n",
       "      <td>1.072051</td>\n",
       "      <td>0.752809</td>\n",
       "      <td>00:00</td>\n",
       "    </tr>\n",
       "    <tr>\n",
       "      <td>7</td>\n",
       "      <td>0.972805</td>\n",
       "      <td>1.067995</td>\n",
       "      <td>0.764045</td>\n",
       "      <td>00:00</td>\n",
       "    </tr>\n",
       "    <tr>\n",
       "      <td>8</td>\n",
       "      <td>0.910769</td>\n",
       "      <td>1.059470</td>\n",
       "      <td>0.764045</td>\n",
       "      <td>00:00</td>\n",
       "    </tr>\n",
       "    <tr>\n",
       "      <td>9</td>\n",
       "      <td>0.851612</td>\n",
       "      <td>1.054028</td>\n",
       "      <td>0.764045</td>\n",
       "      <td>00:00</td>\n",
       "    </tr>\n",
       "  </tbody>\n",
       "</table>"
      ],
      "text/plain": [
       "<IPython.core.display.HTML object>"
      ]
     },
     "metadata": {},
     "output_type": "display_data"
    }
   ],
   "source": [
    "learn_finetune.fine_tune(10, 1e-2)"
   ]
  },
  {
   "cell_type": "code",
   "execution_count": 7,
   "id": "c2e02f11-0b19-414a-85c8-9a24681ec6b9",
   "metadata": {},
   "outputs": [
    {
     "data": {
      "text/html": [
       "\n",
       "<style>\n",
       "    /* Turns off some styling */\n",
       "    progress {\n",
       "        /* gets rid of default border in Firefox and Opera. */\n",
       "        border: none;\n",
       "        /* Needs to be in here for Safari polyfill so background images work as expected. */\n",
       "        background-size: auto;\n",
       "    }\n",
       "    progress:not([value]), progress:not([value])::-webkit-progress-bar {\n",
       "        background: repeating-linear-gradient(45deg, #7e7e7e, #7e7e7e 10px, #5c5c5c 10px, #5c5c5c 20px);\n",
       "    }\n",
       "    .progress-bar-interrupted, .progress-bar-interrupted::-webkit-progress-bar {\n",
       "        background: #F44336;\n",
       "    }\n",
       "</style>\n"
      ],
      "text/plain": [
       "<IPython.core.display.HTML object>"
      ]
     },
     "metadata": {},
     "output_type": "display_data"
    },
    {
     "data": {
      "text/html": [],
      "text/plain": [
       "<IPython.core.display.HTML object>"
      ]
     },
     "metadata": {},
     "output_type": "display_data"
    },
    {
     "data": {
      "text/html": [
       "<table border=\"1\" class=\"dataframe\">\n",
       "  <thead>\n",
       "    <tr style=\"text-align: right;\">\n",
       "      <th></th>\n",
       "      <th>text</th>\n",
       "      <th>category</th>\n",
       "      <th>category_</th>\n",
       "    </tr>\n",
       "  </thead>\n",
       "  <tbody>\n",
       "    <tr>\n",
       "      <th>0</th>\n",
       "      <td>xxbos xxup target xxup debit xxup crd xxup ach xxup tran xxrep 3 0 xxunk xxup web xxup i d : 1410215170</td>\n",
       "      <td>Target</td>\n",
       "      <td>Target</td>\n",
       "    </tr>\n",
       "    <tr>\n",
       "      <th>1</th>\n",
       "      <td>xxbos xxup t - mobile xxup pcs xxup svc xxunk xxup web xxup i d : xxrep 4 0 450304</td>\n",
       "      <td>Utilities</td>\n",
       "      <td>Utilities</td>\n",
       "    </tr>\n",
       "    <tr>\n",
       "      <th>2</th>\n",
       "      <td>xxbos xxup xxunk - xxunk xxup xxunk - xxunk - xxunk xxmaj bills &amp; xxmaj utilities</td>\n",
       "      <td>Insurance</td>\n",
       "      <td>Clothing &amp; Personal Care</td>\n",
       "    </tr>\n",
       "    <tr>\n",
       "      <th>3</th>\n",
       "      <td>xxbos xxup cafe xxup xxunk xxup mountain xxup view : g xxmaj food &amp; xxmaj drink</td>\n",
       "      <td>Groceries &amp; Food</td>\n",
       "      <td>Groceries &amp; Food</td>\n",
       "    </tr>\n",
       "    <tr>\n",
       "      <th>4</th>\n",
       "      <td>xxbos xxup xxunk xxup loan xxup payment xxup ppd xxup i d : xxunk</td>\n",
       "      <td>Transportation</td>\n",
       "      <td>Transportation</td>\n",
       "    </tr>\n",
       "    <tr>\n",
       "      <th>5</th>\n",
       "      <td>xxbos xxup ua.com * xxrep 3 8 -727 - 6687 xxup md xxmaj merchandise</td>\n",
       "      <td>Clothing &amp; Personal Care</td>\n",
       "      <td>Clothing &amp; Personal Care</td>\n",
       "    </tr>\n",
       "    <tr>\n",
       "      <th>6</th>\n",
       "      <td>xxbos xxup sq * xxunk xxup xxunk xxup xxunk xxmaj food &amp; xxmaj drink</td>\n",
       "      <td>Groceries &amp; Food</td>\n",
       "      <td>Groceries &amp; Food</td>\n",
       "    </tr>\n",
       "    <tr>\n",
       "      <th>7</th>\n",
       "      <td>xxbos xxmaj xxunk xxmaj inc xxup xxunk xxup ppd xxup i d : xxunk</td>\n",
       "      <td>Miscellaneous</td>\n",
       "      <td>Housing</td>\n",
       "    </tr>\n",
       "    <tr>\n",
       "      <th>8</th>\n",
       "      <td>xxbos xxup sq * xxunk xxup xxunk xxup los xxup xxunk xxmaj dining</td>\n",
       "      <td>Groceries &amp; Food</td>\n",
       "      <td>Groceries &amp; Food</td>\n",
       "    </tr>\n",
       "  </tbody>\n",
       "</table>"
      ],
      "text/plain": [
       "<IPython.core.display.HTML object>"
      ]
     },
     "metadata": {},
     "output_type": "display_data"
    }
   ],
   "source": [
    "learn_finetune.show_results()"
   ]
  },
  {
   "cell_type": "code",
   "execution_count": 8,
   "id": "03618ba2-20a3-4154-a172-4c3de414f23f",
   "metadata": {},
   "outputs": [],
   "source": [
    "learn_finetune.export('models/latest-finetune.pkl')"
   ]
  },
  {
   "cell_type": "code",
   "execution_count": 9,
   "id": "77495da1-8d77-4bed-8ba5-a2b18d39f052",
   "metadata": {},
   "outputs": [
    {
     "data": {
      "text/html": [
       "\n",
       "<style>\n",
       "    /* Turns off some styling */\n",
       "    progress {\n",
       "        /* gets rid of default border in Firefox and Opera. */\n",
       "        border: none;\n",
       "        /* Needs to be in here for Safari polyfill so background images work as expected. */\n",
       "        background-size: auto;\n",
       "    }\n",
       "    progress:not([value]), progress:not([value])::-webkit-progress-bar {\n",
       "        background: repeating-linear-gradient(45deg, #7e7e7e, #7e7e7e 10px, #5c5c5c 10px, #5c5c5c 20px);\n",
       "    }\n",
       "    .progress-bar-interrupted, .progress-bar-interrupted::-webkit-progress-bar {\n",
       "        background: #F44336;\n",
       "    }\n",
       "</style>\n"
      ],
      "text/plain": [
       "<IPython.core.display.HTML object>"
      ]
     },
     "metadata": {},
     "output_type": "display_data"
    },
    {
     "data": {
      "text/html": [],
      "text/plain": [
       "<IPython.core.display.HTML object>"
      ]
     },
     "metadata": {},
     "output_type": "display_data"
    },
    {
     "data": {
      "text/plain": [
       "('Amazon',\n",
       " tensor(0),\n",
       " tensor([9.9193e-01, 4.5418e-06, 4.6912e-04, 4.8144e-04, 3.2887e-06, 1.0540e-03,\n",
       "         3.9040e-03, 5.9561e-04, 3.3161e-06, 9.0453e-05, 4.9208e-05, 1.7164e-04,\n",
       "         5.8062e-04, 1.8801e-04, 4.7726e-04]))"
      ]
     },
     "execution_count": 9,
     "metadata": {},
     "output_type": "execute_result"
    }
   ],
   "source": [
    "learn_finetune.predict('AMZN Mktp US*GW42262P3')"
   ]
  },
  {
   "cell_type": "markdown",
   "id": "0eae8067-df39-4cd7-aa26-7857fd4d04d2",
   "metadata": {},
   "source": [
    "# Fit one cycle"
   ]
  },
  {
   "cell_type": "code",
   "execution_count": 10,
   "id": "07c78f2d-44eb-4f18-880d-a9425462fff7",
   "metadata": {},
   "outputs": [],
   "source": [
    "learn_fit = text_classifier_learner(dls, AWD_LSTM, drop_mult=0.5, metrics=accuracy)"
   ]
  },
  {
   "cell_type": "code",
   "execution_count": 11,
   "id": "e4d217d1-b8ed-4178-b8aa-d41f28127488",
   "metadata": {},
   "outputs": [
    {
     "data": {
      "text/html": [
       "\n",
       "<style>\n",
       "    /* Turns off some styling */\n",
       "    progress {\n",
       "        /* gets rid of default border in Firefox and Opera. */\n",
       "        border: none;\n",
       "        /* Needs to be in here for Safari polyfill so background images work as expected. */\n",
       "        background-size: auto;\n",
       "    }\n",
       "    progress:not([value]), progress:not([value])::-webkit-progress-bar {\n",
       "        background: repeating-linear-gradient(45deg, #7e7e7e, #7e7e7e 10px, #5c5c5c 10px, #5c5c5c 20px);\n",
       "    }\n",
       "    .progress-bar-interrupted, .progress-bar-interrupted::-webkit-progress-bar {\n",
       "        background: #F44336;\n",
       "    }\n",
       "</style>\n"
      ],
      "text/plain": [
       "<IPython.core.display.HTML object>"
      ]
     },
     "metadata": {},
     "output_type": "display_data"
    },
    {
     "data": {
      "text/html": [
       "<table border=\"1\" class=\"dataframe\">\n",
       "  <thead>\n",
       "    <tr style=\"text-align: left;\">\n",
       "      <th>epoch</th>\n",
       "      <th>train_loss</th>\n",
       "      <th>valid_loss</th>\n",
       "      <th>accuracy</th>\n",
       "      <th>time</th>\n",
       "    </tr>\n",
       "  </thead>\n",
       "  <tbody>\n",
       "    <tr>\n",
       "      <td>0</td>\n",
       "      <td>2.855009</td>\n",
       "      <td>2.684448</td>\n",
       "      <td>0.056180</td>\n",
       "      <td>00:00</td>\n",
       "    </tr>\n",
       "    <tr>\n",
       "      <td>1</td>\n",
       "      <td>2.792808</td>\n",
       "      <td>2.604651</td>\n",
       "      <td>0.269663</td>\n",
       "      <td>00:00</td>\n",
       "    </tr>\n",
       "    <tr>\n",
       "      <td>2</td>\n",
       "      <td>2.648530</td>\n",
       "      <td>2.422087</td>\n",
       "      <td>0.505618</td>\n",
       "      <td>00:00</td>\n",
       "    </tr>\n",
       "    <tr>\n",
       "      <td>3</td>\n",
       "      <td>2.502750</td>\n",
       "      <td>2.171919</td>\n",
       "      <td>0.539326</td>\n",
       "      <td>00:00</td>\n",
       "    </tr>\n",
       "    <tr>\n",
       "      <td>4</td>\n",
       "      <td>2.354450</td>\n",
       "      <td>1.945733</td>\n",
       "      <td>0.584270</td>\n",
       "      <td>00:00</td>\n",
       "    </tr>\n",
       "    <tr>\n",
       "      <td>5</td>\n",
       "      <td>2.230627</td>\n",
       "      <td>1.764531</td>\n",
       "      <td>0.584270</td>\n",
       "      <td>00:00</td>\n",
       "    </tr>\n",
       "    <tr>\n",
       "      <td>6</td>\n",
       "      <td>2.120343</td>\n",
       "      <td>1.635545</td>\n",
       "      <td>0.629214</td>\n",
       "      <td>00:00</td>\n",
       "    </tr>\n",
       "    <tr>\n",
       "      <td>7</td>\n",
       "      <td>2.027695</td>\n",
       "      <td>1.568989</td>\n",
       "      <td>0.606742</td>\n",
       "      <td>00:00</td>\n",
       "    </tr>\n",
       "    <tr>\n",
       "      <td>8</td>\n",
       "      <td>1.969882</td>\n",
       "      <td>1.519375</td>\n",
       "      <td>0.629214</td>\n",
       "      <td>00:00</td>\n",
       "    </tr>\n",
       "    <tr>\n",
       "      <td>9</td>\n",
       "      <td>1.910625</td>\n",
       "      <td>1.509366</td>\n",
       "      <td>0.617977</td>\n",
       "      <td>00:00</td>\n",
       "    </tr>\n",
       "  </tbody>\n",
       "</table>"
      ],
      "text/plain": [
       "<IPython.core.display.HTML object>"
      ]
     },
     "metadata": {},
     "output_type": "display_data"
    }
   ],
   "source": [
    "learn_fit.fit_one_cycle(10)"
   ]
  },
  {
   "cell_type": "code",
   "execution_count": 12,
   "id": "13cd06cf-e847-4120-bb21-37d4280b25b3",
   "metadata": {},
   "outputs": [
    {
     "data": {
      "text/html": [
       "\n",
       "<style>\n",
       "    /* Turns off some styling */\n",
       "    progress {\n",
       "        /* gets rid of default border in Firefox and Opera. */\n",
       "        border: none;\n",
       "        /* Needs to be in here for Safari polyfill so background images work as expected. */\n",
       "        background-size: auto;\n",
       "    }\n",
       "    progress:not([value]), progress:not([value])::-webkit-progress-bar {\n",
       "        background: repeating-linear-gradient(45deg, #7e7e7e, #7e7e7e 10px, #5c5c5c 10px, #5c5c5c 20px);\n",
       "    }\n",
       "    .progress-bar-interrupted, .progress-bar-interrupted::-webkit-progress-bar {\n",
       "        background: #F44336;\n",
       "    }\n",
       "</style>\n"
      ],
      "text/plain": [
       "<IPython.core.display.HTML object>"
      ]
     },
     "metadata": {},
     "output_type": "display_data"
    },
    {
     "data": {
      "text/html": [],
      "text/plain": [
       "<IPython.core.display.HTML object>"
      ]
     },
     "metadata": {},
     "output_type": "display_data"
    },
    {
     "data": {
      "text/html": [
       "<table border=\"1\" class=\"dataframe\">\n",
       "  <thead>\n",
       "    <tr style=\"text-align: right;\">\n",
       "      <th></th>\n",
       "      <th>text</th>\n",
       "      <th>category</th>\n",
       "      <th>category_</th>\n",
       "    </tr>\n",
       "  </thead>\n",
       "  <tbody>\n",
       "    <tr>\n",
       "      <th>0</th>\n",
       "      <td>xxbos xxup target xxup debit xxup crd xxup ach xxup tran xxrep 3 0 xxunk xxup web xxup i d : 1410215170</td>\n",
       "      <td>Target</td>\n",
       "      <td>Target</td>\n",
       "    </tr>\n",
       "    <tr>\n",
       "      <th>1</th>\n",
       "      <td>xxbos xxup t - mobile xxup pcs xxup svc xxunk xxup web xxup i d : xxrep 4 0 450304</td>\n",
       "      <td>Utilities</td>\n",
       "      <td>Target</td>\n",
       "    </tr>\n",
       "    <tr>\n",
       "      <th>2</th>\n",
       "      <td>xxbos xxup xxunk - xxunk xxup xxunk - xxunk - xxunk xxmaj bills &amp; xxmaj utilities</td>\n",
       "      <td>Insurance</td>\n",
       "      <td>Miscellaneous</td>\n",
       "    </tr>\n",
       "    <tr>\n",
       "      <th>3</th>\n",
       "      <td>xxbos xxup cafe xxup xxunk xxup mountain xxup view : g xxmaj food &amp; xxmaj drink</td>\n",
       "      <td>Groceries &amp; Food</td>\n",
       "      <td>Groceries &amp; Food</td>\n",
       "    </tr>\n",
       "    <tr>\n",
       "      <th>4</th>\n",
       "      <td>xxbos xxup xxunk xxup loan xxup payment xxup ppd xxup i d : xxunk</td>\n",
       "      <td>Transportation</td>\n",
       "      <td>Utilities</td>\n",
       "    </tr>\n",
       "    <tr>\n",
       "      <th>5</th>\n",
       "      <td>xxbos xxmaj xxunk xxmaj inc xxup xxunk xxup ppd xxup i d : xxunk</td>\n",
       "      <td>Miscellaneous</td>\n",
       "      <td>Housing</td>\n",
       "    </tr>\n",
       "    <tr>\n",
       "      <th>6</th>\n",
       "      <td>xxbos xxup sq * xxunk xxup xxunk xxup xxunk xxmaj food &amp; xxmaj drink</td>\n",
       "      <td>Groceries &amp; Food</td>\n",
       "      <td>Groceries &amp; Food</td>\n",
       "    </tr>\n",
       "    <tr>\n",
       "      <th>7</th>\n",
       "      <td>xxbos xxup ua.com * xxrep 3 8 -727 - 6687 xxup md xxmaj merchandise</td>\n",
       "      <td>Clothing &amp; Personal Care</td>\n",
       "      <td>Clothing &amp; Personal Care</td>\n",
       "    </tr>\n",
       "    <tr>\n",
       "      <th>8</th>\n",
       "      <td>xxbos xxup sq * xxunk xxup xxunk xxup los xxup xxunk xxmaj dining</td>\n",
       "      <td>Groceries &amp; Food</td>\n",
       "      <td>Groceries &amp; Food</td>\n",
       "    </tr>\n",
       "  </tbody>\n",
       "</table>"
      ],
      "text/plain": [
       "<IPython.core.display.HTML object>"
      ]
     },
     "metadata": {},
     "output_type": "display_data"
    }
   ],
   "source": [
    "learn_fit.show_results()"
   ]
  },
  {
   "cell_type": "code",
   "execution_count": 13,
   "id": "3d8aa50a-6563-4867-91d1-75d894e614f0",
   "metadata": {},
   "outputs": [],
   "source": [
    "learn_fit.export('models/latest-fit.pkl')"
   ]
  },
  {
   "cell_type": "code",
   "execution_count": 14,
   "id": "eb3a1cb6-0391-46de-8ff1-51f1bf9da5bb",
   "metadata": {},
   "outputs": [
    {
     "data": {
      "text/html": [
       "\n",
       "<style>\n",
       "    /* Turns off some styling */\n",
       "    progress {\n",
       "        /* gets rid of default border in Firefox and Opera. */\n",
       "        border: none;\n",
       "        /* Needs to be in here for Safari polyfill so background images work as expected. */\n",
       "        background-size: auto;\n",
       "    }\n",
       "    progress:not([value]), progress:not([value])::-webkit-progress-bar {\n",
       "        background: repeating-linear-gradient(45deg, #7e7e7e, #7e7e7e 10px, #5c5c5c 10px, #5c5c5c 20px);\n",
       "    }\n",
       "    .progress-bar-interrupted, .progress-bar-interrupted::-webkit-progress-bar {\n",
       "        background: #F44336;\n",
       "    }\n",
       "</style>\n"
      ],
      "text/plain": [
       "<IPython.core.display.HTML object>"
      ]
     },
     "metadata": {},
     "output_type": "display_data"
    },
    {
     "data": {
      "text/html": [],
      "text/plain": [
       "<IPython.core.display.HTML object>"
      ]
     },
     "metadata": {},
     "output_type": "display_data"
    },
    {
     "data": {
      "text/plain": [
       "('Amazon',\n",
       " tensor(0),\n",
       " tensor([9.3262e-01, 3.0360e-04, 1.8889e-03, 5.8329e-03, 2.2046e-03, 5.1053e-03,\n",
       "         1.3033e-02, 6.4312e-03, 9.5341e-04, 6.4787e-03, 2.7623e-03, 1.9446e-03,\n",
       "         1.7854e-03, 7.3337e-03, 1.1322e-02]))"
      ]
     },
     "execution_count": 14,
     "metadata": {},
     "output_type": "execute_result"
    }
   ],
   "source": [
    "learn_fit.predict('AMZN Mktp US*GW42262P3')"
   ]
  },
  {
   "cell_type": "markdown",
   "id": "5de721fa-a019-4b61-8e47-0f34ae6fd2c9",
   "metadata": {},
   "source": [
    "# Model Training Results"
   ]
  },
  {
   "cell_type": "markdown",
   "id": "3df717cf-e0d2-459b-ae49-dd4117e81e1a",
   "metadata": {},
   "source": [
    "## 12-05-2023\n",
    "\n",
    "### Fine tuning\n",
    "\n",
    "Training size: 134\n",
    "Validation size: 33\n",
    "\n",
    "| epoch | train_loss | valid_loss | accuracy | time  |\n",
    "|-------|------------|------------|----------|-------|\n",
    "| 0     | 2.804887   | 2.517872   | 0.333333 | 00:00 |\n",
    "| 0     | 2.155915   | 2.453891   | 0.424242 | 00:00 |\n",
    "| 1     | 2.023252   | 2.341634   | 0.515152 | 00:00 |\n",
    "| 2     | 1.836782   | 2.136570   | 0.636364 | 00:00 |\n",
    "| 3     | 1.706438   | 1.865172   | 0.727273 | 00:00 |\n",
    "| 4     | 1.591477   | 1.587878   | 0.757576 | 00:00 |\n",
    "| 5     | 1.477993   | 1.415652   | 0.787879 | 00:00 |\n",
    "| 6     | 1.391266   | 1.315022   | 0.787879 | 00:00 |\n",
    "| 7     | 1.316200   | 1.265274   | 0.787879 | 00:00 |\n",
    "| 8     | 1.248108   | 1.236477   | 0.787879 | 00:00 |\n",
    "| 9     | 1.189136   | 1.216803   | 0.787879 | 00:00 |\n",
    "\n",
    "\n",
    "### Fit one cycle\n",
    "\n",
    "Training size: 134\n",
    "Validation size: 33\n",
    "\n",
    "| epoch | train_loss | valid_loss | accuracy | time  |\n",
    "|-------|------------|------------|----------|-------|\n",
    "| 0     | 2.399887   | 2.523246   | 0.242424 | 00:00 |\n",
    "| 1     | 2.380246   | 2.472462   | 0.363636 | 00:00 |\n",
    "| 2     | 2.319030   | 2.388698   | 0.454545 | 00:00 |\n",
    "| 3     | 2.246946   | 2.302907   | 0.545455 | 00:00 |\n",
    "| 4     | 2.165878   | 2.222806   | 0.575758 | 00:00 |\n",
    "| 5     | 2.109444   | 2.143269   | 0.606061 | 00:00 |\n",
    "| 6     | 2.055223   | 2.077895   | 0.606061 | 00:00 |\n",
    "| 7     | 2.002399   | 2.026833   | 0.606061 | 00:00 |\n",
    "| 8     | 1.979071   | 1.984128   | 0.636364 | 00:00 |\n",
    "| 9     | 1.940246   | 1.944949   | 0.666667 | 00:00 |\n",
    "\n",
    "## 01-02-2024\n",
    "\n",
    "### Fine tuning\n",
    "\n",
    "Training size: 252\n",
    "Validation size: 63\n",
    "\n",
    "| epoch | train_loss | valid_loss | accuracy | time   |\n",
    "|-------|------------|------------|----------|--------|\n",
    "| 0     | 2.160652   | 2.428968   | 0.650794 | 00:01  |\n",
    "| 1     | 2.001271   | 2.175531   | 0.730159 | 00:00  |\n",
    "| 2     | 1.840311   | 1.759516   | 0.714286 | 00:00  |\n",
    "| 3     | 1.691128   | 1.465099   | 0.746032 | 00:00  |\n",
    "| 4     | 1.563053   | 1.427480   | 0.682540 | 00:00  |\n",
    "| 5     | 1.468787   | 1.289794   | 0.698413 | 00:00  |\n",
    "| 6     | 1.366393   | 1.177989   | 0.730159 | 00:00  |\n",
    "| 7     | 1.286151   | 1.128382   | 0.730159 | 00:00  |\n",
    "| 8     | 1.227368   | 1.098116   | 0.730159 | 00:00  |\n",
    "| 9     | 1.166456   | 1.082516   | 0.730159 | 00:00  |\n",
    "\n",
    "## 02-02-2024\n",
    "\n",
    "### Fine tuning\n",
    "\n",
    "Training size: 298\n",
    "Validation size: 74\n",
    "\n",
    "| epoch | train_loss | valid_loss | accuracy | time  |\n",
    "|-------|------------|------------|----------|-------|\n",
    "| 0     | 1.777669   | 2.196177   | 0.689189 | 00:01 |\n",
    "| 1     | 1.656596   | 1.718567   | 0.702703 | 00:00 |\n",
    "| 2     | 1.501173   | 1.255754   | 0.716216 | 00:00 |\n",
    "| 3     | 1.354056   | 1.084962   | 0.756757 | 00:00 |\n",
    "| 4     | 1.225033   | 1.005001   | 0.743243 | 00:00 |\n",
    "| 5     | 1.119112   | 0.882296   | 0.756757 | 00:00 |\n",
    "| 6     | 1.042848   | 0.829607   | 0.770270 | 00:00 |\n",
    "| 7     | 0.973451   | 0.828626   | 0.770270 | 00:00 |\n",
    "| 8     | 0.907481   | 0.826008   | 0.770270 | 00:00 |\n",
    "| 9     | 0.872404   | 0.831227   | 0.770270 | 00:00 |\n",
    "\n",
    "## 03-01-2024\n",
    "\n",
    "### Fine tuning\n",
    "\n",
    "Training size: 358\n",
    "Validation size: 89\n",
    "\n",
    "| epoch | train_loss | valid_loss | accuracy | time  |\n",
    "|-------|------------|------------|----------|-------|\n",
    "|   0   |  1.853211  |  2.191134  |  0.494382| 00:01 |\n",
    "|   1   |  1.718374  |  1.739009  |  0.617977| 00:00 |\n",
    "|   2   |  1.543114  |  1.338402  |  0.662921| 00:00 |\n",
    "|   3   |  1.395460  |  1.184066  |  0.707865| 00:00 |\n",
    "|   4   |  1.282518  |  1.130067  |  0.730337| 00:00 |\n",
    "|   5   |  1.168134  |  1.080931  |  0.730337| 00:00 |\n",
    "|   6   |  1.066791  |  1.072051  |  0.752809| 00:00 |\n",
    "|   7   |  0.972805  |  1.067995  |  0.764045| 00:00 |\n",
    "|   8   |  0.910769  |  1.059470  |  0.764045| 00:00 |\n",
    "|   9   |  0.851612  |  1.054028  |  0.764045| 00:00 |"
   ]
  },
  {
   "cell_type": "markdown",
   "id": "4c488501-6587-4b63-aa66-fe6fb3313c4f",
   "metadata": {},
   "source": [
    "# References\n",
    "1. [Text transfer learning](https://docs.fast.ai/tutorial.text.html)\n",
    "2. [TextDataLoaders.from_csv](https://docs.fast.ai/text.data.html#textdataloaders.from_csv)"
   ]
  }
 ],
 "metadata": {
  "kernelspec": {
   "display_name": "Python 3 (ipykernel)",
   "language": "python",
   "name": "python3"
  },
  "language_info": {
   "codemirror_mode": {
    "name": "ipython",
    "version": 3
   },
   "file_extension": ".py",
   "mimetype": "text/x-python",
   "name": "python",
   "nbconvert_exporter": "python",
   "pygments_lexer": "ipython3",
   "version": "3.9.6"
  }
 },
 "nbformat": 4,
 "nbformat_minor": 5
}
