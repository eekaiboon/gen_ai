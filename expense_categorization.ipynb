{
 "cells": [
  {
   "cell_type": "code",
   "execution_count": 81,
   "id": "bfb1c4d4-215d-4f07-9c17-24241fa86fd6",
   "metadata": {},
   "outputs": [],
   "source": [
    "from fastai.text.all import *"
   ]
  },
  {
   "cell_type": "code",
   "execution_count": 82,
   "id": "61aeda50-a517-4e8d-a3eb-31289b5e830c",
   "metadata": {},
   "outputs": [
    {
     "data": {
      "text/html": [
       "<div>\n",
       "<style scoped>\n",
       "    .dataframe tbody tr th:only-of-type {\n",
       "        vertical-align: middle;\n",
       "    }\n",
       "\n",
       "    .dataframe tbody tr th {\n",
       "        vertical-align: top;\n",
       "    }\n",
       "\n",
       "    .dataframe thead th {\n",
       "        text-align: right;\n",
       "    }\n",
       "</style>\n",
       "<table border=\"1\" class=\"dataframe\">\n",
       "  <thead>\n",
       "    <tr style=\"text-align: right;\">\n",
       "      <th></th>\n",
       "      <th>description</th>\n",
       "      <th>category</th>\n",
       "    </tr>\n",
       "  </thead>\n",
       "  <tbody>\n",
       "    <tr>\n",
       "      <th>0</th>\n",
       "      <td>TRADER JOE S #068 Merchandise</td>\n",
       "      <td>Groceries &amp; Food</td>\n",
       "    </tr>\n",
       "    <tr>\n",
       "      <th>1</th>\n",
       "      <td>WHOLEFDS SVL#10707 Groceries</td>\n",
       "      <td>Groceries &amp; Food</td>\n",
       "    </tr>\n",
       "    <tr>\n",
       "      <th>2</th>\n",
       "      <td>Amazon.com Shopping</td>\n",
       "      <td>Amazon</td>\n",
       "    </tr>\n",
       "    <tr>\n",
       "      <th>3</th>\n",
       "      <td>OPENAI Shopping</td>\n",
       "      <td>Subscriptions &amp; Memberships</td>\n",
       "    </tr>\n",
       "    <tr>\n",
       "      <th>4</th>\n",
       "      <td>Amazon.com*NH99Y5J73 Shopping</td>\n",
       "      <td>Amazon</td>\n",
       "    </tr>\n",
       "  </tbody>\n",
       "</table>\n",
       "</div>"
      ],
      "text/plain": [
       "                     description                     category\n",
       "0  TRADER JOE S #068 Merchandise             Groceries & Food\n",
       "1   WHOLEFDS SVL#10707 Groceries             Groceries & Food\n",
       "2            Amazon.com Shopping                       Amazon\n",
       "3                OPENAI Shopping  Subscriptions & Memberships\n",
       "4  Amazon.com*NH99Y5J73 Shopping                       Amazon"
      ]
     },
     "execution_count": 82,
     "metadata": {},
     "output_type": "execute_result"
    }
   ],
   "source": [
    "df = pd.read_csv('./expenses.csv')\n",
    "df.head()"
   ]
  },
  {
   "cell_type": "code",
   "execution_count": 91,
   "id": "98b9f1c8-56e9-4454-8b97-0d0b5197bd3a",
   "metadata": {},
   "outputs": [
    {
     "data": {
      "text/html": [
       "\n",
       "<style>\n",
       "    /* Turns off some styling */\n",
       "    progress {\n",
       "        /* gets rid of default border in Firefox and Opera. */\n",
       "        border: none;\n",
       "        /* Needs to be in here for Safari polyfill so background images work as expected. */\n",
       "        background-size: auto;\n",
       "    }\n",
       "    progress:not([value]), progress:not([value])::-webkit-progress-bar {\n",
       "        background: repeating-linear-gradient(45deg, #7e7e7e, #7e7e7e 10px, #5c5c5c 10px, #5c5c5c 20px);\n",
       "    }\n",
       "    .progress-bar-interrupted, .progress-bar-interrupted::-webkit-progress-bar {\n",
       "        background: #F44336;\n",
       "    }\n",
       "</style>\n"
      ],
      "text/plain": [
       "<IPython.core.display.HTML object>"
      ]
     },
     "metadata": {},
     "output_type": "display_data"
    },
    {
     "data": {
      "text/html": [],
      "text/plain": [
       "<IPython.core.display.HTML object>"
      ]
     },
     "metadata": {},
     "output_type": "display_data"
    },
    {
     "data": {
      "text/html": [
       "<table border=\"1\" class=\"dataframe\">\n",
       "  <thead>\n",
       "    <tr style=\"text-align: right;\">\n",
       "      <th></th>\n",
       "      <th>text</th>\n",
       "      <th>category</th>\n",
       "    </tr>\n",
       "  </thead>\n",
       "  <tbody>\n",
       "    <tr>\n",
       "      <th>0</th>\n",
       "      <td>xxbos xxup xxunk xxup xxunk xxup xxunk ( xxunk ) xxunk / xxunk xxmaj merchandise</td>\n",
       "      <td>Clothing &amp; Personal Care</td>\n",
       "    </tr>\n",
       "    <tr>\n",
       "      <th>1</th>\n",
       "      <td>xxbos xxup tst * xxmaj xxunk xxmaj xxunk xxmaj xxunk - xxmaj los xxmaj dining</td>\n",
       "      <td>Groceries &amp; Food</td>\n",
       "    </tr>\n",
       "    <tr>\n",
       "      <th>2</th>\n",
       "      <td>xxbos xxup amzn xxmaj mktp xxup us * xxrep 3 xxunk xxup xxunk xxmaj shopping</td>\n",
       "      <td>Amazon</td>\n",
       "    </tr>\n",
       "  </tbody>\n",
       "</table>"
      ],
      "text/plain": [
       "<IPython.core.display.HTML object>"
      ]
     },
     "metadata": {},
     "output_type": "display_data"
    }
   ],
   "source": [
    "dls = TextDataLoaders.from_csv(\n",
    "    path='.',\n",
    "    csv_fname='expenses.csv',\n",
    "    text_col='description',\n",
    "    label_col='category')\n",
    "dls.show_batch(max_n=3)"
   ]
  },
  {
   "cell_type": "code",
   "execution_count": 92,
   "id": "7448858d-c887-47a4-b3df-d7728ee5a07a",
   "metadata": {},
   "outputs": [
    {
     "name": "stdout",
     "output_type": "stream",
     "text": [
      "Training size: 134\n",
      "Validation size: 33\n"
     ]
    }
   ],
   "source": [
    "train_size = len(dls.train_ds)\n",
    "valid_size = len(dls.valid_ds)\n",
    "\n",
    "print(f\"Training size: {train_size}\")\n",
    "print(f\"Validation size: {valid_size}\")"
   ]
  },
  {
   "cell_type": "markdown",
   "id": "ee55c7db-f484-4f93-bfeb-0faf11f58026",
   "metadata": {},
   "source": [
    "# Fine tuning"
   ]
  },
  {
   "cell_type": "code",
   "execution_count": 103,
   "id": "4fc5ec45-9405-4972-ad9e-c7c913eb011b",
   "metadata": {},
   "outputs": [],
   "source": [
    "learn_finetune = text_classifier_learner(dls, AWD_LSTM, drop_mult=0.5, metrics=accuracy)"
   ]
  },
  {
   "cell_type": "code",
   "execution_count": 104,
   "id": "07406dcb-ff09-43bc-8cce-9ba5ec68959f",
   "metadata": {},
   "outputs": [
    {
     "data": {
      "text/html": [
       "\n",
       "<style>\n",
       "    /* Turns off some styling */\n",
       "    progress {\n",
       "        /* gets rid of default border in Firefox and Opera. */\n",
       "        border: none;\n",
       "        /* Needs to be in here for Safari polyfill so background images work as expected. */\n",
       "        background-size: auto;\n",
       "    }\n",
       "    progress:not([value]), progress:not([value])::-webkit-progress-bar {\n",
       "        background: repeating-linear-gradient(45deg, #7e7e7e, #7e7e7e 10px, #5c5c5c 10px, #5c5c5c 20px);\n",
       "    }\n",
       "    .progress-bar-interrupted, .progress-bar-interrupted::-webkit-progress-bar {\n",
       "        background: #F44336;\n",
       "    }\n",
       "</style>\n"
      ],
      "text/plain": [
       "<IPython.core.display.HTML object>"
      ]
     },
     "metadata": {},
     "output_type": "display_data"
    },
    {
     "data": {
      "text/html": [
       "<table border=\"1\" class=\"dataframe\">\n",
       "  <thead>\n",
       "    <tr style=\"text-align: left;\">\n",
       "      <th>epoch</th>\n",
       "      <th>train_loss</th>\n",
       "      <th>valid_loss</th>\n",
       "      <th>accuracy</th>\n",
       "      <th>time</th>\n",
       "    </tr>\n",
       "  </thead>\n",
       "  <tbody>\n",
       "    <tr>\n",
       "      <td>0</td>\n",
       "      <td>2.804887</td>\n",
       "      <td>2.517872</td>\n",
       "      <td>0.333333</td>\n",
       "      <td>00:00</td>\n",
       "    </tr>\n",
       "  </tbody>\n",
       "</table>"
      ],
      "text/plain": [
       "<IPython.core.display.HTML object>"
      ]
     },
     "metadata": {},
     "output_type": "display_data"
    },
    {
     "data": {
      "text/html": [
       "\n",
       "<style>\n",
       "    /* Turns off some styling */\n",
       "    progress {\n",
       "        /* gets rid of default border in Firefox and Opera. */\n",
       "        border: none;\n",
       "        /* Needs to be in here for Safari polyfill so background images work as expected. */\n",
       "        background-size: auto;\n",
       "    }\n",
       "    progress:not([value]), progress:not([value])::-webkit-progress-bar {\n",
       "        background: repeating-linear-gradient(45deg, #7e7e7e, #7e7e7e 10px, #5c5c5c 10px, #5c5c5c 20px);\n",
       "    }\n",
       "    .progress-bar-interrupted, .progress-bar-interrupted::-webkit-progress-bar {\n",
       "        background: #F44336;\n",
       "    }\n",
       "</style>\n"
      ],
      "text/plain": [
       "<IPython.core.display.HTML object>"
      ]
     },
     "metadata": {},
     "output_type": "display_data"
    },
    {
     "data": {
      "text/html": [
       "<table border=\"1\" class=\"dataframe\">\n",
       "  <thead>\n",
       "    <tr style=\"text-align: left;\">\n",
       "      <th>epoch</th>\n",
       "      <th>train_loss</th>\n",
       "      <th>valid_loss</th>\n",
       "      <th>accuracy</th>\n",
       "      <th>time</th>\n",
       "    </tr>\n",
       "  </thead>\n",
       "  <tbody>\n",
       "    <tr>\n",
       "      <td>0</td>\n",
       "      <td>2.155915</td>\n",
       "      <td>2.453891</td>\n",
       "      <td>0.424242</td>\n",
       "      <td>00:00</td>\n",
       "    </tr>\n",
       "    <tr>\n",
       "      <td>1</td>\n",
       "      <td>2.023252</td>\n",
       "      <td>2.341634</td>\n",
       "      <td>0.515152</td>\n",
       "      <td>00:00</td>\n",
       "    </tr>\n",
       "    <tr>\n",
       "      <td>2</td>\n",
       "      <td>1.836782</td>\n",
       "      <td>2.136570</td>\n",
       "      <td>0.636364</td>\n",
       "      <td>00:00</td>\n",
       "    </tr>\n",
       "    <tr>\n",
       "      <td>3</td>\n",
       "      <td>1.706438</td>\n",
       "      <td>1.865172</td>\n",
       "      <td>0.727273</td>\n",
       "      <td>00:00</td>\n",
       "    </tr>\n",
       "    <tr>\n",
       "      <td>4</td>\n",
       "      <td>1.591477</td>\n",
       "      <td>1.587878</td>\n",
       "      <td>0.757576</td>\n",
       "      <td>00:00</td>\n",
       "    </tr>\n",
       "    <tr>\n",
       "      <td>5</td>\n",
       "      <td>1.477993</td>\n",
       "      <td>1.415652</td>\n",
       "      <td>0.787879</td>\n",
       "      <td>00:00</td>\n",
       "    </tr>\n",
       "    <tr>\n",
       "      <td>6</td>\n",
       "      <td>1.391266</td>\n",
       "      <td>1.315022</td>\n",
       "      <td>0.787879</td>\n",
       "      <td>00:00</td>\n",
       "    </tr>\n",
       "    <tr>\n",
       "      <td>7</td>\n",
       "      <td>1.316200</td>\n",
       "      <td>1.265274</td>\n",
       "      <td>0.787879</td>\n",
       "      <td>00:00</td>\n",
       "    </tr>\n",
       "    <tr>\n",
       "      <td>8</td>\n",
       "      <td>1.248108</td>\n",
       "      <td>1.236477</td>\n",
       "      <td>0.787879</td>\n",
       "      <td>00:00</td>\n",
       "    </tr>\n",
       "    <tr>\n",
       "      <td>9</td>\n",
       "      <td>1.189136</td>\n",
       "      <td>1.216803</td>\n",
       "      <td>0.787879</td>\n",
       "      <td>00:00</td>\n",
       "    </tr>\n",
       "  </tbody>\n",
       "</table>"
      ],
      "text/plain": [
       "<IPython.core.display.HTML object>"
      ]
     },
     "metadata": {},
     "output_type": "display_data"
    }
   ],
   "source": [
    "learn_finetune.fine_tune(10, 1e-2)"
   ]
  },
  {
   "cell_type": "code",
   "execution_count": 105,
   "id": "c2e02f11-0b19-414a-85c8-9a24681ec6b9",
   "metadata": {},
   "outputs": [
    {
     "data": {
      "text/html": [
       "\n",
       "<style>\n",
       "    /* Turns off some styling */\n",
       "    progress {\n",
       "        /* gets rid of default border in Firefox and Opera. */\n",
       "        border: none;\n",
       "        /* Needs to be in here for Safari polyfill so background images work as expected. */\n",
       "        background-size: auto;\n",
       "    }\n",
       "    progress:not([value]), progress:not([value])::-webkit-progress-bar {\n",
       "        background: repeating-linear-gradient(45deg, #7e7e7e, #7e7e7e 10px, #5c5c5c 10px, #5c5c5c 20px);\n",
       "    }\n",
       "    .progress-bar-interrupted, .progress-bar-interrupted::-webkit-progress-bar {\n",
       "        background: #F44336;\n",
       "    }\n",
       "</style>\n"
      ],
      "text/plain": [
       "<IPython.core.display.HTML object>"
      ]
     },
     "metadata": {},
     "output_type": "display_data"
    },
    {
     "data": {
      "text/html": [],
      "text/plain": [
       "<IPython.core.display.HTML object>"
      ]
     },
     "metadata": {},
     "output_type": "display_data"
    },
    {
     "data": {
      "text/html": [
       "<table border=\"1\" class=\"dataframe\">\n",
       "  <thead>\n",
       "    <tr style=\"text-align: right;\">\n",
       "      <th></th>\n",
       "      <th>text</th>\n",
       "      <th>category</th>\n",
       "      <th>category_</th>\n",
       "    </tr>\n",
       "  </thead>\n",
       "  <tbody>\n",
       "    <tr>\n",
       "      <th>0</th>\n",
       "      <td>xxbos xxup xxunk * xxup xxunk xxup xxunk xxup xxunk xxmaj food &amp; xxmaj drink</td>\n",
       "      <td>Groceries &amp; Food</td>\n",
       "      <td>Groceries &amp; Food</td>\n",
       "    </tr>\n",
       "    <tr>\n",
       "      <th>1</th>\n",
       "      <td>xxbos xxup sq * xxunk xxup xxunk xxup los xxunk xxmaj dining</td>\n",
       "      <td>Groceries &amp; Food</td>\n",
       "      <td>Groceries &amp; Food</td>\n",
       "    </tr>\n",
       "    <tr>\n",
       "      <th>2</th>\n",
       "      <td>xxbos xxup sq * xxunk xxup xxunk xxup xxunk xxmaj merchandise</td>\n",
       "      <td>Groceries &amp; Food</td>\n",
       "      <td>Groceries &amp; Food</td>\n",
       "    </tr>\n",
       "    <tr>\n",
       "      <th>3</th>\n",
       "      <td>xxbos xxup adidas xxup us xxup online xxup store xxmaj merchandise</td>\n",
       "      <td>Clothing &amp; Personal Care</td>\n",
       "      <td>Clothing &amp; Personal Care</td>\n",
       "    </tr>\n",
       "    <tr>\n",
       "      <th>4</th>\n",
       "      <td>xxbos xxup xxunk , xxup inc . xxmaj other xxmaj services</td>\n",
       "      <td>Miscellaneous</td>\n",
       "      <td>Miscellaneous</td>\n",
       "    </tr>\n",
       "    <tr>\n",
       "      <th>5</th>\n",
       "      <td>xxbos xxup xxunk xxup xxunk xxunk xxup online xxmaj dining</td>\n",
       "      <td>Groceries &amp; Food</td>\n",
       "      <td>Groceries &amp; Food</td>\n",
       "    </tr>\n",
       "    <tr>\n",
       "      <th>6</th>\n",
       "      <td>xxbos xxup xxunk 800 - xxunk - xxunk xxmaj merchandise</td>\n",
       "      <td>Clothing &amp; Personal Care</td>\n",
       "      <td>Clothing &amp; Personal Care</td>\n",
       "    </tr>\n",
       "    <tr>\n",
       "      <th>7</th>\n",
       "      <td>xxbos xxup xxunk xxup xxunk xxup sunnyvale xxmaj groceries</td>\n",
       "      <td>Groceries &amp; Food</td>\n",
       "      <td>Groceries &amp; Food</td>\n",
       "    </tr>\n",
       "    <tr>\n",
       "      <th>8</th>\n",
       "      <td>xxbos xxup nijiya xxup market # 61 xxmaj merchandise</td>\n",
       "      <td>Groceries &amp; Food</td>\n",
       "      <td>Groceries &amp; Food</td>\n",
       "    </tr>\n",
       "  </tbody>\n",
       "</table>"
      ],
      "text/plain": [
       "<IPython.core.display.HTML object>"
      ]
     },
     "metadata": {},
     "output_type": "display_data"
    }
   ],
   "source": [
    "learn_finetune.show_results()"
   ]
  },
  {
   "cell_type": "code",
   "execution_count": 106,
   "id": "03618ba2-20a3-4154-a172-4c3de414f23f",
   "metadata": {},
   "outputs": [],
   "source": [
    "learn_finetune.export('models/120523-finetune.pkl')"
   ]
  },
  {
   "cell_type": "code",
   "execution_count": 97,
   "id": "77495da1-8d77-4bed-8ba5-a2b18d39f052",
   "metadata": {},
   "outputs": [
    {
     "data": {
      "text/html": [
       "\n",
       "<style>\n",
       "    /* Turns off some styling */\n",
       "    progress {\n",
       "        /* gets rid of default border in Firefox and Opera. */\n",
       "        border: none;\n",
       "        /* Needs to be in here for Safari polyfill so background images work as expected. */\n",
       "        background-size: auto;\n",
       "    }\n",
       "    progress:not([value]), progress:not([value])::-webkit-progress-bar {\n",
       "        background: repeating-linear-gradient(45deg, #7e7e7e, #7e7e7e 10px, #5c5c5c 10px, #5c5c5c 20px);\n",
       "    }\n",
       "    .progress-bar-interrupted, .progress-bar-interrupted::-webkit-progress-bar {\n",
       "        background: #F44336;\n",
       "    }\n",
       "</style>\n"
      ],
      "text/plain": [
       "<IPython.core.display.HTML object>"
      ]
     },
     "metadata": {},
     "output_type": "display_data"
    },
    {
     "data": {
      "text/html": [],
      "text/plain": [
       "<IPython.core.display.HTML object>"
      ]
     },
     "metadata": {},
     "output_type": "display_data"
    },
    {
     "data": {
      "text/plain": [
       "('Amazon',\n",
       " tensor(0),\n",
       " tensor([0.1829, 0.0650, 0.0541, 0.0701, 0.0436, 0.0691, 0.0597, 0.0631, 0.0814,\n",
       "         0.0523, 0.0583, 0.0632, 0.0651, 0.0720]))"
      ]
     },
     "execution_count": 97,
     "metadata": {},
     "output_type": "execute_result"
    }
   ],
   "source": [
    "learn_finetune.predict('AMZN Mktp US*GW42262P3')"
   ]
  },
  {
   "cell_type": "markdown",
   "id": "0eae8067-df39-4cd7-aa26-7857fd4d04d2",
   "metadata": {},
   "source": [
    "# Fit one cycle"
   ]
  },
  {
   "cell_type": "code",
   "execution_count": 98,
   "id": "07c78f2d-44eb-4f18-880d-a9425462fff7",
   "metadata": {},
   "outputs": [],
   "source": [
    "learn_fit = text_classifier_learner(dls, AWD_LSTM, drop_mult=0.5, metrics=accuracy)"
   ]
  },
  {
   "cell_type": "code",
   "execution_count": 107,
   "id": "e4d217d1-b8ed-4178-b8aa-d41f28127488",
   "metadata": {},
   "outputs": [
    {
     "data": {
      "text/html": [
       "\n",
       "<style>\n",
       "    /* Turns off some styling */\n",
       "    progress {\n",
       "        /* gets rid of default border in Firefox and Opera. */\n",
       "        border: none;\n",
       "        /* Needs to be in here for Safari polyfill so background images work as expected. */\n",
       "        background-size: auto;\n",
       "    }\n",
       "    progress:not([value]), progress:not([value])::-webkit-progress-bar {\n",
       "        background: repeating-linear-gradient(45deg, #7e7e7e, #7e7e7e 10px, #5c5c5c 10px, #5c5c5c 20px);\n",
       "    }\n",
       "    .progress-bar-interrupted, .progress-bar-interrupted::-webkit-progress-bar {\n",
       "        background: #F44336;\n",
       "    }\n",
       "</style>\n"
      ],
      "text/plain": [
       "<IPython.core.display.HTML object>"
      ]
     },
     "metadata": {},
     "output_type": "display_data"
    },
    {
     "data": {
      "text/html": [
       "<table border=\"1\" class=\"dataframe\">\n",
       "  <thead>\n",
       "    <tr style=\"text-align: left;\">\n",
       "      <th>epoch</th>\n",
       "      <th>train_loss</th>\n",
       "      <th>valid_loss</th>\n",
       "      <th>accuracy</th>\n",
       "      <th>time</th>\n",
       "    </tr>\n",
       "  </thead>\n",
       "  <tbody>\n",
       "    <tr>\n",
       "      <td>0</td>\n",
       "      <td>2.399887</td>\n",
       "      <td>2.523246</td>\n",
       "      <td>0.242424</td>\n",
       "      <td>00:00</td>\n",
       "    </tr>\n",
       "    <tr>\n",
       "      <td>1</td>\n",
       "      <td>2.380246</td>\n",
       "      <td>2.472462</td>\n",
       "      <td>0.363636</td>\n",
       "      <td>00:00</td>\n",
       "    </tr>\n",
       "    <tr>\n",
       "      <td>2</td>\n",
       "      <td>2.319030</td>\n",
       "      <td>2.388698</td>\n",
       "      <td>0.454545</td>\n",
       "      <td>00:00</td>\n",
       "    </tr>\n",
       "    <tr>\n",
       "      <td>3</td>\n",
       "      <td>2.246946</td>\n",
       "      <td>2.302907</td>\n",
       "      <td>0.545455</td>\n",
       "      <td>00:00</td>\n",
       "    </tr>\n",
       "    <tr>\n",
       "      <td>4</td>\n",
       "      <td>2.165878</td>\n",
       "      <td>2.222806</td>\n",
       "      <td>0.575758</td>\n",
       "      <td>00:00</td>\n",
       "    </tr>\n",
       "    <tr>\n",
       "      <td>5</td>\n",
       "      <td>2.109444</td>\n",
       "      <td>2.143269</td>\n",
       "      <td>0.606061</td>\n",
       "      <td>00:00</td>\n",
       "    </tr>\n",
       "    <tr>\n",
       "      <td>6</td>\n",
       "      <td>2.055223</td>\n",
       "      <td>2.077895</td>\n",
       "      <td>0.606061</td>\n",
       "      <td>00:00</td>\n",
       "    </tr>\n",
       "    <tr>\n",
       "      <td>7</td>\n",
       "      <td>2.002399</td>\n",
       "      <td>2.026833</td>\n",
       "      <td>0.606061</td>\n",
       "      <td>00:00</td>\n",
       "    </tr>\n",
       "    <tr>\n",
       "      <td>8</td>\n",
       "      <td>1.979071</td>\n",
       "      <td>1.984128</td>\n",
       "      <td>0.636364</td>\n",
       "      <td>00:00</td>\n",
       "    </tr>\n",
       "    <tr>\n",
       "      <td>9</td>\n",
       "      <td>1.940246</td>\n",
       "      <td>1.944949</td>\n",
       "      <td>0.666667</td>\n",
       "      <td>00:00</td>\n",
       "    </tr>\n",
       "  </tbody>\n",
       "</table>"
      ],
      "text/plain": [
       "<IPython.core.display.HTML object>"
      ]
     },
     "metadata": {},
     "output_type": "display_data"
    }
   ],
   "source": [
    "learn_fit.fit_one_cycle(10)"
   ]
  },
  {
   "cell_type": "code",
   "execution_count": 108,
   "id": "13cd06cf-e847-4120-bb21-37d4280b25b3",
   "metadata": {},
   "outputs": [
    {
     "data": {
      "text/html": [
       "\n",
       "<style>\n",
       "    /* Turns off some styling */\n",
       "    progress {\n",
       "        /* gets rid of default border in Firefox and Opera. */\n",
       "        border: none;\n",
       "        /* Needs to be in here for Safari polyfill so background images work as expected. */\n",
       "        background-size: auto;\n",
       "    }\n",
       "    progress:not([value]), progress:not([value])::-webkit-progress-bar {\n",
       "        background: repeating-linear-gradient(45deg, #7e7e7e, #7e7e7e 10px, #5c5c5c 10px, #5c5c5c 20px);\n",
       "    }\n",
       "    .progress-bar-interrupted, .progress-bar-interrupted::-webkit-progress-bar {\n",
       "        background: #F44336;\n",
       "    }\n",
       "</style>\n"
      ],
      "text/plain": [
       "<IPython.core.display.HTML object>"
      ]
     },
     "metadata": {},
     "output_type": "display_data"
    },
    {
     "data": {
      "text/html": [],
      "text/plain": [
       "<IPython.core.display.HTML object>"
      ]
     },
     "metadata": {},
     "output_type": "display_data"
    },
    {
     "data": {
      "text/html": [
       "<table border=\"1\" class=\"dataframe\">\n",
       "  <thead>\n",
       "    <tr style=\"text-align: right;\">\n",
       "      <th></th>\n",
       "      <th>text</th>\n",
       "      <th>category</th>\n",
       "      <th>category_</th>\n",
       "    </tr>\n",
       "  </thead>\n",
       "  <tbody>\n",
       "    <tr>\n",
       "      <th>0</th>\n",
       "      <td>xxbos xxup xxunk * xxup xxunk xxup xxunk xxup xxunk xxmaj food &amp; xxmaj drink</td>\n",
       "      <td>Groceries &amp; Food</td>\n",
       "      <td>Groceries &amp; Food</td>\n",
       "    </tr>\n",
       "    <tr>\n",
       "      <th>1</th>\n",
       "      <td>xxbos xxup sq * xxunk xxup xxunk xxup los xxunk xxmaj dining</td>\n",
       "      <td>Groceries &amp; Food</td>\n",
       "      <td>Groceries &amp; Food</td>\n",
       "    </tr>\n",
       "    <tr>\n",
       "      <th>2</th>\n",
       "      <td>xxbos xxup adidas xxup us xxup online xxup store xxmaj merchandise</td>\n",
       "      <td>Clothing &amp; Personal Care</td>\n",
       "      <td>Clothing &amp; Personal Care</td>\n",
       "    </tr>\n",
       "    <tr>\n",
       "      <th>3</th>\n",
       "      <td>xxbos xxup sq * xxunk xxup xxunk xxup xxunk xxmaj merchandise</td>\n",
       "      <td>Groceries &amp; Food</td>\n",
       "      <td>Clothing &amp; Personal Care</td>\n",
       "    </tr>\n",
       "    <tr>\n",
       "      <th>4</th>\n",
       "      <td>xxbos xxup xxunk , xxup inc . xxmaj other xxmaj services</td>\n",
       "      <td>Miscellaneous</td>\n",
       "      <td>Miscellaneous</td>\n",
       "    </tr>\n",
       "    <tr>\n",
       "      <th>5</th>\n",
       "      <td>xxbos xxup xxunk xxup xxunk xxunk xxup online xxmaj dining</td>\n",
       "      <td>Groceries &amp; Food</td>\n",
       "      <td>Groceries &amp; Food</td>\n",
       "    </tr>\n",
       "    <tr>\n",
       "      <th>6</th>\n",
       "      <td>xxbos xxup xxunk 800 - xxunk - xxunk xxmaj merchandise</td>\n",
       "      <td>Clothing &amp; Personal Care</td>\n",
       "      <td>Miscellaneous</td>\n",
       "    </tr>\n",
       "    <tr>\n",
       "      <th>7</th>\n",
       "      <td>xxbos xxup sp xxup hatch xxup collection xxmaj merchandise</td>\n",
       "      <td>Clothing &amp; Personal Care</td>\n",
       "      <td>Clothing &amp; Personal Care</td>\n",
       "    </tr>\n",
       "    <tr>\n",
       "      <th>8</th>\n",
       "      <td>xxbos xxup nijiya xxup market # 61 xxmaj merchandise</td>\n",
       "      <td>Groceries &amp; Food</td>\n",
       "      <td>Clothing &amp; Personal Care</td>\n",
       "    </tr>\n",
       "  </tbody>\n",
       "</table>"
      ],
      "text/plain": [
       "<IPython.core.display.HTML object>"
      ]
     },
     "metadata": {},
     "output_type": "display_data"
    }
   ],
   "source": [
    "learn_fit.show_results()"
   ]
  },
  {
   "cell_type": "code",
   "execution_count": 101,
   "id": "3d8aa50a-6563-4867-91d1-75d894e614f0",
   "metadata": {},
   "outputs": [],
   "source": [
    "learn_fit.export('models/120523-fit.pkl')"
   ]
  },
  {
   "cell_type": "code",
   "execution_count": 102,
   "id": "eb3a1cb6-0391-46de-8ff1-51f1bf9da5bb",
   "metadata": {},
   "outputs": [
    {
     "data": {
      "text/html": [
       "\n",
       "<style>\n",
       "    /* Turns off some styling */\n",
       "    progress {\n",
       "        /* gets rid of default border in Firefox and Opera. */\n",
       "        border: none;\n",
       "        /* Needs to be in here for Safari polyfill so background images work as expected. */\n",
       "        background-size: auto;\n",
       "    }\n",
       "    progress:not([value]), progress:not([value])::-webkit-progress-bar {\n",
       "        background: repeating-linear-gradient(45deg, #7e7e7e, #7e7e7e 10px, #5c5c5c 10px, #5c5c5c 20px);\n",
       "    }\n",
       "    .progress-bar-interrupted, .progress-bar-interrupted::-webkit-progress-bar {\n",
       "        background: #F44336;\n",
       "    }\n",
       "</style>\n"
      ],
      "text/plain": [
       "<IPython.core.display.HTML object>"
      ]
     },
     "metadata": {},
     "output_type": "display_data"
    },
    {
     "data": {
      "text/html": [],
      "text/plain": [
       "<IPython.core.display.HTML object>"
      ]
     },
     "metadata": {},
     "output_type": "display_data"
    },
    {
     "data": {
      "text/plain": [
       "('Miscellaneous',\n",
       " tensor(7),\n",
       " tensor([0.0776, 0.0749, 0.0646, 0.0753, 0.0752, 0.0704, 0.0697, 0.0807, 0.0729,\n",
       "         0.0760, 0.0605, 0.0736, 0.0666, 0.0621]))"
      ]
     },
     "execution_count": 102,
     "metadata": {},
     "output_type": "execute_result"
    }
   ],
   "source": [
    "learn_fit.predict('AMZN Mktp US*GW42262P3')"
   ]
  },
  {
   "cell_type": "markdown",
   "id": "5de721fa-a019-4b61-8e47-0f34ae6fd2c9",
   "metadata": {},
   "source": [
    "# Model Training Results"
   ]
  },
  {
   "cell_type": "markdown",
   "id": "3df717cf-e0d2-459b-ae49-dd4117e81e1a",
   "metadata": {},
   "source": [
    "## 12-05-2023\n",
    "\n",
    "### Fine tuning\n",
    "\n",
    "Training size: 134\n",
    "Validation size: 33\n",
    "\n",
    "| epoch | train_loss | valid_loss | accuracy | time  |\n",
    "|-------|------------|------------|----------|-------|\n",
    "| 0     | 2.804887   | 2.517872   | 0.333333 | 00:00 |\n",
    "| 0     | 2.155915   | 2.453891   | 0.424242 | 00:00 |\n",
    "| 1     | 2.023252   | 2.341634   | 0.515152 | 00:00 |\n",
    "| 2     | 1.836782   | 2.136570   | 0.636364 | 00:00 |\n",
    "| 3     | 1.706438   | 1.865172   | 0.727273 | 00:00 |\n",
    "| 4     | 1.591477   | 1.587878   | 0.757576 | 00:00 |\n",
    "| 5     | 1.477993   | 1.415652   | 0.787879 | 00:00 |\n",
    "| 6     | 1.391266   | 1.315022   | 0.787879 | 00:00 |\n",
    "| 7     | 1.316200   | 1.265274   | 0.787879 | 00:00 |\n",
    "| 8     | 1.248108   | 1.236477   | 0.787879 | 00:00 |\n",
    "| 9     | 1.189136   | 1.216803   | 0.787879 | 00:00 |\n",
    "\n",
    "\n",
    "### Fit one cycle\n",
    "\n",
    "Training size: 134\n",
    "Validation size: 33\n",
    "\n",
    "| epoch | train_loss | valid_loss | accuracy | time  |\n",
    "|-------|------------|------------|----------|-------|\n",
    "| 0     | 2.399887   | 2.523246   | 0.242424 | 00:00 |\n",
    "| 1     | 2.380246   | 2.472462   | 0.363636 | 00:00 |\n",
    "| 2     | 2.319030   | 2.388698   | 0.454545 | 00:00 |\n",
    "| 3     | 2.246946   | 2.302907   | 0.545455 | 00:00 |\n",
    "| 4     | 2.165878   | 2.222806   | 0.575758 | 00:00 |\n",
    "| 5     | 2.109444   | 2.143269   | 0.606061 | 00:00 |\n",
    "| 6     | 2.055223   | 2.077895   | 0.606061 | 00:00 |\n",
    "| 7     | 2.002399   | 2.026833   | 0.606061 | 00:00 |\n",
    "| 8     | 1.979071   | 1.984128   | 0.636364 | 00:00 |\n",
    "| 9     | 1.940246   | 1.944949   | 0.666667 | 00:00 |\n",
    "\n"
   ]
  },
  {
   "cell_type": "markdown",
   "id": "4c488501-6587-4b63-aa66-fe6fb3313c4f",
   "metadata": {},
   "source": [
    "# References\n",
    "1. [Text transfer learning](https://docs.fast.ai/tutorial.text.html)\n",
    "2. [TextDataLoaders.from_csv](https://docs.fast.ai/text.data.html#textdataloaders.from_csv)"
   ]
  }
 ],
 "metadata": {
  "kernelspec": {
   "display_name": "Python 3 (ipykernel)",
   "language": "python",
   "name": "python3"
  },
  "language_info": {
   "codemirror_mode": {
    "name": "ipython",
    "version": 3
   },
   "file_extension": ".py",
   "mimetype": "text/x-python",
   "name": "python",
   "nbconvert_exporter": "python",
   "pygments_lexer": "ipython3",
   "version": "3.9.6"
  }
 },
 "nbformat": 4,
 "nbformat_minor": 5
}
