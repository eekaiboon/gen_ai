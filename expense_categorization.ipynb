{
 "cells": [
  {
   "cell_type": "code",
   "execution_count": 1,
   "id": "bfb1c4d4-215d-4f07-9c17-24241fa86fd6",
   "metadata": {},
   "outputs": [],
   "source": [
    "from fastai.text.all import *"
   ]
  },
  {
   "cell_type": "code",
   "execution_count": 2,
   "id": "61aeda50-a517-4e8d-a3eb-31289b5e830c",
   "metadata": {},
   "outputs": [
    {
     "data": {
      "text/html": [
       "<div>\n",
       "<style scoped>\n",
       "    .dataframe tbody tr th:only-of-type {\n",
       "        vertical-align: middle;\n",
       "    }\n",
       "\n",
       "    .dataframe tbody tr th {\n",
       "        vertical-align: top;\n",
       "    }\n",
       "\n",
       "    .dataframe thead th {\n",
       "        text-align: right;\n",
       "    }\n",
       "</style>\n",
       "<table border=\"1\" class=\"dataframe\">\n",
       "  <thead>\n",
       "    <tr style=\"text-align: right;\">\n",
       "      <th></th>\n",
       "      <th>description</th>\n",
       "      <th>category</th>\n",
       "    </tr>\n",
       "  </thead>\n",
       "  <tbody>\n",
       "    <tr>\n",
       "      <th>0</th>\n",
       "      <td>TRADER JOE S #068 Merchandise</td>\n",
       "      <td>Groceries &amp; Food</td>\n",
       "    </tr>\n",
       "    <tr>\n",
       "      <th>1</th>\n",
       "      <td>WHOLEFDS SVL#10707 Groceries</td>\n",
       "      <td>Groceries &amp; Food</td>\n",
       "    </tr>\n",
       "    <tr>\n",
       "      <th>2</th>\n",
       "      <td>Amazon.com Shopping</td>\n",
       "      <td>Amazon</td>\n",
       "    </tr>\n",
       "    <tr>\n",
       "      <th>3</th>\n",
       "      <td>OPENAI Shopping</td>\n",
       "      <td>Subscriptions &amp; Memberships</td>\n",
       "    </tr>\n",
       "    <tr>\n",
       "      <th>4</th>\n",
       "      <td>Amazon.com*NH99Y5J73 Shopping</td>\n",
       "      <td>Amazon</td>\n",
       "    </tr>\n",
       "  </tbody>\n",
       "</table>\n",
       "</div>"
      ],
      "text/plain": [
       "                     description                     category\n",
       "0  TRADER JOE S #068 Merchandise             Groceries & Food\n",
       "1   WHOLEFDS SVL#10707 Groceries             Groceries & Food\n",
       "2            Amazon.com Shopping                       Amazon\n",
       "3                OPENAI Shopping  Subscriptions & Memberships\n",
       "4  Amazon.com*NH99Y5J73 Shopping                       Amazon"
      ]
     },
     "execution_count": 2,
     "metadata": {},
     "output_type": "execute_result"
    }
   ],
   "source": [
    "df = pd.read_csv('./expenses.csv')\n",
    "df.head()"
   ]
  },
  {
   "cell_type": "code",
   "execution_count": 3,
   "id": "98b9f1c8-56e9-4454-8b97-0d0b5197bd3a",
   "metadata": {},
   "outputs": [
    {
     "data": {
      "text/html": [
       "\n",
       "<style>\n",
       "    /* Turns off some styling */\n",
       "    progress {\n",
       "        /* gets rid of default border in Firefox and Opera. */\n",
       "        border: none;\n",
       "        /* Needs to be in here for Safari polyfill so background images work as expected. */\n",
       "        background-size: auto;\n",
       "    }\n",
       "    progress:not([value]), progress:not([value])::-webkit-progress-bar {\n",
       "        background: repeating-linear-gradient(45deg, #7e7e7e, #7e7e7e 10px, #5c5c5c 10px, #5c5c5c 20px);\n",
       "    }\n",
       "    .progress-bar-interrupted, .progress-bar-interrupted::-webkit-progress-bar {\n",
       "        background: #F44336;\n",
       "    }\n",
       "</style>\n"
      ],
      "text/plain": [
       "<IPython.core.display.HTML object>"
      ]
     },
     "metadata": {},
     "output_type": "display_data"
    },
    {
     "data": {
      "text/html": [],
      "text/plain": [
       "<IPython.core.display.HTML object>"
      ]
     },
     "metadata": {},
     "output_type": "display_data"
    },
    {
     "data": {
      "text/html": [
       "<table border=\"1\" class=\"dataframe\">\n",
       "  <thead>\n",
       "    <tr style=\"text-align: right;\">\n",
       "      <th></th>\n",
       "      <th>text</th>\n",
       "      <th>category</th>\n",
       "    </tr>\n",
       "  </thead>\n",
       "  <tbody>\n",
       "    <tr>\n",
       "      <th>0</th>\n",
       "      <td>xxbos xxup xxunk xxup xxunk xxup xxunk ( n xxup xxunk xxmaj food &amp; xxmaj drink</td>\n",
       "      <td>Groceries &amp; Food</td>\n",
       "    </tr>\n",
       "    <tr>\n",
       "      <th>1</th>\n",
       "      <td>xxbos xxup xxunk - xxunk xxup xxunk - xxunk - xxunk xxmaj bills &amp; xxmaj utilities</td>\n",
       "      <td>Insurance</td>\n",
       "    </tr>\n",
       "    <tr>\n",
       "      <th>2</th>\n",
       "      <td>xxbos xxup xxunk xxup xxunk xxup xxunk ( n xxup xxunk xxmaj food &amp; xxmaj drink</td>\n",
       "      <td>Groceries &amp; Food</td>\n",
       "    </tr>\n",
       "  </tbody>\n",
       "</table>"
      ],
      "text/plain": [
       "<IPython.core.display.HTML object>"
      ]
     },
     "metadata": {},
     "output_type": "display_data"
    }
   ],
   "source": [
    "dls = TextDataLoaders.from_csv(\n",
    "    path='.',\n",
    "    csv_fname='expenses.csv',\n",
    "    text_col='description',\n",
    "    label_col='category')\n",
    "dls.show_batch(max_n=3)"
   ]
  },
  {
   "cell_type": "code",
   "execution_count": 4,
   "id": "7448858d-c887-47a4-b3df-d7728ee5a07a",
   "metadata": {},
   "outputs": [
    {
     "name": "stdout",
     "output_type": "stream",
     "text": [
      "Training size: 252\n",
      "Validation size: 63\n"
     ]
    }
   ],
   "source": [
    "train_size = len(dls.train_ds)\n",
    "valid_size = len(dls.valid_ds)\n",
    "\n",
    "print(f\"Training size: {train_size}\")\n",
    "print(f\"Validation size: {valid_size}\")"
   ]
  },
  {
   "cell_type": "markdown",
   "id": "ee55c7db-f484-4f93-bfeb-0faf11f58026",
   "metadata": {},
   "source": [
    "# Fine tuning"
   ]
  },
  {
   "cell_type": "code",
   "execution_count": 5,
   "id": "4fc5ec45-9405-4972-ad9e-c7c913eb011b",
   "metadata": {},
   "outputs": [],
   "source": [
    "learn_finetune = text_classifier_learner(dls, AWD_LSTM, drop_mult=0.5, metrics=accuracy)"
   ]
  },
  {
   "cell_type": "code",
   "execution_count": 6,
   "id": "07406dcb-ff09-43bc-8cce-9ba5ec68959f",
   "metadata": {},
   "outputs": [
    {
     "data": {
      "text/html": [
       "\n",
       "<style>\n",
       "    /* Turns off some styling */\n",
       "    progress {\n",
       "        /* gets rid of default border in Firefox and Opera. */\n",
       "        border: none;\n",
       "        /* Needs to be in here for Safari polyfill so background images work as expected. */\n",
       "        background-size: auto;\n",
       "    }\n",
       "    progress:not([value]), progress:not([value])::-webkit-progress-bar {\n",
       "        background: repeating-linear-gradient(45deg, #7e7e7e, #7e7e7e 10px, #5c5c5c 10px, #5c5c5c 20px);\n",
       "    }\n",
       "    .progress-bar-interrupted, .progress-bar-interrupted::-webkit-progress-bar {\n",
       "        background: #F44336;\n",
       "    }\n",
       "</style>\n"
      ],
      "text/plain": [
       "<IPython.core.display.HTML object>"
      ]
     },
     "metadata": {},
     "output_type": "display_data"
    },
    {
     "data": {
      "text/html": [
       "<table border=\"1\" class=\"dataframe\">\n",
       "  <thead>\n",
       "    <tr style=\"text-align: left;\">\n",
       "      <th>epoch</th>\n",
       "      <th>train_loss</th>\n",
       "      <th>valid_loss</th>\n",
       "      <th>accuracy</th>\n",
       "      <th>time</th>\n",
       "    </tr>\n",
       "  </thead>\n",
       "  <tbody>\n",
       "    <tr>\n",
       "      <td>0</td>\n",
       "      <td>2.806714</td>\n",
       "      <td>2.574252</td>\n",
       "      <td>0.365079</td>\n",
       "      <td>00:02</td>\n",
       "    </tr>\n",
       "  </tbody>\n",
       "</table>"
      ],
      "text/plain": [
       "<IPython.core.display.HTML object>"
      ]
     },
     "metadata": {},
     "output_type": "display_data"
    },
    {
     "data": {
      "text/html": [
       "\n",
       "<style>\n",
       "    /* Turns off some styling */\n",
       "    progress {\n",
       "        /* gets rid of default border in Firefox and Opera. */\n",
       "        border: none;\n",
       "        /* Needs to be in here for Safari polyfill so background images work as expected. */\n",
       "        background-size: auto;\n",
       "    }\n",
       "    progress:not([value]), progress:not([value])::-webkit-progress-bar {\n",
       "        background: repeating-linear-gradient(45deg, #7e7e7e, #7e7e7e 10px, #5c5c5c 10px, #5c5c5c 20px);\n",
       "    }\n",
       "    .progress-bar-interrupted, .progress-bar-interrupted::-webkit-progress-bar {\n",
       "        background: #F44336;\n",
       "    }\n",
       "</style>\n"
      ],
      "text/plain": [
       "<IPython.core.display.HTML object>"
      ]
     },
     "metadata": {},
     "output_type": "display_data"
    },
    {
     "data": {
      "text/html": [
       "<table border=\"1\" class=\"dataframe\">\n",
       "  <thead>\n",
       "    <tr style=\"text-align: left;\">\n",
       "      <th>epoch</th>\n",
       "      <th>train_loss</th>\n",
       "      <th>valid_loss</th>\n",
       "      <th>accuracy</th>\n",
       "      <th>time</th>\n",
       "    </tr>\n",
       "  </thead>\n",
       "  <tbody>\n",
       "    <tr>\n",
       "      <td>0</td>\n",
       "      <td>2.160652</td>\n",
       "      <td>2.428968</td>\n",
       "      <td>0.650794</td>\n",
       "      <td>00:01</td>\n",
       "    </tr>\n",
       "    <tr>\n",
       "      <td>1</td>\n",
       "      <td>2.001271</td>\n",
       "      <td>2.175531</td>\n",
       "      <td>0.730159</td>\n",
       "      <td>00:00</td>\n",
       "    </tr>\n",
       "    <tr>\n",
       "      <td>2</td>\n",
       "      <td>1.840311</td>\n",
       "      <td>1.759516</td>\n",
       "      <td>0.714286</td>\n",
       "      <td>00:00</td>\n",
       "    </tr>\n",
       "    <tr>\n",
       "      <td>3</td>\n",
       "      <td>1.691128</td>\n",
       "      <td>1.465099</td>\n",
       "      <td>0.746032</td>\n",
       "      <td>00:00</td>\n",
       "    </tr>\n",
       "    <tr>\n",
       "      <td>4</td>\n",
       "      <td>1.563053</td>\n",
       "      <td>1.427480</td>\n",
       "      <td>0.682540</td>\n",
       "      <td>00:00</td>\n",
       "    </tr>\n",
       "    <tr>\n",
       "      <td>5</td>\n",
       "      <td>1.468787</td>\n",
       "      <td>1.289794</td>\n",
       "      <td>0.698413</td>\n",
       "      <td>00:00</td>\n",
       "    </tr>\n",
       "    <tr>\n",
       "      <td>6</td>\n",
       "      <td>1.366393</td>\n",
       "      <td>1.177989</td>\n",
       "      <td>0.730159</td>\n",
       "      <td>00:00</td>\n",
       "    </tr>\n",
       "    <tr>\n",
       "      <td>7</td>\n",
       "      <td>1.286151</td>\n",
       "      <td>1.128382</td>\n",
       "      <td>0.730159</td>\n",
       "      <td>00:00</td>\n",
       "    </tr>\n",
       "    <tr>\n",
       "      <td>8</td>\n",
       "      <td>1.227368</td>\n",
       "      <td>1.098116</td>\n",
       "      <td>0.730159</td>\n",
       "      <td>00:00</td>\n",
       "    </tr>\n",
       "    <tr>\n",
       "      <td>9</td>\n",
       "      <td>1.166456</td>\n",
       "      <td>1.082516</td>\n",
       "      <td>0.730159</td>\n",
       "      <td>00:00</td>\n",
       "    </tr>\n",
       "  </tbody>\n",
       "</table>"
      ],
      "text/plain": [
       "<IPython.core.display.HTML object>"
      ]
     },
     "metadata": {},
     "output_type": "display_data"
    }
   ],
   "source": [
    "learn_finetune.fine_tune(10, 1e-2)"
   ]
  },
  {
   "cell_type": "code",
   "execution_count": 7,
   "id": "c2e02f11-0b19-414a-85c8-9a24681ec6b9",
   "metadata": {},
   "outputs": [
    {
     "data": {
      "text/html": [
       "\n",
       "<style>\n",
       "    /* Turns off some styling */\n",
       "    progress {\n",
       "        /* gets rid of default border in Firefox and Opera. */\n",
       "        border: none;\n",
       "        /* Needs to be in here for Safari polyfill so background images work as expected. */\n",
       "        background-size: auto;\n",
       "    }\n",
       "    progress:not([value]), progress:not([value])::-webkit-progress-bar {\n",
       "        background: repeating-linear-gradient(45deg, #7e7e7e, #7e7e7e 10px, #5c5c5c 10px, #5c5c5c 20px);\n",
       "    }\n",
       "    .progress-bar-interrupted, .progress-bar-interrupted::-webkit-progress-bar {\n",
       "        background: #F44336;\n",
       "    }\n",
       "</style>\n"
      ],
      "text/plain": [
       "<IPython.core.display.HTML object>"
      ]
     },
     "metadata": {},
     "output_type": "display_data"
    },
    {
     "data": {
      "text/html": [],
      "text/plain": [
       "<IPython.core.display.HTML object>"
      ]
     },
     "metadata": {},
     "output_type": "display_data"
    },
    {
     "data": {
      "text/html": [
       "<table border=\"1\" class=\"dataframe\">\n",
       "  <thead>\n",
       "    <tr style=\"text-align: right;\">\n",
       "      <th></th>\n",
       "      <th>text</th>\n",
       "      <th>category</th>\n",
       "      <th>category_</th>\n",
       "    </tr>\n",
       "  </thead>\n",
       "  <tbody>\n",
       "    <tr>\n",
       "      <th>0</th>\n",
       "      <td>xxbos xxup sq * xxunk xxup xxunk xxup xxunk xxmaj food &amp; xxmaj drink</td>\n",
       "      <td>Groceries &amp; Food</td>\n",
       "      <td>Groceries &amp; Food</td>\n",
       "    </tr>\n",
       "    <tr>\n",
       "      <th>1</th>\n",
       "      <td>xxbos xxup ua.com * xxrep 3 8 -727 - 6687 xxup md xxmaj merchandise</td>\n",
       "      <td>Clothing &amp; Personal Care</td>\n",
       "      <td>Clothing &amp; Personal Care</td>\n",
       "    </tr>\n",
       "    <tr>\n",
       "      <th>2</th>\n",
       "      <td>xxbos xxup xxunk xxunk xxup xxunk xxup xxunk xxmaj food &amp; xxmaj drink</td>\n",
       "      <td>Groceries &amp; Food</td>\n",
       "      <td>Groceries &amp; Food</td>\n",
       "    </tr>\n",
       "    <tr>\n",
       "      <th>3</th>\n",
       "      <td>xxbos xxup xxunk xxup xxunk xxup market * xxmaj food &amp; xxmaj drink</td>\n",
       "      <td>Groceries &amp; Food</td>\n",
       "      <td>Groceries &amp; Food</td>\n",
       "    </tr>\n",
       "    <tr>\n",
       "      <th>4</th>\n",
       "      <td>xxbos xxup sq * sunnyvale xxup xxunk 's xxup xxunk xxmaj merchandise</td>\n",
       "      <td>Groceries &amp; Food</td>\n",
       "      <td>Clothing &amp; Personal Care</td>\n",
       "    </tr>\n",
       "    <tr>\n",
       "      <th>5</th>\n",
       "      <td>xxbos xxup tst * xxmaj xxunk xxmaj xxunk xxmaj xxunk xxmaj dining</td>\n",
       "      <td>Groceries &amp; Food</td>\n",
       "      <td>Groceries &amp; Food</td>\n",
       "    </tr>\n",
       "    <tr>\n",
       "      <th>6</th>\n",
       "      <td>xxbos xxup tea xxup xxunk xxup inc xxmaj food &amp; xxmaj drink</td>\n",
       "      <td>Groceries &amp; Food</td>\n",
       "      <td>Groceries &amp; Food</td>\n",
       "    </tr>\n",
       "    <tr>\n",
       "      <th>7</th>\n",
       "      <td>xxbos xxup sq * xxunk - xxunk xxmaj food &amp; xxmaj drink</td>\n",
       "      <td>Groceries &amp; Food</td>\n",
       "      <td>Groceries &amp; Food</td>\n",
       "    </tr>\n",
       "    <tr>\n",
       "      <th>8</th>\n",
       "      <td>xxbos xxup sq * xxunk xxup xxunk xxup xxunk xxmaj merchandise</td>\n",
       "      <td>Groceries &amp; Food</td>\n",
       "      <td>Groceries &amp; Food</td>\n",
       "    </tr>\n",
       "  </tbody>\n",
       "</table>"
      ],
      "text/plain": [
       "<IPython.core.display.HTML object>"
      ]
     },
     "metadata": {},
     "output_type": "display_data"
    }
   ],
   "source": [
    "learn_finetune.show_results()"
   ]
  },
  {
   "cell_type": "code",
   "execution_count": 8,
   "id": "03618ba2-20a3-4154-a172-4c3de414f23f",
   "metadata": {},
   "outputs": [],
   "source": [
    "learn_finetune.export('models/120523-finetune.pkl')"
   ]
  },
  {
   "cell_type": "code",
   "execution_count": 9,
   "id": "77495da1-8d77-4bed-8ba5-a2b18d39f052",
   "metadata": {},
   "outputs": [
    {
     "data": {
      "text/html": [
       "\n",
       "<style>\n",
       "    /* Turns off some styling */\n",
       "    progress {\n",
       "        /* gets rid of default border in Firefox and Opera. */\n",
       "        border: none;\n",
       "        /* Needs to be in here for Safari polyfill so background images work as expected. */\n",
       "        background-size: auto;\n",
       "    }\n",
       "    progress:not([value]), progress:not([value])::-webkit-progress-bar {\n",
       "        background: repeating-linear-gradient(45deg, #7e7e7e, #7e7e7e 10px, #5c5c5c 10px, #5c5c5c 20px);\n",
       "    }\n",
       "    .progress-bar-interrupted, .progress-bar-interrupted::-webkit-progress-bar {\n",
       "        background: #F44336;\n",
       "    }\n",
       "</style>\n"
      ],
      "text/plain": [
       "<IPython.core.display.HTML object>"
      ]
     },
     "metadata": {},
     "output_type": "display_data"
    },
    {
     "data": {
      "text/html": [],
      "text/plain": [
       "<IPython.core.display.HTML object>"
      ]
     },
     "metadata": {},
     "output_type": "display_data"
    },
    {
     "data": {
      "text/plain": [
       "('Amazon',\n",
       " tensor(0),\n",
       " tensor([0.8309, 0.0024, 0.0115, 0.0061, 0.0046, 0.0154, 0.0190, 0.0095, 0.0076,\n",
       "         0.0116, 0.0100, 0.0104, 0.0089, 0.0208, 0.0312]))"
      ]
     },
     "execution_count": 9,
     "metadata": {},
     "output_type": "execute_result"
    }
   ],
   "source": [
    "learn_finetune.predict('AMZN Mktp US*GW42262P3')"
   ]
  },
  {
   "cell_type": "markdown",
   "id": "0eae8067-df39-4cd7-aa26-7857fd4d04d2",
   "metadata": {},
   "source": [
    "# Fit one cycle"
   ]
  },
  {
   "cell_type": "code",
   "execution_count": 10,
   "id": "07c78f2d-44eb-4f18-880d-a9425462fff7",
   "metadata": {},
   "outputs": [],
   "source": [
    "learn_fit = text_classifier_learner(dls, AWD_LSTM, drop_mult=0.5, metrics=accuracy)"
   ]
  },
  {
   "cell_type": "code",
   "execution_count": 11,
   "id": "e4d217d1-b8ed-4178-b8aa-d41f28127488",
   "metadata": {},
   "outputs": [
    {
     "data": {
      "text/html": [
       "\n",
       "<style>\n",
       "    /* Turns off some styling */\n",
       "    progress {\n",
       "        /* gets rid of default border in Firefox and Opera. */\n",
       "        border: none;\n",
       "        /* Needs to be in here for Safari polyfill so background images work as expected. */\n",
       "        background-size: auto;\n",
       "    }\n",
       "    progress:not([value]), progress:not([value])::-webkit-progress-bar {\n",
       "        background: repeating-linear-gradient(45deg, #7e7e7e, #7e7e7e 10px, #5c5c5c 10px, #5c5c5c 20px);\n",
       "    }\n",
       "    .progress-bar-interrupted, .progress-bar-interrupted::-webkit-progress-bar {\n",
       "        background: #F44336;\n",
       "    }\n",
       "</style>\n"
      ],
      "text/plain": [
       "<IPython.core.display.HTML object>"
      ]
     },
     "metadata": {},
     "output_type": "display_data"
    },
    {
     "data": {
      "text/html": [
       "<table border=\"1\" class=\"dataframe\">\n",
       "  <thead>\n",
       "    <tr style=\"text-align: left;\">\n",
       "      <th>epoch</th>\n",
       "      <th>train_loss</th>\n",
       "      <th>valid_loss</th>\n",
       "      <th>accuracy</th>\n",
       "      <th>time</th>\n",
       "    </tr>\n",
       "  </thead>\n",
       "  <tbody>\n",
       "    <tr>\n",
       "      <td>0</td>\n",
       "      <td>2.857810</td>\n",
       "      <td>2.707823</td>\n",
       "      <td>0.031746</td>\n",
       "      <td>00:00</td>\n",
       "    </tr>\n",
       "    <tr>\n",
       "      <td>1</td>\n",
       "      <td>2.781974</td>\n",
       "      <td>2.673907</td>\n",
       "      <td>0.063492</td>\n",
       "      <td>00:00</td>\n",
       "    </tr>\n",
       "    <tr>\n",
       "      <td>2</td>\n",
       "      <td>2.741200</td>\n",
       "      <td>2.588284</td>\n",
       "      <td>0.365079</td>\n",
       "      <td>00:00</td>\n",
       "    </tr>\n",
       "    <tr>\n",
       "      <td>3</td>\n",
       "      <td>2.646519</td>\n",
       "      <td>2.481049</td>\n",
       "      <td>0.539683</td>\n",
       "      <td>00:00</td>\n",
       "    </tr>\n",
       "    <tr>\n",
       "      <td>4</td>\n",
       "      <td>2.533060</td>\n",
       "      <td>2.355062</td>\n",
       "      <td>0.571429</td>\n",
       "      <td>00:00</td>\n",
       "    </tr>\n",
       "    <tr>\n",
       "      <td>5</td>\n",
       "      <td>2.440076</td>\n",
       "      <td>2.235296</td>\n",
       "      <td>0.571429</td>\n",
       "      <td>00:00</td>\n",
       "    </tr>\n",
       "    <tr>\n",
       "      <td>6</td>\n",
       "      <td>2.369006</td>\n",
       "      <td>2.127997</td>\n",
       "      <td>0.571429</td>\n",
       "      <td>00:00</td>\n",
       "    </tr>\n",
       "    <tr>\n",
       "      <td>7</td>\n",
       "      <td>2.296825</td>\n",
       "      <td>2.038445</td>\n",
       "      <td>0.571429</td>\n",
       "      <td>00:00</td>\n",
       "    </tr>\n",
       "    <tr>\n",
       "      <td>8</td>\n",
       "      <td>2.241405</td>\n",
       "      <td>1.966740</td>\n",
       "      <td>0.571429</td>\n",
       "      <td>00:00</td>\n",
       "    </tr>\n",
       "    <tr>\n",
       "      <td>9</td>\n",
       "      <td>2.185588</td>\n",
       "      <td>1.889198</td>\n",
       "      <td>0.571429</td>\n",
       "      <td>00:00</td>\n",
       "    </tr>\n",
       "  </tbody>\n",
       "</table>"
      ],
      "text/plain": [
       "<IPython.core.display.HTML object>"
      ]
     },
     "metadata": {},
     "output_type": "display_data"
    }
   ],
   "source": [
    "learn_fit.fit_one_cycle(10)"
   ]
  },
  {
   "cell_type": "code",
   "execution_count": 12,
   "id": "13cd06cf-e847-4120-bb21-37d4280b25b3",
   "metadata": {},
   "outputs": [
    {
     "data": {
      "text/html": [
       "\n",
       "<style>\n",
       "    /* Turns off some styling */\n",
       "    progress {\n",
       "        /* gets rid of default border in Firefox and Opera. */\n",
       "        border: none;\n",
       "        /* Needs to be in here for Safari polyfill so background images work as expected. */\n",
       "        background-size: auto;\n",
       "    }\n",
       "    progress:not([value]), progress:not([value])::-webkit-progress-bar {\n",
       "        background: repeating-linear-gradient(45deg, #7e7e7e, #7e7e7e 10px, #5c5c5c 10px, #5c5c5c 20px);\n",
       "    }\n",
       "    .progress-bar-interrupted, .progress-bar-interrupted::-webkit-progress-bar {\n",
       "        background: #F44336;\n",
       "    }\n",
       "</style>\n"
      ],
      "text/plain": [
       "<IPython.core.display.HTML object>"
      ]
     },
     "metadata": {},
     "output_type": "display_data"
    },
    {
     "data": {
      "text/html": [],
      "text/plain": [
       "<IPython.core.display.HTML object>"
      ]
     },
     "metadata": {},
     "output_type": "display_data"
    },
    {
     "data": {
      "text/html": [
       "<table border=\"1\" class=\"dataframe\">\n",
       "  <thead>\n",
       "    <tr style=\"text-align: right;\">\n",
       "      <th></th>\n",
       "      <th>text</th>\n",
       "      <th>category</th>\n",
       "      <th>category_</th>\n",
       "    </tr>\n",
       "  </thead>\n",
       "  <tbody>\n",
       "    <tr>\n",
       "      <th>0</th>\n",
       "      <td>xxbos xxup sq * xxunk xxup xxunk xxup xxunk xxmaj food &amp; xxmaj drink</td>\n",
       "      <td>Groceries &amp; Food</td>\n",
       "      <td>Groceries &amp; Food</td>\n",
       "    </tr>\n",
       "    <tr>\n",
       "      <th>1</th>\n",
       "      <td>xxbos xxup ua.com * xxrep 3 8 -727 - 6687 xxup md xxmaj merchandise</td>\n",
       "      <td>Clothing &amp; Personal Care</td>\n",
       "      <td>Clothing &amp; Personal Care</td>\n",
       "    </tr>\n",
       "    <tr>\n",
       "      <th>2</th>\n",
       "      <td>xxbos xxup xxunk xxunk xxup xxunk xxup xxunk xxmaj food &amp; xxmaj drink</td>\n",
       "      <td>Groceries &amp; Food</td>\n",
       "      <td>Groceries &amp; Food</td>\n",
       "    </tr>\n",
       "    <tr>\n",
       "      <th>3</th>\n",
       "      <td>xxbos xxup xxunk xxup xxunk xxup market * xxmaj food &amp; xxmaj drink</td>\n",
       "      <td>Groceries &amp; Food</td>\n",
       "      <td>Groceries &amp; Food</td>\n",
       "    </tr>\n",
       "    <tr>\n",
       "      <th>4</th>\n",
       "      <td>xxbos xxup sq * sunnyvale xxup xxunk 's xxup xxunk xxmaj merchandise</td>\n",
       "      <td>Groceries &amp; Food</td>\n",
       "      <td>Entertainment</td>\n",
       "    </tr>\n",
       "    <tr>\n",
       "      <th>5</th>\n",
       "      <td>xxbos xxup tea xxup xxunk xxup inc xxmaj food &amp; xxmaj drink</td>\n",
       "      <td>Groceries &amp; Food</td>\n",
       "      <td>Groceries &amp; Food</td>\n",
       "    </tr>\n",
       "    <tr>\n",
       "      <th>6</th>\n",
       "      <td>xxbos xxup tst * xxmaj xxunk xxmaj xxunk xxmaj xxunk xxmaj dining</td>\n",
       "      <td>Groceries &amp; Food</td>\n",
       "      <td>Amazon</td>\n",
       "    </tr>\n",
       "    <tr>\n",
       "      <th>7</th>\n",
       "      <td>xxbos xxup sq * xxunk - xxunk xxmaj food &amp; xxmaj drink</td>\n",
       "      <td>Groceries &amp; Food</td>\n",
       "      <td>Groceries &amp; Food</td>\n",
       "    </tr>\n",
       "    <tr>\n",
       "      <th>8</th>\n",
       "      <td>xxbos xxup sq * xxunk xxup xxunk xxup xxunk xxmaj merchandise</td>\n",
       "      <td>Groceries &amp; Food</td>\n",
       "      <td>Groceries &amp; Food</td>\n",
       "    </tr>\n",
       "  </tbody>\n",
       "</table>"
      ],
      "text/plain": [
       "<IPython.core.display.HTML object>"
      ]
     },
     "metadata": {},
     "output_type": "display_data"
    }
   ],
   "source": [
    "learn_fit.show_results()"
   ]
  },
  {
   "cell_type": "code",
   "execution_count": 13,
   "id": "3d8aa50a-6563-4867-91d1-75d894e614f0",
   "metadata": {},
   "outputs": [],
   "source": [
    "learn_fit.export('models/120523-fit.pkl')"
   ]
  },
  {
   "cell_type": "code",
   "execution_count": 14,
   "id": "eb3a1cb6-0391-46de-8ff1-51f1bf9da5bb",
   "metadata": {},
   "outputs": [
    {
     "data": {
      "text/html": [
       "\n",
       "<style>\n",
       "    /* Turns off some styling */\n",
       "    progress {\n",
       "        /* gets rid of default border in Firefox and Opera. */\n",
       "        border: none;\n",
       "        /* Needs to be in here for Safari polyfill so background images work as expected. */\n",
       "        background-size: auto;\n",
       "    }\n",
       "    progress:not([value]), progress:not([value])::-webkit-progress-bar {\n",
       "        background: repeating-linear-gradient(45deg, #7e7e7e, #7e7e7e 10px, #5c5c5c 10px, #5c5c5c 20px);\n",
       "    }\n",
       "    .progress-bar-interrupted, .progress-bar-interrupted::-webkit-progress-bar {\n",
       "        background: #F44336;\n",
       "    }\n",
       "</style>\n"
      ],
      "text/plain": [
       "<IPython.core.display.HTML object>"
      ]
     },
     "metadata": {},
     "output_type": "display_data"
    },
    {
     "data": {
      "text/html": [],
      "text/plain": [
       "<IPython.core.display.HTML object>"
      ]
     },
     "metadata": {},
     "output_type": "display_data"
    },
    {
     "data": {
      "text/plain": [
       "('Amazon',\n",
       " tensor(0),\n",
       " tensor([0.3002, 0.0287, 0.0375, 0.0578, 0.0339, 0.1109, 0.0711, 0.0243, 0.0399,\n",
       "         0.0255, 0.0460, 0.0515, 0.0769, 0.0497, 0.0462]))"
      ]
     },
     "execution_count": 14,
     "metadata": {},
     "output_type": "execute_result"
    }
   ],
   "source": [
    "learn_fit.predict('AMZN Mktp US*GW42262P3')"
   ]
  },
  {
   "cell_type": "markdown",
   "id": "5de721fa-a019-4b61-8e47-0f34ae6fd2c9",
   "metadata": {},
   "source": [
    "# Model Training Results"
   ]
  },
  {
   "cell_type": "markdown",
   "id": "3df717cf-e0d2-459b-ae49-dd4117e81e1a",
   "metadata": {},
   "source": [
    "## 12-05-2023\n",
    "\n",
    "### Fine tuning\n",
    "\n",
    "Training size: 134\n",
    "Validation size: 33\n",
    "\n",
    "| epoch | train_loss | valid_loss | accuracy | time  |\n",
    "|-------|------------|------------|----------|-------|\n",
    "| 0     | 2.804887   | 2.517872   | 0.333333 | 00:00 |\n",
    "| 0     | 2.155915   | 2.453891   | 0.424242 | 00:00 |\n",
    "| 1     | 2.023252   | 2.341634   | 0.515152 | 00:00 |\n",
    "| 2     | 1.836782   | 2.136570   | 0.636364 | 00:00 |\n",
    "| 3     | 1.706438   | 1.865172   | 0.727273 | 00:00 |\n",
    "| 4     | 1.591477   | 1.587878   | 0.757576 | 00:00 |\n",
    "| 5     | 1.477993   | 1.415652   | 0.787879 | 00:00 |\n",
    "| 6     | 1.391266   | 1.315022   | 0.787879 | 00:00 |\n",
    "| 7     | 1.316200   | 1.265274   | 0.787879 | 00:00 |\n",
    "| 8     | 1.248108   | 1.236477   | 0.787879 | 00:00 |\n",
    "| 9     | 1.189136   | 1.216803   | 0.787879 | 00:00 |\n",
    "\n",
    "\n",
    "### Fit one cycle\n",
    "\n",
    "Training size: 134\n",
    "Validation size: 33\n",
    "\n",
    "| epoch | train_loss | valid_loss | accuracy | time  |\n",
    "|-------|------------|------------|----------|-------|\n",
    "| 0     | 2.399887   | 2.523246   | 0.242424 | 00:00 |\n",
    "| 1     | 2.380246   | 2.472462   | 0.363636 | 00:00 |\n",
    "| 2     | 2.319030   | 2.388698   | 0.454545 | 00:00 |\n",
    "| 3     | 2.246946   | 2.302907   | 0.545455 | 00:00 |\n",
    "| 4     | 2.165878   | 2.222806   | 0.575758 | 00:00 |\n",
    "| 5     | 2.109444   | 2.143269   | 0.606061 | 00:00 |\n",
    "| 6     | 2.055223   | 2.077895   | 0.606061 | 00:00 |\n",
    "| 7     | 2.002399   | 2.026833   | 0.606061 | 00:00 |\n",
    "| 8     | 1.979071   | 1.984128   | 0.636364 | 00:00 |\n",
    "| 9     | 1.940246   | 1.944949   | 0.666667 | 00:00 |\n",
    "\n",
    "## 01-02-2024\n",
    "\n",
    "### Fine tuning\n",
    "\n",
    "Training size: 252\n",
    "Validation size: 63\n",
    "\n",
    "| epoch | train_loss | valid_loss | accuracy | time   |\n",
    "|-------|------------|------------|----------|--------|\n",
    "| 0     | 2.160652   | 2.428968   | 0.650794 | 00:01  |\n",
    "| 1     | 2.001271   | 2.175531   | 0.730159 | 00:00  |\n",
    "| 2     | 1.840311   | 1.759516   | 0.714286 | 00:00  |\n",
    "| 3     | 1.691128   | 1.465099   | 0.746032 | 00:00  |\n",
    "| 4     | 1.563053   | 1.427480   | 0.682540 | 00:00  |\n",
    "| 5     | 1.468787   | 1.289794   | 0.698413 | 00:00  |\n",
    "| 6     | 1.366393   | 1.177989   | 0.730159 | 00:00  |\n",
    "| 7     | 1.286151   | 1.128382   | 0.730159 | 00:00  |\n",
    "| 8     | 1.227368   | 1.098116   | 0.730159 | 00:00  |\n",
    "| 9     | 1.166456   | 1.082516   | 0.730159 | 00:00  |\n"
   ]
  },
  {
   "cell_type": "markdown",
   "id": "4c488501-6587-4b63-aa66-fe6fb3313c4f",
   "metadata": {},
   "source": [
    "# References\n",
    "1. [Text transfer learning](https://docs.fast.ai/tutorial.text.html)\n",
    "2. [TextDataLoaders.from_csv](https://docs.fast.ai/text.data.html#textdataloaders.from_csv)"
   ]
  }
 ],
 "metadata": {
  "kernelspec": {
   "display_name": "Python 3 (ipykernel)",
   "language": "python",
   "name": "python3"
  },
  "language_info": {
   "codemirror_mode": {
    "name": "ipython",
    "version": 3
   },
   "file_extension": ".py",
   "mimetype": "text/x-python",
   "name": "python",
   "nbconvert_exporter": "python",
   "pygments_lexer": "ipython3",
   "version": "3.9.6"
  }
 },
 "nbformat": 4,
 "nbformat_minor": 5
}
