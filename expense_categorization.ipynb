{
 "cells": [
  {
   "cell_type": "code",
   "execution_count": 11,
   "id": "bfb1c4d4-215d-4f07-9c17-24241fa86fd6",
   "metadata": {},
   "outputs": [],
   "source": [
    "from fastai.text.all import *"
   ]
  },
  {
   "cell_type": "code",
   "execution_count": 6,
   "id": "61aeda50-a517-4e8d-a3eb-31289b5e830c",
   "metadata": {},
   "outputs": [
    {
     "data": {
      "text/html": [
       "<div>\n",
       "<style scoped>\n",
       "    .dataframe tbody tr th:only-of-type {\n",
       "        vertical-align: middle;\n",
       "    }\n",
       "\n",
       "    .dataframe tbody tr th {\n",
       "        vertical-align: top;\n",
       "    }\n",
       "\n",
       "    .dataframe thead th {\n",
       "        text-align: right;\n",
       "    }\n",
       "</style>\n",
       "<table border=\"1\" class=\"dataframe\">\n",
       "  <thead>\n",
       "    <tr style=\"text-align: right;\">\n",
       "      <th></th>\n",
       "      <th>description</th>\n",
       "      <th>category</th>\n",
       "    </tr>\n",
       "  </thead>\n",
       "  <tbody>\n",
       "    <tr>\n",
       "      <th>0</th>\n",
       "      <td>TRADER JOE S #068</td>\n",
       "      <td>Groceries &amp; Food</td>\n",
       "    </tr>\n",
       "    <tr>\n",
       "      <th>1</th>\n",
       "      <td>WHOLEFDS SVL#10707</td>\n",
       "      <td>Groceries &amp; Food</td>\n",
       "    </tr>\n",
       "    <tr>\n",
       "      <th>2</th>\n",
       "      <td>Amazon.com</td>\n",
       "      <td>Amazon</td>\n",
       "    </tr>\n",
       "    <tr>\n",
       "      <th>3</th>\n",
       "      <td>OPENAI</td>\n",
       "      <td>Subscriptions &amp; Memberships</td>\n",
       "    </tr>\n",
       "    <tr>\n",
       "      <th>4</th>\n",
       "      <td>Amazon.com*NH99Y5J73</td>\n",
       "      <td>Amazon</td>\n",
       "    </tr>\n",
       "  </tbody>\n",
       "</table>\n",
       "</div>"
      ],
      "text/plain": [
       "            description                     category\n",
       "0     TRADER JOE S #068             Groceries & Food\n",
       "1    WHOLEFDS SVL#10707             Groceries & Food\n",
       "2            Amazon.com                       Amazon\n",
       "3                OPENAI  Subscriptions & Memberships\n",
       "4  Amazon.com*NH99Y5J73                       Amazon"
      ]
     },
     "execution_count": 6,
     "metadata": {},
     "output_type": "execute_result"
    }
   ],
   "source": [
    "df = pd.read_csv('./expenses.csv')\n",
    "df.head()"
   ]
  },
  {
   "cell_type": "code",
   "execution_count": 13,
   "id": "98b9f1c8-56e9-4454-8b97-0d0b5197bd3a",
   "metadata": {},
   "outputs": [
    {
     "data": {
      "text/html": [
       "\n",
       "<style>\n",
       "    /* Turns off some styling */\n",
       "    progress {\n",
       "        /* gets rid of default border in Firefox and Opera. */\n",
       "        border: none;\n",
       "        /* Needs to be in here for Safari polyfill so background images work as expected. */\n",
       "        background-size: auto;\n",
       "    }\n",
       "    progress:not([value]), progress:not([value])::-webkit-progress-bar {\n",
       "        background: repeating-linear-gradient(45deg, #7e7e7e, #7e7e7e 10px, #5c5c5c 10px, #5c5c5c 20px);\n",
       "    }\n",
       "    .progress-bar-interrupted, .progress-bar-interrupted::-webkit-progress-bar {\n",
       "        background: #F44336;\n",
       "    }\n",
       "</style>\n"
      ],
      "text/plain": [
       "<IPython.core.display.HTML object>"
      ]
     },
     "metadata": {},
     "output_type": "display_data"
    },
    {
     "data": {
      "text/html": [],
      "text/plain": [
       "<IPython.core.display.HTML object>"
      ]
     },
     "metadata": {},
     "output_type": "display_data"
    },
    {
     "data": {
      "text/html": [
       "<table border=\"1\" class=\"dataframe\">\n",
       "  <thead>\n",
       "    <tr style=\"text-align: right;\">\n",
       "      <th></th>\n",
       "      <th>text</th>\n",
       "      <th>category</th>\n",
       "    </tr>\n",
       "  </thead>\n",
       "  <tbody>\n",
       "    <tr>\n",
       "      <th>0</th>\n",
       "      <td>xxbos xxup amzn xxmaj mktp xxup us * xxrep 3 xxunk xxup xxunk</td>\n",
       "      <td>Amazon</td>\n",
       "    </tr>\n",
       "    <tr>\n",
       "      <th>1</th>\n",
       "      <td>xxbos xxup tst * xxmaj xxunk xxmaj xxunk xxmaj xxunk - xxmaj los</td>\n",
       "      <td>Groceries &amp; Food</td>\n",
       "    </tr>\n",
       "    <tr>\n",
       "      <th>2</th>\n",
       "      <td>xxbos xxup xxunk xxup xxunk xxup xxunk ( xxunk ) xxunk / xxunk</td>\n",
       "      <td>Clothing &amp; Personal Care</td>\n",
       "    </tr>\n",
       "  </tbody>\n",
       "</table>"
      ],
      "text/plain": [
       "<IPython.core.display.HTML object>"
      ]
     },
     "metadata": {},
     "output_type": "display_data"
    }
   ],
   "source": [
    "dls = TextDataLoaders.from_csv(\n",
    "    path='.',\n",
    "    csv_fname='expenses.csv',\n",
    "    text_col='description',\n",
    "    label_col='category')\n",
    "dls.show_batch(max_n=3)"
   ]
  },
  {
   "cell_type": "code",
   "execution_count": 34,
   "id": "7448858d-c887-47a4-b3df-d7728ee5a07a",
   "metadata": {},
   "outputs": [
    {
     "name": "stdout",
     "output_type": "stream",
     "text": [
      "Training size: 134\n",
      "Validation size: 33\n"
     ]
    }
   ],
   "source": [
    "train_size = len(dls.train_ds)\n",
    "valid_size = len(dls.valid_ds)\n",
    "\n",
    "print(f\"Training size: {train_size}\")\n",
    "print(f\"Validation size: {valid_size}\")"
   ]
  },
  {
   "cell_type": "markdown",
   "id": "ee55c7db-f484-4f93-bfeb-0faf11f58026",
   "metadata": {},
   "source": [
    "# Fine tuning"
   ]
  },
  {
   "cell_type": "code",
   "execution_count": 52,
   "id": "4fc5ec45-9405-4972-ad9e-c7c913eb011b",
   "metadata": {},
   "outputs": [],
   "source": [
    "learn_finetune = text_classifier_learner(dls, AWD_LSTM, drop_mult=0.5, metrics=accuracy)"
   ]
  },
  {
   "cell_type": "code",
   "execution_count": 53,
   "id": "07406dcb-ff09-43bc-8cce-9ba5ec68959f",
   "metadata": {},
   "outputs": [
    {
     "data": {
      "text/html": [
       "\n",
       "<style>\n",
       "    /* Turns off some styling */\n",
       "    progress {\n",
       "        /* gets rid of default border in Firefox and Opera. */\n",
       "        border: none;\n",
       "        /* Needs to be in here for Safari polyfill so background images work as expected. */\n",
       "        background-size: auto;\n",
       "    }\n",
       "    progress:not([value]), progress:not([value])::-webkit-progress-bar {\n",
       "        background: repeating-linear-gradient(45deg, #7e7e7e, #7e7e7e 10px, #5c5c5c 10px, #5c5c5c 20px);\n",
       "    }\n",
       "    .progress-bar-interrupted, .progress-bar-interrupted::-webkit-progress-bar {\n",
       "        background: #F44336;\n",
       "    }\n",
       "</style>\n"
      ],
      "text/plain": [
       "<IPython.core.display.HTML object>"
      ]
     },
     "metadata": {},
     "output_type": "display_data"
    },
    {
     "data": {
      "text/html": [
       "<table border=\"1\" class=\"dataframe\">\n",
       "  <thead>\n",
       "    <tr style=\"text-align: left;\">\n",
       "      <th>epoch</th>\n",
       "      <th>train_loss</th>\n",
       "      <th>valid_loss</th>\n",
       "      <th>accuracy</th>\n",
       "      <th>time</th>\n",
       "    </tr>\n",
       "  </thead>\n",
       "  <tbody>\n",
       "    <tr>\n",
       "      <td>0</td>\n",
       "      <td>2.734694</td>\n",
       "      <td>2.557105</td>\n",
       "      <td>0.242424</td>\n",
       "      <td>00:00</td>\n",
       "    </tr>\n",
       "  </tbody>\n",
       "</table>"
      ],
      "text/plain": [
       "<IPython.core.display.HTML object>"
      ]
     },
     "metadata": {},
     "output_type": "display_data"
    },
    {
     "data": {
      "text/html": [
       "\n",
       "<style>\n",
       "    /* Turns off some styling */\n",
       "    progress {\n",
       "        /* gets rid of default border in Firefox and Opera. */\n",
       "        border: none;\n",
       "        /* Needs to be in here for Safari polyfill so background images work as expected. */\n",
       "        background-size: auto;\n",
       "    }\n",
       "    progress:not([value]), progress:not([value])::-webkit-progress-bar {\n",
       "        background: repeating-linear-gradient(45deg, #7e7e7e, #7e7e7e 10px, #5c5c5c 10px, #5c5c5c 20px);\n",
       "    }\n",
       "    .progress-bar-interrupted, .progress-bar-interrupted::-webkit-progress-bar {\n",
       "        background: #F44336;\n",
       "    }\n",
       "</style>\n"
      ],
      "text/plain": [
       "<IPython.core.display.HTML object>"
      ]
     },
     "metadata": {},
     "output_type": "display_data"
    },
    {
     "data": {
      "text/html": [
       "<table border=\"1\" class=\"dataframe\">\n",
       "  <thead>\n",
       "    <tr style=\"text-align: left;\">\n",
       "      <th>epoch</th>\n",
       "      <th>train_loss</th>\n",
       "      <th>valid_loss</th>\n",
       "      <th>accuracy</th>\n",
       "      <th>time</th>\n",
       "    </tr>\n",
       "  </thead>\n",
       "  <tbody>\n",
       "    <tr>\n",
       "      <td>0</td>\n",
       "      <td>2.199244</td>\n",
       "      <td>2.431459</td>\n",
       "      <td>0.454545</td>\n",
       "      <td>00:00</td>\n",
       "    </tr>\n",
       "    <tr>\n",
       "      <td>1</td>\n",
       "      <td>2.064721</td>\n",
       "      <td>2.169830</td>\n",
       "      <td>0.484848</td>\n",
       "      <td>00:00</td>\n",
       "    </tr>\n",
       "    <tr>\n",
       "      <td>2</td>\n",
       "      <td>1.902278</td>\n",
       "      <td>2.049460</td>\n",
       "      <td>0.545455</td>\n",
       "      <td>00:00</td>\n",
       "    </tr>\n",
       "  </tbody>\n",
       "</table>"
      ],
      "text/plain": [
       "<IPython.core.display.HTML object>"
      ]
     },
     "metadata": {},
     "output_type": "display_data"
    }
   ],
   "source": [
    "learn_finetune.fine_tune(3, 1e-2)"
   ]
  },
  {
   "cell_type": "code",
   "execution_count": 54,
   "id": "c2e02f11-0b19-414a-85c8-9a24681ec6b9",
   "metadata": {},
   "outputs": [
    {
     "data": {
      "text/html": [
       "\n",
       "<style>\n",
       "    /* Turns off some styling */\n",
       "    progress {\n",
       "        /* gets rid of default border in Firefox and Opera. */\n",
       "        border: none;\n",
       "        /* Needs to be in here for Safari polyfill so background images work as expected. */\n",
       "        background-size: auto;\n",
       "    }\n",
       "    progress:not([value]), progress:not([value])::-webkit-progress-bar {\n",
       "        background: repeating-linear-gradient(45deg, #7e7e7e, #7e7e7e 10px, #5c5c5c 10px, #5c5c5c 20px);\n",
       "    }\n",
       "    .progress-bar-interrupted, .progress-bar-interrupted::-webkit-progress-bar {\n",
       "        background: #F44336;\n",
       "    }\n",
       "</style>\n"
      ],
      "text/plain": [
       "<IPython.core.display.HTML object>"
      ]
     },
     "metadata": {},
     "output_type": "display_data"
    },
    {
     "data": {
      "text/html": [],
      "text/plain": [
       "<IPython.core.display.HTML object>"
      ]
     },
     "metadata": {},
     "output_type": "display_data"
    },
    {
     "data": {
      "text/html": [
       "<table border=\"1\" class=\"dataframe\">\n",
       "  <thead>\n",
       "    <tr style=\"text-align: right;\">\n",
       "      <th></th>\n",
       "      <th>text</th>\n",
       "      <th>category</th>\n",
       "      <th>category_</th>\n",
       "    </tr>\n",
       "  </thead>\n",
       "  <tbody>\n",
       "    <tr>\n",
       "      <th>0</th>\n",
       "      <td>xxbos xxup ua.com * xxrep 3 8 -727 - 6687 xxup md</td>\n",
       "      <td>Clothing &amp; Personal Care</td>\n",
       "      <td>Clothing &amp; Personal Care</td>\n",
       "    </tr>\n",
       "    <tr>\n",
       "      <th>1</th>\n",
       "      <td>xxbos xxup sq * xxunk xxup xxunk xxup los xxup xxunk</td>\n",
       "      <td>Groceries &amp; Food</td>\n",
       "      <td>Groceries &amp; Food</td>\n",
       "    </tr>\n",
       "    <tr>\n",
       "      <th>2</th>\n",
       "      <td>xxbos xxup everlane * xxunk xxrep 3 xxunk xxunk</td>\n",
       "      <td>Clothing &amp; Personal Care</td>\n",
       "      <td>Clothing &amp; Personal Care</td>\n",
       "    </tr>\n",
       "    <tr>\n",
       "      <th>3</th>\n",
       "      <td>xxbos xxup adidas xxup us xxup online xxup store</td>\n",
       "      <td>Clothing &amp; Personal Care</td>\n",
       "      <td>Clothing &amp; Personal Care</td>\n",
       "    </tr>\n",
       "    <tr>\n",
       "      <th>4</th>\n",
       "      <td>xxbos xxup xxunk xxup xxunk xxunk xxup online</td>\n",
       "      <td>Groceries &amp; Food</td>\n",
       "      <td>Clothing &amp; Personal Care</td>\n",
       "    </tr>\n",
       "    <tr>\n",
       "      <th>5</th>\n",
       "      <td>xxbos xxup sp xxup xxunk - xxunk</td>\n",
       "      <td>Clothing &amp; Personal Care</td>\n",
       "      <td>Clothing &amp; Personal Care</td>\n",
       "    </tr>\n",
       "    <tr>\n",
       "      <th>6</th>\n",
       "      <td>xxbos xxup amzn xxmaj mktp xxup xxunk</td>\n",
       "      <td>Amazon</td>\n",
       "      <td>Amazon</td>\n",
       "    </tr>\n",
       "    <tr>\n",
       "      <th>7</th>\n",
       "      <td>xxbos xxup sp xxup xxunk xxup xxunk</td>\n",
       "      <td>Clothing &amp; Personal Care</td>\n",
       "      <td>Clothing &amp; Personal Care</td>\n",
       "    </tr>\n",
       "    <tr>\n",
       "      <th>8</th>\n",
       "      <td>xxbos xxup xxunk * xxunk xxmaj xxunk</td>\n",
       "      <td>Subscriptions &amp; Memberships</td>\n",
       "      <td>Clothing &amp; Personal Care</td>\n",
       "    </tr>\n",
       "  </tbody>\n",
       "</table>"
      ],
      "text/plain": [
       "<IPython.core.display.HTML object>"
      ]
     },
     "metadata": {},
     "output_type": "display_data"
    }
   ],
   "source": [
    "learn_finetune.show_results()"
   ]
  },
  {
   "cell_type": "code",
   "execution_count": 55,
   "id": "03618ba2-20a3-4154-a172-4c3de414f23f",
   "metadata": {},
   "outputs": [
    {
     "data": {
      "text/plain": [
       "Path('models/120523-finetune.pth')"
      ]
     },
     "execution_count": 55,
     "metadata": {},
     "output_type": "execute_result"
    }
   ],
   "source": [
    "learn_finetune.export('120523-finetune.pkl')"
   ]
  },
  {
   "cell_type": "code",
   "execution_count": 56,
   "id": "77495da1-8d77-4bed-8ba5-a2b18d39f052",
   "metadata": {},
   "outputs": [
    {
     "data": {
      "text/html": [
       "\n",
       "<style>\n",
       "    /* Turns off some styling */\n",
       "    progress {\n",
       "        /* gets rid of default border in Firefox and Opera. */\n",
       "        border: none;\n",
       "        /* Needs to be in here for Safari polyfill so background images work as expected. */\n",
       "        background-size: auto;\n",
       "    }\n",
       "    progress:not([value]), progress:not([value])::-webkit-progress-bar {\n",
       "        background: repeating-linear-gradient(45deg, #7e7e7e, #7e7e7e 10px, #5c5c5c 10px, #5c5c5c 20px);\n",
       "    }\n",
       "    .progress-bar-interrupted, .progress-bar-interrupted::-webkit-progress-bar {\n",
       "        background: #F44336;\n",
       "    }\n",
       "</style>\n"
      ],
      "text/plain": [
       "<IPython.core.display.HTML object>"
      ]
     },
     "metadata": {},
     "output_type": "display_data"
    },
    {
     "data": {
      "text/html": [],
      "text/plain": [
       "<IPython.core.display.HTML object>"
      ]
     },
     "metadata": {},
     "output_type": "display_data"
    },
    {
     "data": {
      "text/plain": [
       "('Amazon',\n",
       " tensor(0),\n",
       " tensor([0.2734, 0.0430, 0.0468, 0.0565, 0.0150, 0.0587, 0.0633, 0.0321, 0.0772,\n",
       "         0.0820, 0.0592, 0.0906, 0.0355, 0.0668]))"
      ]
     },
     "execution_count": 56,
     "metadata": {},
     "output_type": "execute_result"
    }
   ],
   "source": [
    "learn_finetune.predict('AMZN Mktp US*GW42262P3')"
   ]
  },
  {
   "cell_type": "markdown",
   "id": "0eae8067-df39-4cd7-aa26-7857fd4d04d2",
   "metadata": {},
   "source": [
    "# Fit one cycle"
   ]
  },
  {
   "cell_type": "code",
   "execution_count": 57,
   "id": "07c78f2d-44eb-4f18-880d-a9425462fff7",
   "metadata": {},
   "outputs": [],
   "source": [
    "learn_fit = text_classifier_learner(dls, AWD_LSTM, drop_mult=0.5, metrics=accuracy)"
   ]
  },
  {
   "cell_type": "code",
   "execution_count": 58,
   "id": "e4d217d1-b8ed-4178-b8aa-d41f28127488",
   "metadata": {},
   "outputs": [
    {
     "data": {
      "text/html": [
       "\n",
       "<style>\n",
       "    /* Turns off some styling */\n",
       "    progress {\n",
       "        /* gets rid of default border in Firefox and Opera. */\n",
       "        border: none;\n",
       "        /* Needs to be in here for Safari polyfill so background images work as expected. */\n",
       "        background-size: auto;\n",
       "    }\n",
       "    progress:not([value]), progress:not([value])::-webkit-progress-bar {\n",
       "        background: repeating-linear-gradient(45deg, #7e7e7e, #7e7e7e 10px, #5c5c5c 10px, #5c5c5c 20px);\n",
       "    }\n",
       "    .progress-bar-interrupted, .progress-bar-interrupted::-webkit-progress-bar {\n",
       "        background: #F44336;\n",
       "    }\n",
       "</style>\n"
      ],
      "text/plain": [
       "<IPython.core.display.HTML object>"
      ]
     },
     "metadata": {},
     "output_type": "display_data"
    },
    {
     "data": {
      "text/html": [
       "<table border=\"1\" class=\"dataframe\">\n",
       "  <thead>\n",
       "    <tr style=\"text-align: left;\">\n",
       "      <th>epoch</th>\n",
       "      <th>train_loss</th>\n",
       "      <th>valid_loss</th>\n",
       "      <th>accuracy</th>\n",
       "      <th>time</th>\n",
       "    </tr>\n",
       "  </thead>\n",
       "  <tbody>\n",
       "    <tr>\n",
       "      <td>0</td>\n",
       "      <td>2.822345</td>\n",
       "      <td>2.630266</td>\n",
       "      <td>0.090909</td>\n",
       "      <td>00:00</td>\n",
       "    </tr>\n",
       "    <tr>\n",
       "      <td>1</td>\n",
       "      <td>2.753336</td>\n",
       "      <td>2.568347</td>\n",
       "      <td>0.484848</td>\n",
       "      <td>00:00</td>\n",
       "    </tr>\n",
       "    <tr>\n",
       "      <td>2</td>\n",
       "      <td>2.647412</td>\n",
       "      <td>2.536277</td>\n",
       "      <td>0.515152</td>\n",
       "      <td>00:00</td>\n",
       "    </tr>\n",
       "  </tbody>\n",
       "</table>"
      ],
      "text/plain": [
       "<IPython.core.display.HTML object>"
      ]
     },
     "metadata": {},
     "output_type": "display_data"
    }
   ],
   "source": [
    "learn_fit.fit_one_cycle(3)"
   ]
  },
  {
   "cell_type": "code",
   "execution_count": 59,
   "id": "13cd06cf-e847-4120-bb21-37d4280b25b3",
   "metadata": {},
   "outputs": [
    {
     "data": {
      "text/html": [
       "\n",
       "<style>\n",
       "    /* Turns off some styling */\n",
       "    progress {\n",
       "        /* gets rid of default border in Firefox and Opera. */\n",
       "        border: none;\n",
       "        /* Needs to be in here for Safari polyfill so background images work as expected. */\n",
       "        background-size: auto;\n",
       "    }\n",
       "    progress:not([value]), progress:not([value])::-webkit-progress-bar {\n",
       "        background: repeating-linear-gradient(45deg, #7e7e7e, #7e7e7e 10px, #5c5c5c 10px, #5c5c5c 20px);\n",
       "    }\n",
       "    .progress-bar-interrupted, .progress-bar-interrupted::-webkit-progress-bar {\n",
       "        background: #F44336;\n",
       "    }\n",
       "</style>\n"
      ],
      "text/plain": [
       "<IPython.core.display.HTML object>"
      ]
     },
     "metadata": {},
     "output_type": "display_data"
    },
    {
     "data": {
      "text/html": [],
      "text/plain": [
       "<IPython.core.display.HTML object>"
      ]
     },
     "metadata": {},
     "output_type": "display_data"
    },
    {
     "data": {
      "text/html": [
       "<table border=\"1\" class=\"dataframe\">\n",
       "  <thead>\n",
       "    <tr style=\"text-align: right;\">\n",
       "      <th></th>\n",
       "      <th>text</th>\n",
       "      <th>category</th>\n",
       "      <th>category_</th>\n",
       "    </tr>\n",
       "  </thead>\n",
       "  <tbody>\n",
       "    <tr>\n",
       "      <th>0</th>\n",
       "      <td>xxbos xxup ua.com * xxrep 3 8 -727 - 6687 xxup md</td>\n",
       "      <td>Clothing &amp; Personal Care</td>\n",
       "      <td>Clothing &amp; Personal Care</td>\n",
       "    </tr>\n",
       "    <tr>\n",
       "      <th>1</th>\n",
       "      <td>xxbos xxup sq * xxunk xxup xxunk xxup los xxup xxunk</td>\n",
       "      <td>Groceries &amp; Food</td>\n",
       "      <td>Clothing &amp; Personal Care</td>\n",
       "    </tr>\n",
       "    <tr>\n",
       "      <th>2</th>\n",
       "      <td>xxbos xxup adidas xxup us xxup online xxup store</td>\n",
       "      <td>Clothing &amp; Personal Care</td>\n",
       "      <td>Clothing &amp; Personal Care</td>\n",
       "    </tr>\n",
       "    <tr>\n",
       "      <th>3</th>\n",
       "      <td>xxbos xxup everlane * xxunk xxrep 3 xxunk xxunk</td>\n",
       "      <td>Clothing &amp; Personal Care</td>\n",
       "      <td>Clothing &amp; Personal Care</td>\n",
       "    </tr>\n",
       "    <tr>\n",
       "      <th>4</th>\n",
       "      <td>xxbos xxup xxunk xxup xxunk xxunk xxup online</td>\n",
       "      <td>Groceries &amp; Food</td>\n",
       "      <td>Clothing &amp; Personal Care</td>\n",
       "    </tr>\n",
       "    <tr>\n",
       "      <th>5</th>\n",
       "      <td>xxbos xxup amzn xxmaj mktp xxup xxunk</td>\n",
       "      <td>Amazon</td>\n",
       "      <td>Amazon</td>\n",
       "    </tr>\n",
       "    <tr>\n",
       "      <th>6</th>\n",
       "      <td>xxbos xxup xxunk xxup xxunk xxup xxunk</td>\n",
       "      <td>Groceries &amp; Food</td>\n",
       "      <td>Clothing &amp; Personal Care</td>\n",
       "    </tr>\n",
       "    <tr>\n",
       "      <th>7</th>\n",
       "      <td>xxbos xxup amzn xxmaj mktp xxup xxunk</td>\n",
       "      <td>Amazon</td>\n",
       "      <td>Amazon</td>\n",
       "    </tr>\n",
       "    <tr>\n",
       "      <th>8</th>\n",
       "      <td>xxbos xxup sp xxup xxunk xxup xxunk</td>\n",
       "      <td>Clothing &amp; Personal Care</td>\n",
       "      <td>Clothing &amp; Personal Care</td>\n",
       "    </tr>\n",
       "  </tbody>\n",
       "</table>"
      ],
      "text/plain": [
       "<IPython.core.display.HTML object>"
      ]
     },
     "metadata": {},
     "output_type": "display_data"
    }
   ],
   "source": [
    "learn_fit.show_results()"
   ]
  },
  {
   "cell_type": "code",
   "execution_count": 61,
   "id": "3d8aa50a-6563-4867-91d1-75d894e614f0",
   "metadata": {},
   "outputs": [
    {
     "data": {
      "text/plain": [
       "Path('models/120523-fit.pth')"
      ]
     },
     "execution_count": 61,
     "metadata": {},
     "output_type": "execute_result"
    }
   ],
   "source": [
    "learn_fit.save('120523-fit')\n",
    "learn_fit.export('120523-fit.pkl')"
   ]
  },
  {
   "cell_type": "code",
   "execution_count": 66,
   "id": "eb3a1cb6-0391-46de-8ff1-51f1bf9da5bb",
   "metadata": {},
   "outputs": [
    {
     "data": {
      "text/html": [
       "\n",
       "<style>\n",
       "    /* Turns off some styling */\n",
       "    progress {\n",
       "        /* gets rid of default border in Firefox and Opera. */\n",
       "        border: none;\n",
       "        /* Needs to be in here for Safari polyfill so background images work as expected. */\n",
       "        background-size: auto;\n",
       "    }\n",
       "    progress:not([value]), progress:not([value])::-webkit-progress-bar {\n",
       "        background: repeating-linear-gradient(45deg, #7e7e7e, #7e7e7e 10px, #5c5c5c 10px, #5c5c5c 20px);\n",
       "    }\n",
       "    .progress-bar-interrupted, .progress-bar-interrupted::-webkit-progress-bar {\n",
       "        background: #F44336;\n",
       "    }\n",
       "</style>\n"
      ],
      "text/plain": [
       "<IPython.core.display.HTML object>"
      ]
     },
     "metadata": {},
     "output_type": "display_data"
    },
    {
     "data": {
      "text/html": [],
      "text/plain": [
       "<IPython.core.display.HTML object>"
      ]
     },
     "metadata": {},
     "output_type": "display_data"
    },
    {
     "data": {
      "text/plain": [
       "('Amazon',\n",
       " tensor(0),\n",
       " tensor([0.0898, 0.0732, 0.0699, 0.0705, 0.0592, 0.0726, 0.0814, 0.0690, 0.0764,\n",
       "         0.0631, 0.0669, 0.0679, 0.0675, 0.0728]))"
      ]
     },
     "execution_count": 66,
     "metadata": {},
     "output_type": "execute_result"
    }
   ],
   "source": [
    "learn_fit.predict('AMZN Mktp US*GW42262P3')"
   ]
  },
  {
   "cell_type": "markdown",
   "id": "5de721fa-a019-4b61-8e47-0f34ae6fd2c9",
   "metadata": {},
   "source": [
    "# Model Training Results"
   ]
  },
  {
   "cell_type": "markdown",
   "id": "3df717cf-e0d2-459b-ae49-dd4117e81e1a",
   "metadata": {},
   "source": [
    "## 12-05-2023\n",
    "\n",
    "### Fine tuning\n",
    "\n",
    "Training size: 134\n",
    "Validation size: 33\n",
    "\n",
    "| epoch | train_loss | valid_loss | accuracy | time  |\n",
    "|-------|------------|------------|----------|-------|\n",
    "| 0     | 2.881874   | 2.531036   | 0.333333 | 00:00 |\n",
    "| 0     | 2.322587   | 2.417079   | 0.454545 | 00:00 |\n",
    "| 1     | 2.200765   | 2.248553   | 0.484848 | 00:00 |\n",
    "| 2     | 2.093007   | 2.179276   | 0.484848 | 00:00 |\n",
    "\n",
    "### Fit one cycle\n",
    "\n",
    "Training size: 134\n",
    "Validation size: 33\n",
    "\n",
    "| epoch | train_loss | valid_loss | accuracy | time  |\n",
    "|-------|------------|------------|----------|-------|\n",
    "| 0     | 2.868019   | 2.629553   | 0.030303 | 00:00 |\n",
    "| 1     | 2.762199   | 2.566640   | 0.363636 | 00:00 |\n",
    "| 2     | 2.673450   | 2.541624   | 0.515152 | 00:00 |\n"
   ]
  },
  {
   "cell_type": "markdown",
   "id": "4c488501-6587-4b63-aa66-fe6fb3313c4f",
   "metadata": {},
   "source": [
    "# References\n",
    "1. [Text transfer learning](https://docs.fast.ai/tutorial.text.html)\n",
    "2. [TextDataLoaders.from_csv](https://docs.fast.ai/text.data.html#textdataloaders.from_csv)"
   ]
  }
 ],
 "metadata": {
  "kernelspec": {
   "display_name": "Python 3 (ipykernel)",
   "language": "python",
   "name": "python3"
  },
  "language_info": {
   "codemirror_mode": {
    "name": "ipython",
    "version": 3
   },
   "file_extension": ".py",
   "mimetype": "text/x-python",
   "name": "python",
   "nbconvert_exporter": "python",
   "pygments_lexer": "ipython3",
   "version": "3.9.6"
  }
 },
 "nbformat": 4,
 "nbformat_minor": 5
}
