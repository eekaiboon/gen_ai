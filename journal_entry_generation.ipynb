{
  "nbformat": 4,
  "nbformat_minor": 0,
  "metadata": {
    "colab": {
      "provenance": [],
      "authorship_tag": "ABX9TyP3yCmqwbaSFUS3sMgV8d11",
      "include_colab_link": true
    },
    "kernelspec": {
      "name": "python3",
      "display_name": "Python 3"
    },
    "language_info": {
      "name": "python"
    }
  },
  "cells": [
    {
      "cell_type": "markdown",
      "metadata": {
        "id": "view-in-github",
        "colab_type": "text"
      },
      "source": [
        "<a href=\"https://colab.research.google.com/github/eekaiboon/gen_ai/blob/main/journal_entry_generation.ipynb\" target=\"_parent\"><img src=\"https://colab.research.google.com/assets/colab-badge.svg\" alt=\"Open In Colab\"/></a>"
      ]
    },
    {
      "cell_type": "markdown",
      "source": [
        "Install the OpenAI Python library"
      ],
      "metadata": {
        "id": "QURjQRa4ea55"
      }
    },
    {
      "cell_type": "code",
      "source": [
        "!pip install --upgrade openai"
      ],
      "metadata": {
        "colab": {
          "base_uri": "https://localhost:8080/"
        },
        "id": "caxpoK7LeYX6",
        "outputId": "e99bb295-0a05-4dcb-bd05-fee842a7a338"
      },
      "execution_count": 1,
      "outputs": [
        {
          "output_type": "stream",
          "name": "stdout",
          "text": [
            "Defaulting to user installation because normal site-packages is not writeable\n",
            "Requirement already satisfied: openai in /Users/eekaiboon/Library/Python/3.9/lib/python/site-packages (1.2.3)\n",
            "Requirement already satisfied: anyio<4,>=3.5.0 in /Users/eekaiboon/Library/Python/3.9/lib/python/site-packages (from openai) (3.7.1)\n",
            "Requirement already satisfied: distro<2,>=1.7.0 in /Users/eekaiboon/Library/Python/3.9/lib/python/site-packages (from openai) (1.8.0)\n",
            "Requirement already satisfied: httpx<1,>=0.23.0 in /Users/eekaiboon/Library/Python/3.9/lib/python/site-packages (from openai) (0.25.1)\n",
            "Requirement already satisfied: pydantic<3,>=1.9.0 in /Users/eekaiboon/Library/Python/3.9/lib/python/site-packages (from openai) (2.4.2)\n",
            "Requirement already satisfied: tqdm>4 in /Users/eekaiboon/Library/Python/3.9/lib/python/site-packages (from openai) (4.66.1)\n",
            "Requirement already satisfied: typing-extensions<5,>=4.5 in /Users/eekaiboon/Library/Python/3.9/lib/python/site-packages (from openai) (4.8.0)\n",
            "Requirement already satisfied: idna>=2.8 in /Users/eekaiboon/Library/Python/3.9/lib/python/site-packages (from anyio<4,>=3.5.0->openai) (3.4)\n",
            "Requirement already satisfied: sniffio>=1.1 in /Users/eekaiboon/Library/Python/3.9/lib/python/site-packages (from anyio<4,>=3.5.0->openai) (1.3.0)\n",
            "Requirement already satisfied: exceptiongroup in /Users/eekaiboon/Library/Python/3.9/lib/python/site-packages (from anyio<4,>=3.5.0->openai) (1.1.3)\n",
            "Requirement already satisfied: certifi in /Users/eekaiboon/Library/Python/3.9/lib/python/site-packages (from httpx<1,>=0.23.0->openai) (2023.7.22)\n",
            "Requirement already satisfied: httpcore in /Users/eekaiboon/Library/Python/3.9/lib/python/site-packages (from httpx<1,>=0.23.0->openai) (1.0.1)\n",
            "Requirement already satisfied: annotated-types>=0.4.0 in /Users/eekaiboon/Library/Python/3.9/lib/python/site-packages (from pydantic<3,>=1.9.0->openai) (0.6.0)\n",
            "Requirement already satisfied: pydantic-core==2.10.1 in /Users/eekaiboon/Library/Python/3.9/lib/python/site-packages (from pydantic<3,>=1.9.0->openai) (2.10.1)\n",
            "Requirement already satisfied: h11<0.15,>=0.13 in /Users/eekaiboon/Library/Python/3.9/lib/python/site-packages (from httpcore->httpx<1,>=0.23.0->openai) (0.14.0)\n"
          ]
        }
      ]
    },
    {
      "cell_type": "code",
      "source": [
        "# @title Set up variables\n",
        "model = \"gpt-4-1106-preview\" # @param [\"gpt-3.5-turbo\", \"gpt-4\", \"gpt-4-1106-preview\"]\n",
        "system_content = \"You are an accountant. You are familiar with how to close the book.\" # @param {type:\"string\"}"
      ],
      "metadata": {
        "id": "LazHCcEWnv5u"
      },
      "execution_count": 2,
      "outputs": []
    },
    {
      "cell_type": "code",
      "source": [
        "user_content = \"\"\"\n",
        "Given an expense, we will create a journal entry for the expense before exporting\n",
        "the journal entry to accounting software.\n",
        "A journal entry has a debit journal entry line and a credit journal entry line.\n",
        "Each journal entry line will have accounting fields that we can set.\n",
        "Some examples of accounting fields are `general_ledger_account`, `department`, `class`, and `location`.\n",
        "\n",
        "Expense example:\n",
        "```\n",
        "{\n",
        "  \"expense_id\": \"exp_1\",\n",
        "  \"amount_usd_cents\": 1000,\n",
        "  \"accrued_at_epoch\": 1699750201,\n",
        "  \"memo\": \"Work laptop for an engineering new hire\",\n",
        "  \"customer_account_id\": \"cuacc_1\"\n",
        "}\n",
        "```\n",
        "\n",
        "Example of a journal entry created from the above expense:\n",
        "```\n",
        "{\n",
        "  \"journal_entry_id\": \"je_1\",\n",
        "  \"amount_usd_cents\": 1000,\n",
        "  \"accrued_at_epoch\": 1699750201,\n",
        "  \"memo\": \"Work laptop for an engineering new hire\",\n",
        "  \"customer_account_id\": \"cuacc_1\",\n",
        "  \"journal_entry_line\": [\n",
        "    {\n",
        "      \"polarity\": \"debit\",\n",
        "      \"general_ledger_account\": \"Office Equipment\",\n",
        "      \"department\": \"Engineering\"\n",
        "    },\n",
        "    {\n",
        "      \"polarity\": \"credit\",\n",
        "      \"general_ledger_account\": \"Accounts Payable\"\n",
        "    }\n",
        "  ]\n",
        "}\n",
        "```\n",
        "\n",
        "Here are a list of accounting fields that you can use:\n",
        "[\n",
        "  {\n",
        "    \"accounting_field_type\": \"general_ledger\",\n",
        "    \"accounting_field_value\": \"Office Equipment\"\n",
        "  },\n",
        "  {\n",
        "    \"accounting_field_type\": \"general_ledger\",\n",
        "    \"accounting_field_value\": \"Accounts Payable\"\n",
        "  },\n",
        "  {\n",
        "    \"accounting_field_type\": \"general_ledger\",\n",
        "    \"accounting_field_value\": \"Accounts Receivable\"\n",
        "  },\n",
        "  {\n",
        "    \"accounting_field_type\": \"general_ledger\",\n",
        "    \"accounting_field_value\": \"Travel Expense\"\n",
        "  },\n",
        "  {\n",
        "    \"accounting_field_type\": \"department\",\n",
        "    \"accounting_field_value\": \"Engineering\"\n",
        "  },\n",
        "  {\n",
        "    \"accounting_field_type\": \"department\",\n",
        "    \"accounting_field_value\": \"Sales\"\n",
        "  }\n",
        "]\n",
        "\n",
        "Please create a journal entry for the following expense and output the result in\n",
        "json format simlar to the example provided:\n",
        "```\n",
        "{\n",
        "  \"expense_id\": \"exp_2\",\n",
        "  \"amount_usd_cents\": 2500,\n",
        "  \"accrued_at_epoch\": 1699750400,\n",
        "  \"memo\": \"Lunch when travelling to company engineering offsite\",\n",
        "  \"customer_account_id\": \"cuacc_1\"\n",
        "}\n",
        "```\n",
        "\"\"\""
      ],
      "metadata": {
        "id": "aYwThBZbp7zh"
      },
      "execution_count": 3,
      "outputs": []
    },
    {
      "cell_type": "code",
      "source": [
        "from openai import OpenAI\n",
        "\n",
        "# defaults to os.environ.get(\"OPENAI_API_KEY\")\n",
        "client = OpenAI()\n",
        "\n",
        "completion = client.chat.completions.create(\n",
        "  model = model,\n",
        "  messages = [\n",
        "    {\"role\": \"system\", \"content\": system_content},\n",
        "    {\"role\": \"user\", \"content\": user_content}\n",
        "  ]\n",
        ")\n",
        "\n",
        "print(completion.choices[0].message)"
      ],
      "metadata": {
        "id": "g5Wcr2WtjKYF",
        "outputId": "e86b8e47-50f3-47e4-8bd1-3c9b79a50d07",
        "colab": {
          "base_uri": "https://localhost:8080/"
        }
      },
      "execution_count": 4,
      "outputs": [
        {
          "output_type": "stream",
          "name": "stdout",
          "text": [
            "ChatCompletionMessage(content='To create the journal entry based on the provided expense information, we would typically need to debit the appropriate expense account and credit the payment account. In this case, the expense is for lunch when traveling to a company engineering offsite, which would likely be categorized under a \"Travel Expense\" account.\\n\\nHere\\'s the journal entry in JSON format for the given expense:\\n\\n```json\\n{\\n  \"journal_entry_id\": \"je_2\",\\n  \"amount_usd_cents\": 2500,\\n  \"accrued_at_epoch\": 1699750400,\\n  \"memo\": \"Lunch when travelling to company engineering offsite\",\\n  \"customer_account_id\": \"cuacc_1\",\\n  \"journal_entry_line\": [\\n    {\\n      \"polarity\": \"debit\",\\n      \"general_ledger_account\": \"Travel Expense\",\\n      \"department\": \"Engineering\"\\n    },\\n    {\\n      \"polarity\": \"credit\",\\n      \"general_ledger_account\": \"Accounts Payable\"\\n      // Note that \"department\" is not specified for the credit line as Accounts Payable typically does not require departmental breakdown.\\n    }\\n  ]\\n}\\n``` \\n\\nIf there are distinct policies or more specific accounts within the organization for classifying such expenses, they should be observed in crafting the entry. For example, if there\\'s a \"Meals and Entertainment\" account, you might use that in place of \"Travel Expense.\" If these classifications exist, be sure to adjust the `general_ledger_account` value accordingly.', role='assistant', function_call=None, tool_calls=None)\n"
          ]
        }
      ]
    },
    {
      "cell_type": "code",
      "source": [
        "result = completion.choices[0].message.content\n",
        "print(result, end = \"\\n\")"
      ],
      "metadata": {
        "colab": {
          "base_uri": "https://localhost:8080/"
        },
        "id": "8AkpyYEB1-1t",
        "outputId": "ab3702a2-f385-4e34-dac7-a9f3f8b77f24"
      },
      "execution_count": 5,
      "outputs": [
        {
          "output_type": "stream",
          "name": "stdout",
          "text": [
            "To create the journal entry based on the provided expense information, we would typically need to debit the appropriate expense account and credit the payment account. In this case, the expense is for lunch when traveling to a company engineering offsite, which would likely be categorized under a \"Travel Expense\" account.\n",
            "\n",
            "Here's the journal entry in JSON format for the given expense:\n",
            "\n",
            "```json\n",
            "{\n",
            "  \"journal_entry_id\": \"je_2\",\n",
            "  \"amount_usd_cents\": 2500,\n",
            "  \"accrued_at_epoch\": 1699750400,\n",
            "  \"memo\": \"Lunch when travelling to company engineering offsite\",\n",
            "  \"customer_account_id\": \"cuacc_1\",\n",
            "  \"journal_entry_line\": [\n",
            "    {\n",
            "      \"polarity\": \"debit\",\n",
            "      \"general_ledger_account\": \"Travel Expense\",\n",
            "      \"department\": \"Engineering\"\n",
            "    },\n",
            "    {\n",
            "      \"polarity\": \"credit\",\n",
            "      \"general_ledger_account\": \"Accounts Payable\"\n",
            "      // Note that \"department\" is not specified for the credit line as Accounts Payable typically does not require departmental breakdown.\n",
            "    }\n",
            "  ]\n",
            "}\n",
            "``` \n",
            "\n",
            "If there are distinct policies or more specific accounts within the organization for classifying such expenses, they should be observed in crafting the entry. For example, if there's a \"Meals and Entertainment\" account, you might use that in place of \"Travel Expense.\" If these classifications exist, be sure to adjust the `general_ledger_account` value accordingly.\n"
          ]
        }
      ]
    },
    {
      "cell_type": "markdown",
      "source": [
        "# Reference\n",
        "\n",
        "\n",
        "1.   [OpenAI Developer quickstart](https://platform.openai.com/docs/quickstart?context=python)\n",
        "2.   [Install Jupyter](https://jupyter.org/install)\n",
        "\n",
        "\n"
      ],
      "metadata": {
        "id": "KqhnW7IleLjN"
      }
    }
  ]
}