{
  "nbformat": 4,
  "nbformat_minor": 0,
  "metadata": {
    "colab": {
      "provenance": [],
      "authorship_tag": "ABX9TyP7lJX8boUVwJgA2RMdGE1R",
      "include_colab_link": true
    },
    "kernelspec": {
      "name": "python3",
      "display_name": "Python 3"
    },
    "language_info": {
      "name": "python"
    }
  },
  "cells": [
    {
      "cell_type": "markdown",
      "metadata": {
        "id": "view-in-github",
        "colab_type": "text"
      },
      "source": [
        "<a href=\"https://colab.research.google.com/github/eekaiboon/gen_ai/blob/main/openai.ipynb\" target=\"_parent\"><img src=\"https://colab.research.google.com/assets/colab-badge.svg\" alt=\"Open In Colab\"/></a>"
      ]
    },
    {
      "cell_type": "markdown",
      "source": [
        "Install the OpenAI Python library"
      ],
      "metadata": {
        "id": "QURjQRa4ea55"
      }
    },
    {
      "cell_type": "code",
      "source": [
        "!pip install --upgrade openai"
      ],
      "metadata": {
        "colab": {
          "base_uri": "https://localhost:8080/"
        },
        "id": "caxpoK7LeYX6",
        "outputId": "3f4a91c0-2c72-4578-d7e6-92ad7885abac"
      },
      "execution_count": null,
      "outputs": [
        {
          "output_type": "stream",
          "name": "stdout",
          "text": [
            "Defaulting to user installation because normal site-packages is not writeable\r\n",
            "Requirement already satisfied: openai in ./Library/Python/3.9/lib/python/site-packages (0.28.1)\n",
            "Collecting openai\n",
            "  Downloading openai-1.1.1-py3-none-any.whl.metadata (16 kB)\n",
            "Requirement already satisfied: anyio<4,>=3.5.0 in ./Library/Python/3.9/lib/python/site-packages (from openai) (3.7.1)\n",
            "Collecting distro<2,>=1.7.0 (from openai)\n",
            "  Downloading distro-1.8.0-py3-none-any.whl (20 kB)\n",
            "Collecting httpx<1,>=0.23.0 (from openai)\n",
            "  Downloading httpx-0.25.1-py3-none-any.whl.metadata (7.1 kB)\n",
            "Requirement already satisfied: pydantic<3,>=1.9.0 in ./Library/Python/3.9/lib/python/site-packages (from openai) (2.4.2)\n",
            "Requirement already satisfied: tqdm>4 in ./Library/Python/3.9/lib/python/site-packages (from openai) (4.66.1)\n",
            "Requirement already satisfied: typing-extensions<5,>=4.5 in ./Library/Python/3.9/lib/python/site-packages (from openai) (4.8.0)\n",
            "Requirement already satisfied: idna>=2.8 in ./Library/Python/3.9/lib/python/site-packages (from anyio<4,>=3.5.0->openai) (3.4)\n",
            "Requirement already satisfied: sniffio>=1.1 in ./Library/Python/3.9/lib/python/site-packages (from anyio<4,>=3.5.0->openai) (1.3.0)\n",
            "Requirement already satisfied: exceptiongroup in ./Library/Python/3.9/lib/python/site-packages (from anyio<4,>=3.5.0->openai) (1.1.3)\n",
            "Requirement already satisfied: certifi in ./Library/Python/3.9/lib/python/site-packages (from httpx<1,>=0.23.0->openai) (2023.7.22)\n",
            "Collecting httpcore (from httpx<1,>=0.23.0->openai)\n",
            "  Downloading httpcore-1.0.1-py3-none-any.whl.metadata (20 kB)\n",
            "Requirement already satisfied: annotated-types>=0.4.0 in ./Library/Python/3.9/lib/python/site-packages (from pydantic<3,>=1.9.0->openai) (0.6.0)\n",
            "Requirement already satisfied: pydantic-core==2.10.1 in ./Library/Python/3.9/lib/python/site-packages (from pydantic<3,>=1.9.0->openai) (2.10.1)\n",
            "Collecting h11<0.15,>=0.13 (from httpcore->httpx<1,>=0.23.0->openai)\n",
            "  Downloading h11-0.14.0-py3-none-any.whl (58 kB)\n",
            "\u001b[2K     \u001b[38;2;114;156;31m━━━━━━━━━━━━━━━━━━━━━━━━━━━━━━━━━━━━━━━━\u001b[0m \u001b[32m58.3/58.3 kB\u001b[0m \u001b[31m2.8 MB/s\u001b[0m eta \u001b[36m0:00:00\u001b[0m\n",
            "\u001b[?25hDownloading openai-1.1.1-py3-none-any.whl (217 kB)\n",
            "\u001b[2K   \u001b[38;2;114;156;31m━━━━━━━━━━━━━━━━━━━━━━━━━━━━━━━━━━━━━━━━\u001b[0m \u001b[32m217.8/217.8 kB\u001b[0m \u001b[31m7.6 MB/s\u001b[0m eta \u001b[36m0:00:00\u001b[0m\n",
            "\u001b[?25hDownloading httpx-0.25.1-py3-none-any.whl (75 kB)\n",
            "\u001b[2K   \u001b[38;2;114;156;31m━━━━━━━━━━━━━━━━━━━━━━━━━━━━━━━━━━━━━━━━\u001b[0m \u001b[32m75.0/75.0 kB\u001b[0m \u001b[31m7.5 MB/s\u001b[0m eta \u001b[36m0:00:00\u001b[0m\n",
            "\u001b[?25hDownloading httpcore-1.0.1-py3-none-any.whl (76 kB)\n",
            "\u001b[2K   \u001b[38;2;114;156;31m━━━━━━━━━━━━━━━━━━━━━━━━━━━━━━━━━━━━━━━━\u001b[0m \u001b[32m76.9/76.9 kB\u001b[0m \u001b[31m6.7 MB/s\u001b[0m eta \u001b[36m0:00:00\u001b[0m\n",
            "\u001b[?25hInstalling collected packages: h11, distro, httpcore, httpx, openai\n",
            "  Attempting uninstall: openai\n",
            "    Found existing installation: openai 0.28.1\n",
            "    Uninstalling openai-0.28.1:\n",
            "      Successfully uninstalled openai-0.28.1\n",
            "Successfully installed distro-1.8.0 h11-0.14.0 httpcore-1.0.1 httpx-0.25.1 openai-1.1.1\n"
          ]
        }
      ]
    },
    {
      "cell_type": "code",
      "source": [
        "# @title Set up variables\n",
        "model = \"gpt-3.5-turbo\" # @param [\"gpt-3.5-turbo\", \"gpt-4\", \"gpt-4-1106-preview\"]\n",
        "system_content = \"You are expert in financial service product\" # @param {type:\"string\"}\n",
        "user_content = \"Compare the product offering of Brex vs. Ramp\" # @param {type:\"string\"}\n"
      ],
      "metadata": {
        "id": "LazHCcEWnv5u"
      },
      "execution_count": null,
      "outputs": []
    },
    {
      "cell_type": "code",
      "source": [
        "from openai import OpenAI\n",
        "\n",
        "# defaults to os.environ.get(\"OPENAI_API_KEY\")\n",
        "client = OpenAI()\n",
        "\n",
        "completion = client.chat.completions.create(\n",
        "  model = model,\n",
        "  messages = [\n",
        "    {\"role\": \"system\", \"content\": system_content},\n",
        "    {\"role\": \"user\", \"content\": user_content}\n",
        "  ]\n",
        ")\n",
        "\n",
        "print(completion.choices[0].message)"
      ],
      "metadata": {
        "id": "g5Wcr2WtjKYF",
        "outputId": "72ea70a0-1644-4b35-8118-db69f6f92008",
        "colab": {
          "base_uri": "https://localhost:8080/"
        }
      },
      "execution_count": null,
      "outputs": [
        {
          "output_type": "stream",
          "name": "stdout",
          "text": [
            "ChatCompletionMessage(content=\"Brex and Ramp are both innovative financial service companies that focus on providing solutions for businesses. While they target similar audiences, there are some key differences in their product offerings. \\n\\nBrex primarily offers a corporate card for startups and technology companies, whereas Ramp focuses on creating a comprehensive spend management platform. \\n\\nBrex's corporate card provides businesses with access to a line of credit based on their cash balance. It offers several unique features, including high credit limits, enhanced rewards on specific categories, and easy expense management through integrations with popular accounting software. Additionally, Brex offers expense management tools and benefits like built-in expense tracking, automated receipt matching, and ongoing rewards.\\n\\nOn the other hand, Ramp offers a suite of tools designed to help businesses gain control over their spending. Their primary product is a corporate card that provides real-time visibility and control over company-wide expenses. However, Ramp's key differentiator is its robust spend management platform, which includes features like automated expense reconciliation, spend analysis, virtual cards, and vendor management. This platform allows businesses to monitor and optimize their spend in a centralized and efficient manner.\\n\\nAnother key distinction between Brex and Ramp is their approach to fees. Brex charges a subscription fee based on the usage and size of the business, while offering interest-free credit lines. Ramp, however, aims to be fee-free and focuses on optimizing savings through intelligent spending analysis and negotiations with vendors to reduce costs.\\n\\nIn summary, Brex and Ramp offer different solutions for businesses. Brex primarily focuses on providing a corporate card with various benefits and features, while Ramp offers a comprehensive spend management platform with a corporate card at its core. Ultimately, the choice between the two would depend on the specific needs and priorities of the business.\", role='assistant', function_call=None, tool_calls=None)\n"
          ]
        }
      ]
    },
    {
      "cell_type": "code",
      "source": [
        "result = completion.choices[0].message.content\n",
        "print(result, end = \"\\n\")"
      ],
      "metadata": {
        "colab": {
          "base_uri": "https://localhost:8080/"
        },
        "id": "8AkpyYEB1-1t",
        "outputId": "45f03cd8-7526-47ec-9ae7-6104602d5934"
      },
      "execution_count": null,
      "outputs": [
        {
          "output_type": "stream",
          "name": "stdout",
          "text": [
            "Brex and Ramp are both innovative financial service companies that focus on providing solutions for businesses. While they target similar audiences, there are some key differences in their product offerings. \n",
            "\n",
            "Brex primarily offers a corporate card for startups and technology companies, whereas Ramp focuses on creating a comprehensive spend management platform. \n",
            "\n",
            "Brex's corporate card provides businesses with access to a line of credit based on their cash balance. It offers several unique features, including high credit limits, enhanced rewards on specific categories, and easy expense management through integrations with popular accounting software. Additionally, Brex offers expense management tools and benefits like built-in expense tracking, automated receipt matching, and ongoing rewards.\n",
            "\n",
            "On the other hand, Ramp offers a suite of tools designed to help businesses gain control over their spending. Their primary product is a corporate card that provides real-time visibility and control over company-wide expenses. However, Ramp's key differentiator is its robust spend management platform, which includes features like automated expense reconciliation, spend analysis, virtual cards, and vendor management. This platform allows businesses to monitor and optimize their spend in a centralized and efficient manner.\n",
            "\n",
            "Another key distinction between Brex and Ramp is their approach to fees. Brex charges a subscription fee based on the usage and size of the business, while offering interest-free credit lines. Ramp, however, aims to be fee-free and focuses on optimizing savings through intelligent spending analysis and negotiations with vendors to reduce costs.\n",
            "\n",
            "In summary, Brex and Ramp offer different solutions for businesses. Brex primarily focuses on providing a corporate card with various benefits and features, while Ramp offers a comprehensive spend management platform with a corporate card at its core. Ultimately, the choice between the two would depend on the specific needs and priorities of the business.\n"
          ]
        }
      ]
    },
    {
      "cell_type": "markdown",
      "source": [
        "# Reference\n",
        "\n",
        "\n",
        "1.   [OpenAI Developer quickstart](https://platform.openai.com/docs/quickstart?context=python)\n",
        "2.   [Install Jupyter](https://jupyter.org/install)\n",
        "\n",
        "\n"
      ],
      "metadata": {
        "id": "KqhnW7IleLjN"
      }
    }
  ]
}